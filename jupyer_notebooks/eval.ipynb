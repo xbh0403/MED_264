{
 "cells": [
  {
   "cell_type": "code",
   "execution_count": 6,
   "metadata": {},
   "outputs": [],
   "source": [
    "import pickle\n",
    "import pandas as pd\n",
    "from collections import defaultdict\n",
    "from tqdm import tqdm\n",
    "import matplotlib.pyplot as plt\n",
    "import seaborn as sns"
   ]
  },
  {
   "cell_type": "code",
   "execution_count": 2,
   "metadata": {},
   "outputs": [],
   "source": [
    "# Read in the prediction of the first 50 test_TPs, test_TNs, test_FPs, test_FNs from pickle file\n",
    "with open(\"../trans_inter_2/test_FNs_50_token_results.pkl\", \"rb\") as f:\n",
    "    preds_FNs = pickle.load(f)\n",
    "\n",
    "with open(\"../trans_inter_2/test_FPs_50_token_results.pkl\", \"rb\") as f:\n",
    "    preds_FPs = pickle.load(f)\n",
    "    \n",
    "with open(\"../trans_inter_2/test_TNs_50_token_results.pkl\", \"rb\") as f:\n",
    "    preds_TNs = pickle.load(f)\n",
    "    \n",
    "with open(\"../trans_inter_2/test_TPs_50_token_results.pkl\", \"rb\") as f:\n",
    "    preds_TPs = pickle.load(f)"
   ]
  },
  {
   "cell_type": "code",
   "execution_count": 3,
   "metadata": {},
   "outputs": [],
   "source": [
    "result = defaultdict(list)\n",
    "\n",
    "# Store the prediction results in a dictionary with index as key and prediction as value\n",
    "# The dictionary has the following format:\n",
    "# 'test_FNs_50_token_results': List(str), 'test_FNs_50_orig_index': List(int)\n",
    "\n",
    "for i in range(50):\n",
    "    result[preds_FNs['test_FNs_50_orig_index'][i]] = preds_FNs['test_FNs_50_token_results'][i]\n",
    "    result[preds_FPs['test_FPs_50_orig_index'][i]] = preds_FPs['test_FPs_50_token_results'][i]\n",
    "    result[preds_TNs['test_TNs_50_orig_index'][i]] = preds_TNs['test_TNs_50_token_results'][i]\n",
    "    result[preds_TPs['test_TPs_50_orig_index'][i]] = preds_TPs['test_TPs_50_token_results'][i]"
   ]
  },
  {
   "cell_type": "code",
   "execution_count": 21,
   "metadata": {},
   "outputs": [
    {
     "data": {
      "text/html": [
       "<div>\n",
       "<style scoped>\n",
       "    .dataframe tbody tr th:only-of-type {\n",
       "        vertical-align: middle;\n",
       "    }\n",
       "\n",
       "    .dataframe tbody tr th {\n",
       "        vertical-align: top;\n",
       "    }\n",
       "\n",
       "    .dataframe thead th {\n",
       "        text-align: right;\n",
       "    }\n",
       "</style>\n",
       "<table border=\"1\" class=\"dataframe\">\n",
       "  <thead>\n",
       "    <tr style=\"text-align: right;\">\n",
       "      <th></th>\n",
       "      <th>TEXT</th>\n",
       "      <th>Label</th>\n",
       "      <th>ID</th>\n",
       "      <th>token_prediction</th>\n",
       "    </tr>\n",
       "  </thead>\n",
       "  <tbody>\n",
       "    <tr>\n",
       "      <th>812</th>\n",
       "      <td>ventricularly paced rhythm at 84 beats per min...</td>\n",
       "      <td>0</td>\n",
       "      <td>100561</td>\n",
       "      <td>[([CLS], 0.0), (vent, 0.0006171420100145042), ...</td>\n",
       "    </tr>\n",
       "    <tr>\n",
       "      <th>2787</th>\n",
       "      <td>prior study, as well. sinus rhythm. first degr...</td>\n",
       "      <td>1</td>\n",
       "      <td>101809</td>\n",
       "      <td>[([CLS], -0.0), (prior, -0.005006167571991682)...</td>\n",
       "    </tr>\n",
       "    <tr>\n",
       "      <th>3074</th>\n",
       "      <td>with clots. bronch showed tumor in trachea wit...</td>\n",
       "      <td>1</td>\n",
       "      <td>102048</td>\n",
       "      <td>[([CLS], -0.0), (with, -0.6640259623527527), (...</td>\n",
       "    </tr>\n",
       "    <tr>\n",
       "      <th>3077</th>\n",
       "      <td>atrial fibrillation with controlled ventricula...</td>\n",
       "      <td>1</td>\n",
       "      <td>102051</td>\n",
       "      <td>[([CLS], -0.0), (at, -0.07830920815467834), (#...</td>\n",
       "    </tr>\n",
       "    <tr>\n",
       "      <th>3079</th>\n",
       "      <td>aortic stenosis is present (not quantified). n...</td>\n",
       "      <td>1</td>\n",
       "      <td>102051</td>\n",
       "      <td>[([CLS], -0.0), (ao, -0.0058800410479307175), ...</td>\n",
       "    </tr>\n",
       "    <tr>\n",
       "      <th>...</th>\n",
       "      <td>...</td>\n",
       "      <td>...</td>\n",
       "      <td>...</td>\n",
       "      <td>...</td>\n",
       "    </tr>\n",
       "    <tr>\n",
       "      <th>143993</th>\n",
       "      <td>labs as patient s access is very poor. copious...</td>\n",
       "      <td>0</td>\n",
       "      <td>197319</td>\n",
       "      <td>[([CLS], -0.0), (labs, -0.01429797150194645), ...</td>\n",
       "    </tr>\n",
       "    <tr>\n",
       "      <th>144610</th>\n",
       "      <td>comments: portable ap radiograph of the chest ...</td>\n",
       "      <td>1</td>\n",
       "      <td>197746</td>\n",
       "      <td>[([CLS], -0.0), (comments, -0.0019324382301419...</td>\n",
       "    </tr>\n",
       "    <tr>\n",
       "      <th>146509</th>\n",
       "      <td>with doctor (medicine resident) at 4:50 p.m. o...</td>\n",
       "      <td>1</td>\n",
       "      <td>199321</td>\n",
       "      <td>[([CLS], 0.0), (with, 0.043522581458091736), (...</td>\n",
       "    </tr>\n",
       "    <tr>\n",
       "      <th>146799</th>\n",
       "      <td>multiple basilar skull fractures as described....</td>\n",
       "      <td>1</td>\n",
       "      <td>199479</td>\n",
       "      <td>[([CLS], 0.0), (multiple, 0.03875536471605301)...</td>\n",
       "    </tr>\n",
       "    <tr>\n",
       "      <th>147304</th>\n",
       "      <td>sinus rhythm with probable sinus arrhythmia le...</td>\n",
       "      <td>0</td>\n",
       "      <td>199767</td>\n",
       "      <td>[([CLS], -0.0), (sin, -0.01400740072131157), (...</td>\n",
       "    </tr>\n",
       "  </tbody>\n",
       "</table>\n",
       "<p>200 rows × 4 columns</p>\n",
       "</div>"
      ],
      "text/plain": [
       "                                                     TEXT  Label      ID  \\\n",
       "812     ventricularly paced rhythm at 84 beats per min...      0  100561   \n",
       "2787    prior study, as well. sinus rhythm. first degr...      1  101809   \n",
       "3074    with clots. bronch showed tumor in trachea wit...      1  102048   \n",
       "3077    atrial fibrillation with controlled ventricula...      1  102051   \n",
       "3079    aortic stenosis is present (not quantified). n...      1  102051   \n",
       "...                                                   ...    ...     ...   \n",
       "143993  labs as patient s access is very poor. copious...      0  197319   \n",
       "144610  comments: portable ap radiograph of the chest ...      1  197746   \n",
       "146509  with doctor (medicine resident) at 4:50 p.m. o...      1  199321   \n",
       "146799  multiple basilar skull fractures as described....      1  199479   \n",
       "147304  sinus rhythm with probable sinus arrhythmia le...      0  199767   \n",
       "\n",
       "                                         token_prediction  \n",
       "812     [([CLS], 0.0), (vent, 0.0006171420100145042), ...  \n",
       "2787    [([CLS], -0.0), (prior, -0.005006167571991682)...  \n",
       "3074    [([CLS], -0.0), (with, -0.6640259623527527), (...  \n",
       "3077    [([CLS], -0.0), (at, -0.07830920815467834), (#...  \n",
       "3079    [([CLS], -0.0), (ao, -0.0058800410479307175), ...  \n",
       "...                                                   ...  \n",
       "143993  [([CLS], -0.0), (labs, -0.01429797150194645), ...  \n",
       "144610  [([CLS], -0.0), (comments, -0.0019324382301419...  \n",
       "146509  [([CLS], 0.0), (with, 0.043522581458091736), (...  \n",
       "146799  [([CLS], 0.0), (multiple, 0.03875536471605301)...  \n",
       "147304  [([CLS], -0.0), (sin, -0.01400740072131157), (...  \n",
       "\n",
       "[200 rows x 4 columns]"
      ]
     },
     "execution_count": 21,
     "metadata": {},
     "output_type": "execute_result"
    }
   ],
   "source": [
    "df = pd.read_csv('../Dataset1/day1_30mortality_test.csv', index_col=0)\n",
    "\n",
    "# Create a new column 'token_prediction' in the dataframe\n",
    "df['token_prediction'] = df.index.map(result)\n",
    "# Remove the rows with empty list in 'token_prediction'\n",
    "df = df[df['token_prediction'].map(lambda d: len(d)) > 0]\n",
    "df"
   ]
  },
  {
   "cell_type": "code",
   "execution_count": 23,
   "metadata": {},
   "outputs": [
    {
     "name": "stderr",
     "output_type": "stream",
     "text": [
      "  0%|          | 0/200 [00:00<?, ?it/s]"
     ]
    },
    {
     "name": "stderr",
     "output_type": "stream",
     "text": [
      "100%|██████████| 200/200 [04:37<00:00,  1.39s/it]\n"
     ]
    }
   ],
   "source": [
    "from openai import OpenAI\n",
    "from tqdm import tqdm\n",
    "client = OpenAI(api_key = \"<API_KEY>\") # Replace with your API key\n",
    "def func(row):\n",
    "    while True:\n",
    "        response = client.chat.completions.create(\n",
    "        model=\"gpt-3.5-turbo\",\n",
    "        temperature=0.1,\n",
    "        messages=[\n",
    "            {\"role\": \"system\", \"content\": \"\"\"You are a medical doctor. Your task is to list and order the top 10 words from the patient's medical note that are critical to deciding the 30 day mortality of the patient. \n",
    "             OUTPUT FORMAT: Answer only as a python list. Do not include any explanation.\"\"\"},\n",
    "            {\"role\": \"user\", \"content\": f\"\"\"MEDICAL NOTE:\\n {row['TEXT']}\"\"\"}\n",
    "        ]\n",
    "        )\n",
    "        # Check if eval returns list. If not, try again\n",
    "        try:\n",
    "            response.choices[0].message.content = eval(response.choices[0].message.content) \n",
    "            break   \n",
    "        except:\n",
    "            \n",
    "            pass\n",
    "        \n",
    "    final[row['ID']] = response.choices[0].message.content\n",
    "     \n",
    "    if len(final) % 40 == 0:\n",
    "        with open('gpt_ground_truth_v2.pkl', 'wb') as f:\n",
    "            pickle.dump(final, f)\n",
    "        \n",
    "    return response.choices[0].message.content\n",
    "            \n",
    "final = defaultdict(str)\n",
    "\n",
    "tqdm.pandas()\n",
    "df['ground_truth'] = df.progress_apply(func, axis=1)\n",
    "\n",
    "# Save the dataframe as csv file\n",
    "df.to_csv('day1_30mortality_test_gpt.csv')"
   ]
  },
  {
   "cell_type": "code",
   "execution_count": 24,
   "metadata": {},
   "outputs": [
    {
     "data": {
      "text/html": [
       "<div>\n",
       "<style scoped>\n",
       "    .dataframe tbody tr th:only-of-type {\n",
       "        vertical-align: middle;\n",
       "    }\n",
       "\n",
       "    .dataframe tbody tr th {\n",
       "        vertical-align: top;\n",
       "    }\n",
       "\n",
       "    .dataframe thead th {\n",
       "        text-align: right;\n",
       "    }\n",
       "</style>\n",
       "<table border=\"1\" class=\"dataframe\">\n",
       "  <thead>\n",
       "    <tr style=\"text-align: right;\">\n",
       "      <th></th>\n",
       "      <th>TEXT</th>\n",
       "      <th>Label</th>\n",
       "      <th>ID</th>\n",
       "      <th>token_prediction</th>\n",
       "      <th>ground_truth</th>\n",
       "    </tr>\n",
       "  </thead>\n",
       "  <tbody>\n",
       "  </tbody>\n",
       "</table>\n",
       "</div>"
      ],
      "text/plain": [
       "Empty DataFrame\n",
       "Columns: [TEXT, Label, ID, token_prediction, ground_truth]\n",
       "Index: []"
      ]
     },
     "execution_count": 24,
     "metadata": {},
     "output_type": "execute_result"
    }
   ],
   "source": [
    "# Check how many rows are of not list type\n",
    "df[~df['ground_truth'].map(lambda d: isinstance(d, list))]"
   ]
  },
  {
   "cell_type": "code",
   "execution_count": 25,
   "metadata": {},
   "outputs": [],
   "source": []
  },
  {
   "cell_type": "code",
   "execution_count": 4,
   "metadata": {},
   "outputs": [
    {
     "name": "stdout",
     "output_type": "stream",
     "text": [
      "Mean Reciprocal Rank:  0.4499900793650793\n",
      "Precision @ K:  0.03499999999999999\n",
      "Mean Average Precision:  0.8328280651340996\n"
     ]
    }
   ],
   "source": [
    "df = pd.read_csv('day1_30mortality_test_gpt.csv', index_col=0)\n",
    "df['ground_truth'] = df['ground_truth'].map(eval)\n",
    "df['token_prediction'] = df['token_prediction'].map(eval)\n",
    "\n",
    "\n",
    "def remove_special_char(row):\n",
    "    import re\n",
    "    # row['token_prediction'] is a list of tuples (word, probability). \n",
    "    # Sort the list based on probability\n",
    "    row['token_prediction'].sort(key=lambda x: x[1], reverse=True)\n",
    "    words = [i for i, j in row['token_prediction']]\n",
    "    # Remove special characters\n",
    "    words = [re.sub('[^A-Za-z0-9]+', '', word) for word in words]\n",
    "    return words    \n",
    "    \n",
    "df['token_prediction'] = df.apply(remove_special_char, axis=1)\n",
    "\n",
    "def count_words(row):\n",
    "    return len(set(row['ground_truth']).intersection(row['token_prediction']))\n",
    "\n",
    "df['count'] = df.apply(count_words, axis=1)\n",
    "\n",
    "# Function to calculate MRR across the whole dataset\n",
    "def calculate_mrr(df):\n",
    "    total_mrr = 0\n",
    "    for i in range(len(df)):\n",
    "        reciprocal_rank = 0\n",
    "        ground_truth = df.iloc[i]['ground_truth']\n",
    "        token_prediction = df.iloc[i]['token_prediction']\n",
    "        \n",
    "        for j in range(len(ground_truth)):\n",
    "            if ground_truth[j] in token_prediction:\n",
    "                reciprocal_rank += 1/(j+1)\n",
    "                break\n",
    "        total_mrr += reciprocal_rank\n",
    "\n",
    "    return total_mrr/len(df)\n",
    "\n",
    "# Function to calculate Precision@k across the whole dataset\n",
    "def calculate_precision(df, k):\n",
    "    total_precision = 0\n",
    "    for i in range(len(df)):\n",
    "        ground_truth = df.iloc[i]['ground_truth']\n",
    "        token_prediction = df.iloc[i]['token_prediction']\n",
    "        precision = 0\n",
    "        for j in range(k):\n",
    "            if token_prediction[j] in ground_truth:\n",
    "                precision += 1\n",
    "        total_precision += precision/k\n",
    "\n",
    "    return total_precision/len(df)\n",
    "\n",
    "# Function to calculate Average Precision across the whole dataset\n",
    "def calculate_average_precision(df):\n",
    "    total_average_precision = 0\n",
    "    for i in range(len(df)):\n",
    "        ground_truth = df.iloc[i]['ground_truth']\n",
    "        token_prediction = df.iloc[i]['token_prediction']\n",
    "        average_precision = 0\n",
    "        for j in range(len(token_prediction)):\n",
    "            if token_prediction[j] in ground_truth:\n",
    "                average_precision += (j+1)/(j+1)\n",
    "        total_average_precision += average_precision/len(ground_truth)\n",
    "\n",
    "    return total_average_precision/len(df)\n",
    "\n",
    "\n",
    "print('Mean Reciprocal Rank: ', calculate_mrr(df))\n",
    "print('Precision @ K: ', calculate_precision(df, 10))\n",
    "print('Mean Average Precision: ', calculate_average_precision(df))"
   ]
  },
  {
   "cell_type": "code",
   "execution_count": 76,
   "metadata": {},
   "outputs": [
    {
     "data": {
      "text/plain": [
       "0.03302647587702432"
      ]
     },
     "execution_count": 76,
     "metadata": {},
     "output_type": "execute_result"
    }
   ],
   "source": [
    "# Calculate MRR of the whole dataset\n",
    "df['mrr'].mean()"
   ]
  },
  {
   "cell_type": "code",
   "execution_count": 7,
   "metadata": {},
   "outputs": [
    {
     "data": {
      "image/png": "[encoded data removed]",
      "text/plain": [
       "<Figure size 1170x827 with 1 Axes>"
      ]
     },
     "metadata": {},
     "output_type": "display_data"
    }
   ],
   "source": [
    "# Plot the distribution of the number of words from the ground truth that are in the token prediction\n",
    "\n",
    "sns.set_theme(style=\"whitegrid\")\n",
    "sns.set(rc={'figure.figsize':(11.7,8.27)})\n",
    "sns.set(font_scale=1.5)\n",
    "\n",
    "ax = sns.countplot(x=\"count\", data=df)\n",
    "ax.set(xlabel='Number of words from the GPT-3 results that are in Explainability results', ylabel='Number of patient notes')\n",
    "plt.show()\n"
   ]
  },
  {
   "cell_type": "code",
   "execution_count": 73,
   "metadata": {},
   "outputs": [
    {
     "name": "stderr",
     "output_type": "stream",
     "text": [
      "/var/folders/yw/91gjyrms7zx1tjywmz45vsmh0000gn/T/ipykernel_65241/3676026962.py:2: UserWarning: \n",
      "\n",
      "`distplot` is a deprecated function and will be removed in seaborn v0.14.0.\n",
      "\n",
      "Please adapt your code to use either `displot` (a figure-level function with\n",
      "similar flexibility) or `histplot` (an axes-level function for histograms).\n",
      "\n",
      "For a guide to updating your code to use the new functions, please see\n",
      "https://gist.github.com/mwaskom/de44147ed2974457ad6372750bbe5751\n",
      "\n",
      "  ax = sns.distplot(df['cosine_similarity'], kde=False)\n"
     ]
    },
    {
     "data": {
      "image/png": "[encoded data removed]",
      "text/plain": [
       "<Figure size 1170x827 with 1 Axes>"
      ]
     },
     "metadata": {},
     "output_type": "display_data"
    }
   ],
   "source": [
    "# Plot the distribution of the cosine similarity\n",
    "ax = sns.distplot(df['cosine_similarity'], kde=False)\n",
    "ax.set(xlabel='Cosine similarity', ylabel='Count')\n",
    "plt.show()"
   ]
  },
  {
   "cell_type": "code",
   "execution_count": 28,
   "metadata": {},
   "outputs": [
    {
     "data": {
      "text/plain": [
       "count\n",
       "5    37\n",
       "4    33\n",
       "3    29\n",
       "2    27\n",
       "1    24\n",
       "6    23\n",
       "0    14\n",
       "7    10\n",
       "8     2\n",
       "9     1\n",
       "Name: count, dtype: int64"
      ]
     },
     "execution_count": 28,
     "metadata": {},
     "output_type": "execute_result"
    }
   ],
   "source": [
    "df['count'].value_counts()"
   ]
  },
  {
   "cell_type": "code",
   "execution_count": 16,
   "metadata": {},
   "outputs": [
    {
     "name": "stdout",
     "output_type": "stream",
     "text": [
      "<class 'list'>\n"
     ]
    },
    {
     "ename": "ValueError",
     "evalue": "could not convert string to float: '[CLS]'",
     "output_type": "error",
     "traceback": [
      "\u001b[0;31m---------------------------------------------------------------------------\u001b[0m",
      "\u001b[0;31mValueError\u001b[0m                                Traceback (most recent call last)",
      "\u001b[1;32m/Users/rishi/Downloads/MED 264/Project/eval.ipynb Cell 8\u001b[0m line \u001b[0;36m2\n\u001b[1;32m     <a href='vscode-notebook-cell:/Users/rishi/Downloads/MED%20264/Project/eval.ipynb#W5sZmlsZQ%3D%3D?line=22'>23</a>\u001b[0m     \u001b[39m# Calculate the jaccard similarity between token_prediction and ground_truth\u001b[39;00m\n\u001b[1;32m     <a href='vscode-notebook-cell:/Users/rishi/Downloads/MED%20264/Project/eval.ipynb#W5sZmlsZQ%3D%3D?line=23'>24</a>\u001b[0m     \u001b[39mreturn\u001b[39;00m jaccard_score(token_prediction, row[\u001b[39m'\u001b[39m\u001b[39mground_truth\u001b[39m\u001b[39m'\u001b[39m], average\u001b[39m=\u001b[39m\u001b[39m'\u001b[39m\u001b[39mmacro\u001b[39m\u001b[39m'\u001b[39m)\n\u001b[0;32m---> <a href='vscode-notebook-cell:/Users/rishi/Downloads/MED%20264/Project/eval.ipynb#W5sZmlsZQ%3D%3D?line=25'>26</a>\u001b[0m df[\u001b[39m'\u001b[39m\u001b[39mcosine_sim\u001b[39m\u001b[39m'\u001b[39m] \u001b[39m=\u001b[39m df\u001b[39m.\u001b[39;49mapply(cosine_sim, axis\u001b[39m=\u001b[39;49m\u001b[39m1\u001b[39;49m)\n\u001b[1;32m     <a href='vscode-notebook-cell:/Users/rishi/Downloads/MED%20264/Project/eval.ipynb#W5sZmlsZQ%3D%3D?line=26'>27</a>\u001b[0m df[\u001b[39m'\u001b[39m\u001b[39mjaccard_sim\u001b[39m\u001b[39m'\u001b[39m] \u001b[39m=\u001b[39m df\u001b[39m.\u001b[39mapply(jaccard_sim, axis\u001b[39m=\u001b[39m\u001b[39m1\u001b[39m)\n\u001b[1;32m     <a href='vscode-notebook-cell:/Users/rishi/Downloads/MED%20264/Project/eval.ipynb#W5sZmlsZQ%3D%3D?line=28'>29</a>\u001b[0m \u001b[39m# Calculate the cummulative scores for each metric\u001b[39;00m\n",
      "File \u001b[0;32m~/anaconda3/lib/python3.10/site-packages/pandas/core/frame.py:9423\u001b[0m, in \u001b[0;36mDataFrame.apply\u001b[0;34m(self, func, axis, raw, result_type, args, **kwargs)\u001b[0m\n\u001b[1;32m   9412\u001b[0m \u001b[39mfrom\u001b[39;00m \u001b[39mpandas\u001b[39;00m\u001b[39m.\u001b[39;00m\u001b[39mcore\u001b[39;00m\u001b[39m.\u001b[39;00m\u001b[39mapply\u001b[39;00m \u001b[39mimport\u001b[39;00m frame_apply\n\u001b[1;32m   9414\u001b[0m op \u001b[39m=\u001b[39m frame_apply(\n\u001b[1;32m   9415\u001b[0m     \u001b[39mself\u001b[39m,\n\u001b[1;32m   9416\u001b[0m     func\u001b[39m=\u001b[39mfunc,\n\u001b[0;32m   (...)\u001b[0m\n\u001b[1;32m   9421\u001b[0m     kwargs\u001b[39m=\u001b[39mkwargs,\n\u001b[1;32m   9422\u001b[0m )\n\u001b[0;32m-> 9423\u001b[0m \u001b[39mreturn\u001b[39;00m op\u001b[39m.\u001b[39;49mapply()\u001b[39m.\u001b[39m__finalize__(\u001b[39mself\u001b[39m, method\u001b[39m=\u001b[39m\u001b[39m\"\u001b[39m\u001b[39mapply\u001b[39m\u001b[39m\"\u001b[39m)\n",
      "File \u001b[0;32m~/anaconda3/lib/python3.10/site-packages/pandas/core/apply.py:678\u001b[0m, in \u001b[0;36mFrameApply.apply\u001b[0;34m(self)\u001b[0m\n\u001b[1;32m    675\u001b[0m \u001b[39melif\u001b[39;00m \u001b[39mself\u001b[39m\u001b[39m.\u001b[39mraw:\n\u001b[1;32m    676\u001b[0m     \u001b[39mreturn\u001b[39;00m \u001b[39mself\u001b[39m\u001b[39m.\u001b[39mapply_raw()\n\u001b[0;32m--> 678\u001b[0m \u001b[39mreturn\u001b[39;00m \u001b[39mself\u001b[39;49m\u001b[39m.\u001b[39;49mapply_standard()\n",
      "File \u001b[0;32m~/anaconda3/lib/python3.10/site-packages/pandas/core/apply.py:798\u001b[0m, in \u001b[0;36mFrameApply.apply_standard\u001b[0;34m(self)\u001b[0m\n\u001b[1;32m    797\u001b[0m \u001b[39mdef\u001b[39;00m \u001b[39mapply_standard\u001b[39m(\u001b[39mself\u001b[39m):\n\u001b[0;32m--> 798\u001b[0m     results, res_index \u001b[39m=\u001b[39m \u001b[39mself\u001b[39;49m\u001b[39m.\u001b[39;49mapply_series_generator()\n\u001b[1;32m    800\u001b[0m     \u001b[39m# wrap results\u001b[39;00m\n\u001b[1;32m    801\u001b[0m     \u001b[39mreturn\u001b[39;00m \u001b[39mself\u001b[39m\u001b[39m.\u001b[39mwrap_results(results, res_index)\n",
      "File \u001b[0;32m~/anaconda3/lib/python3.10/site-packages/pandas/core/apply.py:814\u001b[0m, in \u001b[0;36mFrameApply.apply_series_generator\u001b[0;34m(self)\u001b[0m\n\u001b[1;32m    811\u001b[0m \u001b[39mwith\u001b[39;00m option_context(\u001b[39m\"\u001b[39m\u001b[39mmode.chained_assignment\u001b[39m\u001b[39m\"\u001b[39m, \u001b[39mNone\u001b[39;00m):\n\u001b[1;32m    812\u001b[0m     \u001b[39mfor\u001b[39;00m i, v \u001b[39min\u001b[39;00m \u001b[39menumerate\u001b[39m(series_gen):\n\u001b[1;32m    813\u001b[0m         \u001b[39m# ignore SettingWithCopy here in case the user mutates\u001b[39;00m\n\u001b[0;32m--> 814\u001b[0m         results[i] \u001b[39m=\u001b[39m \u001b[39mself\u001b[39;49m\u001b[39m.\u001b[39;49mf(v)\n\u001b[1;32m    815\u001b[0m         \u001b[39mif\u001b[39;00m \u001b[39misinstance\u001b[39m(results[i], ABCSeries):\n\u001b[1;32m    816\u001b[0m             \u001b[39m# If we have a view on v, we need to make a copy because\u001b[39;00m\n\u001b[1;32m    817\u001b[0m             \u001b[39m#  series_generator will swap out the underlying data\u001b[39;00m\n\u001b[1;32m    818\u001b[0m             results[i] \u001b[39m=\u001b[39m results[i]\u001b[39m.\u001b[39mcopy(deep\u001b[39m=\u001b[39m\u001b[39mFalse\u001b[39;00m)\n",
      "\u001b[1;32m/Users/rishi/Downloads/MED 264/Project/eval.ipynb Cell 8\u001b[0m line \u001b[0;36m1\n\u001b[1;32m     <a href='vscode-notebook-cell:/Users/rishi/Downloads/MED%20264/Project/eval.ipynb#W5sZmlsZQ%3D%3D?line=14'>15</a>\u001b[0m token_prediction \u001b[39m=\u001b[39m [word[\u001b[39m0\u001b[39m] \u001b[39mfor\u001b[39;00m word \u001b[39min\u001b[39;00m row[\u001b[39m'\u001b[39m\u001b[39mtoken_prediction\u001b[39m\u001b[39m'\u001b[39m]]\n\u001b[1;32m     <a href='vscode-notebook-cell:/Users/rishi/Downloads/MED%20264/Project/eval.ipynb#W5sZmlsZQ%3D%3D?line=15'>16</a>\u001b[0m \u001b[39m# Calculate the cosine similarity between token_prediction and ground_truth\u001b[39;00m\n\u001b[0;32m---> <a href='vscode-notebook-cell:/Users/rishi/Downloads/MED%20264/Project/eval.ipynb#W5sZmlsZQ%3D%3D?line=16'>17</a>\u001b[0m \u001b[39mreturn\u001b[39;00m cosine_similarity([token_prediction], [row[\u001b[39m'\u001b[39;49m\u001b[39mground_truth\u001b[39;49m\u001b[39m'\u001b[39;49m]])[\u001b[39m0\u001b[39m][\u001b[39m0\u001b[39m]\n",
      "File \u001b[0;32m~/anaconda3/lib/python3.10/site-packages/sklearn/metrics/pairwise.py:1393\u001b[0m, in \u001b[0;36mcosine_similarity\u001b[0;34m(X, Y, dense_output)\u001b[0m\n\u001b[1;32m   1358\u001b[0m \u001b[39m\u001b[39m\u001b[39m\"\"\"Compute cosine similarity between samples in X and Y.\u001b[39;00m\n\u001b[1;32m   1359\u001b[0m \n\u001b[1;32m   1360\u001b[0m \u001b[39mCosine similarity, or the cosine kernel, computes similarity as the\u001b[39;00m\n\u001b[0;32m   (...)\u001b[0m\n\u001b[1;32m   1389\u001b[0m \u001b[39m    Returns the cosine similarity between samples in X and Y.\u001b[39;00m\n\u001b[1;32m   1390\u001b[0m \u001b[39m\"\"\"\u001b[39;00m\n\u001b[1;32m   1391\u001b[0m \u001b[39m# to avoid recursive import\u001b[39;00m\n\u001b[0;32m-> 1393\u001b[0m X, Y \u001b[39m=\u001b[39m check_pairwise_arrays(X, Y)\n\u001b[1;32m   1395\u001b[0m X_normalized \u001b[39m=\u001b[39m normalize(X, copy\u001b[39m=\u001b[39m\u001b[39mTrue\u001b[39;00m)\n\u001b[1;32m   1396\u001b[0m \u001b[39mif\u001b[39;00m X \u001b[39mis\u001b[39;00m Y:\n",
      "File \u001b[0;32m~/anaconda3/lib/python3.10/site-packages/sklearn/metrics/pairwise.py:155\u001b[0m, in \u001b[0;36mcheck_pairwise_arrays\u001b[0;34m(X, Y, precomputed, dtype, accept_sparse, force_all_finite, copy)\u001b[0m\n\u001b[1;32m    146\u001b[0m     X \u001b[39m=\u001b[39m Y \u001b[39m=\u001b[39m check_array(\n\u001b[1;32m    147\u001b[0m         X,\n\u001b[1;32m    148\u001b[0m         accept_sparse\u001b[39m=\u001b[39maccept_sparse,\n\u001b[0;32m   (...)\u001b[0m\n\u001b[1;32m    152\u001b[0m         estimator\u001b[39m=\u001b[39mestimator,\n\u001b[1;32m    153\u001b[0m     )\n\u001b[1;32m    154\u001b[0m \u001b[39melse\u001b[39;00m:\n\u001b[0;32m--> 155\u001b[0m     X \u001b[39m=\u001b[39m check_array(\n\u001b[1;32m    156\u001b[0m         X,\n\u001b[1;32m    157\u001b[0m         accept_sparse\u001b[39m=\u001b[39;49maccept_sparse,\n\u001b[1;32m    158\u001b[0m         dtype\u001b[39m=\u001b[39;49mdtype,\n\u001b[1;32m    159\u001b[0m         copy\u001b[39m=\u001b[39;49mcopy,\n\u001b[1;32m    160\u001b[0m         force_all_finite\u001b[39m=\u001b[39;49mforce_all_finite,\n\u001b[1;32m    161\u001b[0m         estimator\u001b[39m=\u001b[39;49mestimator,\n\u001b[1;32m    162\u001b[0m     )\n\u001b[1;32m    163\u001b[0m     Y \u001b[39m=\u001b[39m check_array(\n\u001b[1;32m    164\u001b[0m         Y,\n\u001b[1;32m    165\u001b[0m         accept_sparse\u001b[39m=\u001b[39maccept_sparse,\n\u001b[0;32m   (...)\u001b[0m\n\u001b[1;32m    169\u001b[0m         estimator\u001b[39m=\u001b[39mestimator,\n\u001b[1;32m    170\u001b[0m     )\n\u001b[1;32m    172\u001b[0m \u001b[39mif\u001b[39;00m precomputed:\n",
      "File \u001b[0;32m~/anaconda3/lib/python3.10/site-packages/sklearn/utils/validation.py:879\u001b[0m, in \u001b[0;36mcheck_array\u001b[0;34m(array, accept_sparse, accept_large_sparse, dtype, order, copy, force_all_finite, ensure_2d, allow_nd, ensure_min_samples, ensure_min_features, estimator, input_name)\u001b[0m\n\u001b[1;32m    877\u001b[0m         array \u001b[39m=\u001b[39m xp\u001b[39m.\u001b[39mastype(array, dtype, copy\u001b[39m=\u001b[39m\u001b[39mFalse\u001b[39;00m)\n\u001b[1;32m    878\u001b[0m     \u001b[39melse\u001b[39;00m:\n\u001b[0;32m--> 879\u001b[0m         array \u001b[39m=\u001b[39m _asarray_with_order(array, order\u001b[39m=\u001b[39;49morder, dtype\u001b[39m=\u001b[39;49mdtype, xp\u001b[39m=\u001b[39;49mxp)\n\u001b[1;32m    880\u001b[0m \u001b[39mexcept\u001b[39;00m ComplexWarning \u001b[39mas\u001b[39;00m complex_warning:\n\u001b[1;32m    881\u001b[0m     \u001b[39mraise\u001b[39;00m \u001b[39mValueError\u001b[39;00m(\n\u001b[1;32m    882\u001b[0m         \u001b[39m\"\u001b[39m\u001b[39mComplex data not supported\u001b[39m\u001b[39m\\n\u001b[39;00m\u001b[39m{}\u001b[39;00m\u001b[39m\\n\u001b[39;00m\u001b[39m\"\u001b[39m\u001b[39m.\u001b[39mformat(array)\n\u001b[1;32m    883\u001b[0m     ) \u001b[39mfrom\u001b[39;00m \u001b[39mcomplex_warning\u001b[39;00m\n",
      "File \u001b[0;32m~/anaconda3/lib/python3.10/site-packages/sklearn/utils/_array_api.py:185\u001b[0m, in \u001b[0;36m_asarray_with_order\u001b[0;34m(array, dtype, order, copy, xp)\u001b[0m\n\u001b[1;32m    182\u001b[0m     xp, _ \u001b[39m=\u001b[39m get_namespace(array)\n\u001b[1;32m    183\u001b[0m \u001b[39mif\u001b[39;00m xp\u001b[39m.\u001b[39m\u001b[39m__name__\u001b[39m \u001b[39min\u001b[39;00m {\u001b[39m\"\u001b[39m\u001b[39mnumpy\u001b[39m\u001b[39m\"\u001b[39m, \u001b[39m\"\u001b[39m\u001b[39mnumpy.array_api\u001b[39m\u001b[39m\"\u001b[39m}:\n\u001b[1;32m    184\u001b[0m     \u001b[39m# Use NumPy API to support order\u001b[39;00m\n\u001b[0;32m--> 185\u001b[0m     array \u001b[39m=\u001b[39m numpy\u001b[39m.\u001b[39;49masarray(array, order\u001b[39m=\u001b[39;49morder, dtype\u001b[39m=\u001b[39;49mdtype)\n\u001b[1;32m    186\u001b[0m     \u001b[39mreturn\u001b[39;00m xp\u001b[39m.\u001b[39masarray(array, copy\u001b[39m=\u001b[39mcopy)\n\u001b[1;32m    187\u001b[0m \u001b[39melse\u001b[39;00m:\n",
      "\u001b[0;31mValueError\u001b[0m: could not convert string to float: '[CLS]'"
     ]
    }
   ],
   "source": [
    "# token_prediction: [(word, probability), (word, probability), ...]\n",
    "# ground_truth: [word, word, ...] where the first word is the most important word and the last word is the least important word\n",
    "# Evaluate the prediction results by comparing the token_prediction with ground_truth based on the following metrics:\n",
    "# 1. Cosine similarity\n",
    "# 2. Jaccard similarity\n",
    "# Get embeddings \n"
   ]
  },
  {
   "cell_type": "code",
   "execution_count": null,
   "metadata": {},
   "outputs": [],
   "source": []
  }
 ],
 "metadata": {
  "kernelspec": {
   "display_name": "base",
   "language": "python",
   "name": "python3"
  },
  "language_info": {
   "codemirror_mode": {
    "name": "ipython",
    "version": 3
   },
   "file_extension": ".py",
   "mimetype": "text/x-python",
   "name": "python",
   "nbconvert_exporter": "python",
   "pygments_lexer": "ipython3",
   "version": "3.10.9"
  }
 },
 "nbformat": 4,
 "nbformat_minor": 2
}
