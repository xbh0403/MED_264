{
 "cells": [
  {
   "cell_type": "code",
   "execution_count": 1,
   "metadata": {},
   "outputs": [
    {
     "name": "stderr",
     "output_type": "stream",
     "text": [
      "/new-stg/home/banghua/anaconda3/envs/LLM/lib/python3.10/site-packages/tqdm/auto.py:21: TqdmWarning: IProgress not found. Please update jupyter and ipywidgets. See https://ipywidgets.readthedocs.io/en/stable/user_install.html\n",
      "  from .autonotebook import tqdm as notebook_tqdm\n",
      "2023-11-30 13:40:43.402898: I tensorflow/core/util/port.cc:113] oneDNN custom operations are on. You may see slightly different numerical results due to floating-point round-off errors from different computation orders. To turn them off, set the environment variable `TF_ENABLE_ONEDNN_OPTS=0`.\n",
      "2023-11-30 13:40:43.435714: E external/local_xla/xla/stream_executor/cuda/cuda_dnn.cc:9261] Unable to register cuDNN factory: Attempting to register factory for plugin cuDNN when one has already been registered\n",
      "2023-11-30 13:40:43.435740: E external/local_xla/xla/stream_executor/cuda/cuda_fft.cc:607] Unable to register cuFFT factory: Attempting to register factory for plugin cuFFT when one has already been registered\n",
      "2023-11-30 13:40:43.436731: E external/local_xla/xla/stream_executor/cuda/cuda_blas.cc:1515] Unable to register cuBLAS factory: Attempting to register factory for plugin cuBLAS when one has already been registered\n",
      "2023-11-30 13:40:43.442414: I tensorflow/core/platform/cpu_feature_guard.cc:182] This TensorFlow binary is optimized to use available CPU instructions in performance-critical operations.\n",
      "To enable the following instructions: AVX2 AVX512F AVX512_VNNI FMA, in other operations, rebuild TensorFlow with the appropriate compiler flags.\n",
      "2023-11-30 13:40:46.366297: W tensorflow/compiler/tf2tensorrt/utils/py_utils.cc:38] TF-TRT Warning: Could not find TensorRT\n"
     ]
    },
    {
     "name": "stdout",
     "output_type": "stream",
     "text": [
      "There are 1 GPU(s) available.\n",
      "We will use the GPU: NVIDIA RTX A6000\n"
     ]
    }
   ],
   "source": [
    "import torch\n",
    "from transformers import BertForSequenceClassification, AdamW, BertConfig\n",
    "from sklearn.metrics import accuracy_score, roc_auc_score\n",
    "import numpy as np\n",
    "\n",
    "\n",
    "# If there's a GPU available...\n",
    "if torch.cuda.is_available():\n",
    "    device = torch.device(\"cuda\")\n",
    "    print('There are %d GPU(s) available.' % torch.cuda.device_count())\n",
    "    print('We will use the GPU:', torch.cuda.get_device_name(0))\n",
    "else:\n",
    "    print('No GPU available, using the CPU instead.')\n",
    "    device = torch.device(\"cpu\")"
   ]
  },
  {
   "cell_type": "code",
   "execution_count": 2,
   "metadata": {},
   "outputs": [
    {
     "name": "stdout",
     "output_type": "stream",
     "text": [
      "Number of training sentences: 26,108\n",
      "\n",
      "Number of validation sentences: 3,100\n",
      "\n",
      "Number of testing sentences: 3,246\n",
      "\n"
     ]
    }
   ],
   "source": [
    "import pandas as pd\n",
    "\n",
    "# Load the dataset into a pandas dataframe.\n",
    "df_train = pd.read_csv(\"~/med264/Dataset1/day1_30mortality_train.csv\", index_col=0)\n",
    "num_train_pos = df_train[df_train['Label'] == 1].shape[0]\n",
    "num_train_neg = df_train[df_train['Label'] == 0].shape[0]\n",
    "num_balanced = min(num_train_pos, num_train_neg)\n",
    "df_train_pos = df_train[df_train['Label'] == 1].sample(n=num_balanced, random_state=42)\n",
    "df_train_neg = df_train[df_train['Label'] == 0].sample(n=num_balanced, random_state=42)\n",
    "df_train = pd.concat([df_train_pos, df_train_neg])\n",
    "\n",
    "df_val = pd.read_csv(\"~/med264/Dataset1/day1_30mortality_val.csv\", index_col=0)\n",
    "num_val_pos = df_val[df_val['Label'] == 1].shape[0]\n",
    "num_val_neg = df_val[df_val['Label'] == 0].shape[0]\n",
    "num_balanced = min(num_val_pos, num_val_neg)\n",
    "df_val_pos = df_val[df_val['Label'] == 1].sample(n=num_balanced, random_state=42)\n",
    "df_val_neg = df_val[df_val['Label'] == 0].sample(n=num_balanced, random_state=42)\n",
    "df_val = pd.concat([df_val_pos, df_val_neg])\n",
    "\n",
    "df_test = pd.read_csv(\"~/med264/Dataset1/day1_30mortality_test.csv\", index_col=0)\n",
    "num_test_pos = df_test[df_test['Label'] == 1].shape[0]\n",
    "num_test_neg = df_test[df_test['Label'] == 0].shape[0]\n",
    "num_balanced = min(num_test_pos, num_test_neg)\n",
    "df_test_pos = df_test[df_test['Label'] == 1].sample(n=num_balanced, random_state=42)\n",
    "df_test_neg = df_test[df_test['Label'] == 0].sample(n=num_balanced, random_state=42)\n",
    "df_test = pd.concat([df_test_pos, df_test_neg])\n",
    "\n",
    "# Report the number of sentences.\n",
    "print('Number of training sentences: {:,}\\n'.format(df_train.shape[0]))\n",
    "print('Number of validation sentences: {:,}\\n'.format(df_val.shape[0]))\n",
    "print('Number of testing sentences: {:,}\\n'.format(df_test.shape[0]))\n",
    "\n",
    "# Get the lists of sentences and their labels.\n",
    "sentences_train = df_train.TEXT.values\n",
    "labels_train = df_train.Label.values\n",
    "sentences_val = df_val.TEXT.values\n",
    "labels_val = df_val.Label.values\n",
    "sentences_test = df_test.TEXT.values\n",
    "labels_test = df_test.Label.values"
   ]
  },
  {
   "cell_type": "code",
   "execution_count": 3,
   "metadata": {},
   "outputs": [
    {
     "name": "stdout",
     "output_type": "stream",
     "text": [
      "Loading BertTokenizer tokenizer...\n"
     ]
    }
   ],
   "source": [
    "from transformers import BertTokenizer\n",
    "import os\n",
    "model_path = os.path.expanduser('~/med264/clinicalBERTs/pretraining_checkpoint/')\n",
    "# Load the BERT tokenizer.\n",
    "print('Loading BertTokenizer tokenizer...')\n",
    "tokenizer = BertTokenizer.from_pretrained(model_path)"
   ]
  },
  {
   "cell_type": "code",
   "execution_count": 4,
   "metadata": {},
   "outputs": [
    {
     "name": "stdout",
     "output_type": "stream",
     "text": [
      "Loaded input_ids_train.\n",
      "Loaded input_ids_valid.\n",
      "Loaded input_ids_test.\n",
      "Max train sentence length:  881\n",
      "Max valid sentence length:  1066\n",
      "Max test sentence length:  818\n",
      "\n",
      "Padding/truncating all sentences to 512 values...\n",
      "\n",
      "Padding token: \"[PAD]\", ID: 0\n",
      "\n",
      "Done.\n"
     ]
    }
   ],
   "source": [
    "from tqdm import tqdm\n",
    "import os\n",
    "import pickle\n",
    "from keras.preprocessing.sequence import pad_sequences\n",
    "\n",
    "\n",
    "# Correct the path by expanding the tilde to the user's home directory\n",
    "file_path_train = os.path.expanduser('~/med264/Dataset3/input_ids_train.pickle')\n",
    "file_path_valid = os.path.expanduser('~/med264/Dataset3/input_ids_valid.pickle')\n",
    "file_path_test = os.path.expanduser('~/med264/Dataset3/input_ids_test.pickle')\n",
    "\n",
    "\n",
    "input_ids_train, input_ids_valid, input_ids_test = [], [], []\n",
    "\n",
    "if os.path.exists(file_path_train):\n",
    "    with open(file_path_train, 'rb') as f:\n",
    "        input_ids_train = pickle.load(f)\n",
    "    print('Loaded input_ids_train.')\n",
    "else:\n",
    "    for sent in tqdm(sentences_train):\n",
    "        encoded_sent = tokenizer.encode(sent, add_special_tokens = True)\n",
    "        input_ids_train.append(encoded_sent)\n",
    "    with open(file_path_train, 'wb') as f:\n",
    "        pickle.dump(input_ids_train, f)\n",
    "    print('Saved input_ids_train.')\n",
    "\n",
    "\n",
    "if os.path.exists(file_path_valid):\n",
    "    with open(file_path_valid, 'rb') as f:\n",
    "        input_ids_valid = pickle.load(f)\n",
    "    print('Loaded input_ids_valid.')\n",
    "else:\n",
    "    for sent in tqdm(sentences_val):\n",
    "        encoded_sent = tokenizer.encode(sent, add_special_tokens = True)\n",
    "        input_ids_valid.append(encoded_sent)\n",
    "    with open(file_path_valid, 'wb') as f:\n",
    "        pickle.dump(input_ids_valid, f)\n",
    "    print('Saved input_ids_valid.')\n",
    "\n",
    "if os.path.exists(file_path_test):\n",
    "    with open(file_path_test, 'rb') as f:\n",
    "        input_ids_test = pickle.load(f)\n",
    "    print('Loaded input_ids_test.')\n",
    "else:\n",
    "    for sent in tqdm(sentences_test):\n",
    "        encoded_sent = tokenizer.encode(sent, add_special_tokens = True)\n",
    "        input_ids_test.append(encoded_sent)\n",
    "    with open(file_path_test, 'wb') as f:\n",
    "            pickle.dump(input_ids_test, f)\n",
    "    print('Saved input_ids_test.')\n",
    "    \n",
    "\n",
    "print('Max train sentence length: ', max([len(sen) for sen in input_ids_train]))\n",
    "print('Max valid sentence length: ', max([len(sen) for sen in input_ids_valid]))\n",
    "print('Max test sentence length: ', max([len(sen) for sen in input_ids_test]))\n",
    "\n",
    "\n",
    "MAX_LEN = 512\n",
    "print('\\nPadding/truncating all sentences to %d values...' % MAX_LEN)\n",
    "print('\\nPadding token: \"{:}\", ID: {:}'.format(tokenizer.pad_token, tokenizer.pad_token_id))\n",
    "\n",
    "input_ids_train = pad_sequences(input_ids_train, maxlen=MAX_LEN, dtype=\"long\", value=0, truncating=\"post\", padding=\"post\")\n",
    "input_ids_valid = pad_sequences(input_ids_valid, maxlen=MAX_LEN, dtype=\"long\", value=0, truncating=\"post\", padding=\"post\")\n",
    "input_ids_test = pad_sequences(input_ids_test, maxlen=MAX_LEN, dtype=\"long\", value=0, truncating=\"post\", padding=\"post\")\n",
    "\n",
    "print('\\nDone.')\n",
    "\n",
    "\n",
    "# Create attention masks\n",
    "attention_masks_train, attention_masks_valid, attention_masks_test = [], [], []\n",
    "\n",
    "# For each sentence...\n",
    "for sent in input_ids_train:\n",
    "    att_mask = [int(token_id > 0) for token_id in sent]\n",
    "    attention_masks_train.append(att_mask)\n",
    "\n",
    "for sent in input_ids_valid:\n",
    "    att_mask = [int(token_id > 0) for token_id in sent]\n",
    "    attention_masks_valid.append(att_mask)\n",
    "\n",
    "for sent in input_ids_test:\n",
    "    att_mask = [int(token_id > 0) for token_id in sent]\n",
    "    attention_masks_test.append(att_mask)\n",
    "\n",
    "# Save input_ids_train, input_ids_valid, input_ids_test, attention_masks_train, attention_masks_valid, attention_masks_test\n",
    "everything = (input_ids_train, input_ids_valid, input_ids_test, attention_masks_train, attention_masks_valid, attention_masks_test)\n",
    "file_path = os.path.expanduser('~/med264/Dataset3/processed_data.pickle')\n",
    "with open(file_path, 'wb') as f:\n",
    "    pickle.dump(everything, f)"
   ]
  },
  {
   "cell_type": "code",
   "execution_count": 5,
   "metadata": {},
   "outputs": [],
   "source": [
    "train_inputs, validation_inputs, test_inputs, train_labels, validation_labels, test_labels =\\\n",
    "input_ids_train, input_ids_valid, input_ids_test, labels_train, labels_val, labels_test\n",
    "# Do the same for the masks.\n",
    "train_masks, validation_masks, test_masks = attention_masks_train, attention_masks_valid, attention_masks_test\n",
    "\n",
    "# Convert all inputs and labels into torch tensors, the required datatype\n",
    "# for our model.\n",
    "train_inputs = torch.tensor(train_inputs)\n",
    "validation_inputs = torch.tensor(validation_inputs)\n",
    "test_inputs = torch.tensor(test_inputs)\n",
    "\n",
    "train_labels = torch.tensor(train_labels)\n",
    "validation_labels = torch.tensor(validation_labels)\n",
    "test_labels = torch.tensor(test_labels)\n",
    "\n",
    "train_masks = torch.tensor(train_masks)\n",
    "validation_masks = torch.tensor(validation_masks)\n",
    "test_masks = torch.tensor(test_masks)"
   ]
  },
  {
   "cell_type": "code",
   "execution_count": 11,
   "metadata": {},
   "outputs": [],
   "source": [
    "from torch.utils.data import TensorDataset, DataLoader, RandomSampler, SequentialSampler\n",
    "\n",
    "# The DataLoader needs to know our batch size for training, so we specify it\n",
    "# here.\n",
    "# For fine-tuning BERT on a specific task, the authors recommend a batch size of\n",
    "# 16 or 32.\n",
    "\n",
    "torch.manual_seed(42)\n",
    "\n",
    "batch_size = 64\n",
    "\n",
    "# Create the DataLoader for our training set.\n",
    "train_data = TensorDataset(train_inputs, train_masks, train_labels)\n",
    "train_sampler = RandomSampler(train_data)\n",
    "train_dataloader = DataLoader(train_data, sampler=train_sampler, batch_size=batch_size)\n",
    "\n",
    "# Create the DataLoader for our validation set.\n",
    "validation_data = TensorDataset(validation_inputs, validation_masks, validation_labels)\n",
    "validation_sampler = SequentialSampler(validation_data)\n",
    "validation_dataloader = DataLoader(validation_data, sampler=validation_sampler, batch_size=batch_size)\n",
    "\n",
    "# Create the DataLoader for our test set.\n",
    "test_data = TensorDataset(test_inputs, test_masks, test_labels)\n",
    "test_sampler = SequentialSampler(test_data)\n",
    "test_dataloader = DataLoader(test_data, sampler=test_sampler, batch_size=batch_size)"
   ]
  },
  {
   "cell_type": "code",
   "execution_count": 12,
   "metadata": {},
   "outputs": [],
   "source": [
    "model_path = os.path.expanduser('~/med264/models_balanced_clinicalBERT/')\n",
    "preds_path = os.path.expanduser('~/med264/preds_balanced_clinicalBERT/')\n",
    "\n",
    "# Check if preds_path exists, if not, create it\n",
    "if not os.path.exists(preds_path):\n",
    "    os.makedirs(preds_path)"
   ]
  },
  {
   "cell_type": "code",
   "execution_count": 13,
   "metadata": {},
   "outputs": [],
   "source": [
    "import numpy as np\n",
    "\n",
    "# Function to calculate the accuracy of our predictions vs labels\n",
    "def flat_accuracy_auroc(preds, labels):\n",
    "    pred_flat = np.argmax(preds, axis=1).flatten()\n",
    "    labels_flat = labels.flatten()\n",
    "    flat_acc = np.sum(pred_flat == labels_flat) / len(labels_flat)\n",
    "    flat_auroc = roc_auc_score(labels_flat, preds[:,1])\n",
    "    return flat_acc, flat_auroc"
   ]
  },
  {
   "cell_type": "code",
   "execution_count": 16,
   "metadata": {},
   "outputs": [
    {
     "name": "stdout",
     "output_type": "stream",
     "text": [
      "Model 0:\n",
      "Loading model from /new-stg/home/banghua/med264/models_balanced_clinicalBERT/0/...\n",
      "Predicting labels for 26,108 train sentences...\n"
     ]
    },
    {
     "name": "stderr",
     "output_type": "stream",
     "text": [
      "100%|████████████████████████████████████████████████████████████████████████████████████████████| 408/408 [03:20<00:00,  2.04it/s]\n"
     ]
    },
    {
     "name": "stdout",
     "output_type": "stream",
     "text": [
      "  Train Accuracy: 0.73\n",
      "  Train AUROC: 0.37\n",
      "Predicting labels for 3,100 validation sentences...\n"
     ]
    },
    {
     "name": "stderr",
     "output_type": "stream",
     "text": [
      "100%|██████████████████████████████████████████████████████████████████████████████████████████████| 49/49 [00:23<00:00,  2.06it/s]\n"
     ]
    },
    {
     "name": "stdout",
     "output_type": "stream",
     "text": [
      "  Validation Accuracy: 0.70\n",
      "  Validation AUROC: 0.40\n",
      "Predicting labels for 3,246 test sentences...\n"
     ]
    },
    {
     "name": "stderr",
     "output_type": "stream",
     "text": [
      "100%|██████████████████████████████████████████████████████████████████████████████████████████████| 51/51 [00:24<00:00,  2.04it/s]\n"
     ]
    },
    {
     "name": "stdout",
     "output_type": "stream",
     "text": [
      "  Test Accuracy: 0.70\n",
      "  Test AUROC: 0.41\n",
      "Saving predictions...\n",
      "Saved predictions.\n",
      "Model 1:\n",
      "Loading model from /new-stg/home/banghua/med264/models_balanced_clinicalBERT/1/...\n",
      "Predicting labels for 26,108 train sentences...\n"
     ]
    },
    {
     "name": "stderr",
     "output_type": "stream",
     "text": [
      "100%|████████████████████████████████████████████████████████████████████████████████████████████| 408/408 [03:20<00:00,  2.04it/s]\n"
     ]
    },
    {
     "name": "stdout",
     "output_type": "stream",
     "text": [
      "  Train Accuracy: 0.76\n",
      "  Train AUROC: 0.68\n",
      "Predicting labels for 3,100 validation sentences...\n"
     ]
    },
    {
     "name": "stderr",
     "output_type": "stream",
     "text": [
      "100%|██████████████████████████████████████████████████████████████████████████████████████████████| 49/49 [00:23<00:00,  2.06it/s]\n"
     ]
    },
    {
     "name": "stdout",
     "output_type": "stream",
     "text": [
      "  Validation Accuracy: 0.69\n",
      "  Validation AUROC: 0.60\n",
      "Predicting labels for 3,246 test sentences...\n"
     ]
    },
    {
     "name": "stderr",
     "output_type": "stream",
     "text": [
      "100%|██████████████████████████████████████████████████████████████████████████████████████████████| 51/51 [00:24<00:00,  2.05it/s]\n"
     ]
    },
    {
     "name": "stdout",
     "output_type": "stream",
     "text": [
      "  Test Accuracy: 0.70\n",
      "  Test AUROC: 0.62\n",
      "Saving predictions...\n",
      "Saved predictions.\n",
      "Model 2:\n",
      "Loading model from /new-stg/home/banghua/med264/models_balanced_clinicalBERT/2/...\n",
      "Predicting labels for 26,108 train sentences...\n"
     ]
    },
    {
     "name": "stderr",
     "output_type": "stream",
     "text": [
      "100%|████████████████████████████████████████████████████████████████████████████████████████████| 408/408 [03:20<00:00,  2.04it/s]\n"
     ]
    },
    {
     "name": "stdout",
     "output_type": "stream",
     "text": [
      "  Train Accuracy: 0.87\n",
      "  Train AUROC: 0.42\n",
      "Predicting labels for 3,100 validation sentences...\n"
     ]
    },
    {
     "name": "stderr",
     "output_type": "stream",
     "text": [
      "100%|██████████████████████████████████████████████████████████████████████████████████████████████| 49/49 [00:23<00:00,  2.06it/s]\n"
     ]
    },
    {
     "name": "stdout",
     "output_type": "stream",
     "text": [
      "  Validation Accuracy: 0.72\n",
      "  Validation AUROC: 0.43\n",
      "Predicting labels for 3,246 test sentences...\n"
     ]
    },
    {
     "name": "stderr",
     "output_type": "stream",
     "text": [
      "100%|██████████████████████████████████████████████████████████████████████████████████████████████| 51/51 [00:24<00:00,  2.05it/s]\n"
     ]
    },
    {
     "name": "stdout",
     "output_type": "stream",
     "text": [
      "  Test Accuracy: 0.72\n",
      "  Test AUROC: 0.45\n",
      "Saving predictions...\n",
      "Saved predictions.\n",
      "Model 3:\n",
      "Loading model from /new-stg/home/banghua/med264/models_balanced_clinicalBERT/3/...\n",
      "Predicting labels for 26,108 train sentences...\n"
     ]
    },
    {
     "name": "stderr",
     "output_type": "stream",
     "text": [
      "100%|████████████████████████████████████████████████████████████████████████████████████████████| 408/408 [03:20<00:00,  2.04it/s]\n"
     ]
    },
    {
     "name": "stdout",
     "output_type": "stream",
     "text": [
      "  Train Accuracy: 0.91\n",
      "  Train AUROC: 0.52\n",
      "Predicting labels for 3,100 validation sentences...\n"
     ]
    },
    {
     "name": "stderr",
     "output_type": "stream",
     "text": [
      "100%|██████████████████████████████████████████████████████████████████████████████████████████████| 49/49 [00:23<00:00,  2.06it/s]\n"
     ]
    },
    {
     "name": "stdout",
     "output_type": "stream",
     "text": [
      "  Validation Accuracy: 0.73\n",
      "  Validation AUROC: 0.48\n",
      "Predicting labels for 3,246 test sentences...\n"
     ]
    },
    {
     "name": "stderr",
     "output_type": "stream",
     "text": [
      "100%|██████████████████████████████████████████████████████████████████████████████████████████████| 51/51 [00:24<00:00,  2.05it/s]\n"
     ]
    },
    {
     "name": "stdout",
     "output_type": "stream",
     "text": [
      "  Test Accuracy: 0.72\n",
      "  Test AUROC: 0.49\n",
      "Saving predictions...\n",
      "Saved predictions.\n",
      "Model 4:\n",
      "Loading model from /new-stg/home/banghua/med264/models_balanced_clinicalBERT/4/...\n",
      "Predicting labels for 26,108 train sentences...\n"
     ]
    },
    {
     "name": "stderr",
     "output_type": "stream",
     "text": [
      "100%|████████████████████████████████████████████████████████████████████████████████████████████| 408/408 [03:20<00:00,  2.04it/s]\n"
     ]
    },
    {
     "name": "stdout",
     "output_type": "stream",
     "text": [
      "  Train Accuracy: 0.94\n",
      "  Train AUROC: 0.38\n",
      "Predicting labels for 3,100 validation sentences...\n"
     ]
    },
    {
     "name": "stderr",
     "output_type": "stream",
     "text": [
      "100%|██████████████████████████████████████████████████████████████████████████████████████████████| 49/49 [00:23<00:00,  2.06it/s]\n"
     ]
    },
    {
     "name": "stdout",
     "output_type": "stream",
     "text": [
      "  Validation Accuracy: 0.71\n",
      "  Validation AUROC: 0.42\n",
      "Predicting labels for 3,246 test sentences...\n"
     ]
    },
    {
     "name": "stderr",
     "output_type": "stream",
     "text": [
      "100%|██████████████████████████████████████████████████████████████████████████████████████████████| 51/51 [00:24<00:00,  2.05it/s]\n"
     ]
    },
    {
     "name": "stdout",
     "output_type": "stream",
     "text": [
      "  Test Accuracy: 0.71\n",
      "  Test AUROC: 0.43\n",
      "Saving predictions...\n",
      "Saved predictions.\n",
      "Model 5:\n",
      "Loading model from /new-stg/home/banghua/med264/models_balanced_clinicalBERT/5/...\n",
      "Predicting labels for 26,108 train sentences...\n"
     ]
    },
    {
     "name": "stderr",
     "output_type": "stream",
     "text": [
      "100%|████████████████████████████████████████████████████████████████████████████████████████████| 408/408 [03:20<00:00,  2.04it/s]\n"
     ]
    },
    {
     "name": "stdout",
     "output_type": "stream",
     "text": [
      "  Train Accuracy: 0.97\n",
      "  Train AUROC: 0.36\n",
      "Predicting labels for 3,100 validation sentences...\n"
     ]
    },
    {
     "name": "stderr",
     "output_type": "stream",
     "text": [
      "100%|██████████████████████████████████████████████████████████████████████████████████████████████| 49/49 [00:23<00:00,  2.06it/s]\n"
     ]
    },
    {
     "name": "stdout",
     "output_type": "stream",
     "text": [
      "  Validation Accuracy: 0.71\n",
      "  Validation AUROC: 0.41\n",
      "Predicting labels for 3,246 test sentences...\n"
     ]
    },
    {
     "name": "stderr",
     "output_type": "stream",
     "text": [
      "100%|██████████████████████████████████████████████████████████████████████████████████████████████| 51/51 [00:24<00:00,  2.05it/s]\n"
     ]
    },
    {
     "name": "stdout",
     "output_type": "stream",
     "text": [
      "  Test Accuracy: 0.71\n",
      "  Test AUROC: 0.42\n",
      "Saving predictions...\n",
      "Saved predictions.\n",
      "Model 6:\n",
      "Loading model from /new-stg/home/banghua/med264/models_balanced_clinicalBERT/6/...\n",
      "Predicting labels for 26,108 train sentences...\n"
     ]
    },
    {
     "name": "stderr",
     "output_type": "stream",
     "text": [
      "100%|████████████████████████████████████████████████████████████████████████████████████████████| 408/408 [03:20<00:00,  2.04it/s]\n"
     ]
    },
    {
     "name": "stdout",
     "output_type": "stream",
     "text": [
      "  Train Accuracy: 0.98\n",
      "  Train AUROC: 0.41\n",
      "Predicting labels for 3,100 validation sentences...\n"
     ]
    },
    {
     "name": "stderr",
     "output_type": "stream",
     "text": [
      "100%|██████████████████████████████████████████████████████████████████████████████████████████████| 49/49 [00:23<00:00,  2.06it/s]\n"
     ]
    },
    {
     "name": "stdout",
     "output_type": "stream",
     "text": [
      "  Validation Accuracy: 0.71\n",
      "  Validation AUROC: 0.44\n",
      "Predicting labels for 3,246 test sentences...\n"
     ]
    },
    {
     "name": "stderr",
     "output_type": "stream",
     "text": [
      "100%|██████████████████████████████████████████████████████████████████████████████████████████████| 51/51 [00:24<00:00,  2.05it/s]\n"
     ]
    },
    {
     "name": "stdout",
     "output_type": "stream",
     "text": [
      "  Test Accuracy: 0.71\n",
      "  Test AUROC: 0.45\n",
      "Saving predictions...\n",
      "Saved predictions.\n",
      "Model 7:\n",
      "Loading model from /new-stg/home/banghua/med264/models_balanced_clinicalBERT/7/...\n",
      "Predicting labels for 26,108 train sentences...\n"
     ]
    },
    {
     "name": "stderr",
     "output_type": "stream",
     "text": [
      "100%|████████████████████████████████████████████████████████████████████████████████████████████| 408/408 [03:20<00:00,  2.04it/s]\n"
     ]
    },
    {
     "name": "stdout",
     "output_type": "stream",
     "text": [
      "  Train Accuracy: 0.99\n",
      "  Train AUROC: 0.34\n",
      "Predicting labels for 3,100 validation sentences...\n"
     ]
    },
    {
     "name": "stderr",
     "output_type": "stream",
     "text": [
      "100%|██████████████████████████████████████████████████████████████████████████████████████████████| 49/49 [00:23<00:00,  2.06it/s]\n"
     ]
    },
    {
     "name": "stdout",
     "output_type": "stream",
     "text": [
      "  Validation Accuracy: 0.72\n",
      "  Validation AUROC: 0.41\n",
      "Predicting labels for 3,246 test sentences...\n"
     ]
    },
    {
     "name": "stderr",
     "output_type": "stream",
     "text": [
      "100%|██████████████████████████████████████████████████████████████████████████████████████████████| 51/51 [00:24<00:00,  2.05it/s]\n"
     ]
    },
    {
     "name": "stdout",
     "output_type": "stream",
     "text": [
      "  Test Accuracy: 0.71\n",
      "  Test AUROC: 0.42\n",
      "Saving predictions...\n",
      "Saved predictions.\n",
      "Model 8:\n",
      "Loading model from /new-stg/home/banghua/med264/models_balanced_clinicalBERT/8/...\n",
      "Predicting labels for 26,108 train sentences...\n"
     ]
    },
    {
     "name": "stderr",
     "output_type": "stream",
     "text": [
      "100%|████████████████████████████████████████████████████████████████████████████████████████████| 408/408 [03:20<00:00,  2.04it/s]\n"
     ]
    },
    {
     "name": "stdout",
     "output_type": "stream",
     "text": [
      "  Train Accuracy: 0.99\n",
      "  Train AUROC: 0.32\n",
      "Predicting labels for 3,100 validation sentences...\n"
     ]
    },
    {
     "name": "stderr",
     "output_type": "stream",
     "text": [
      "100%|██████████████████████████████████████████████████████████████████████████████████████████████| 49/49 [00:23<00:00,  2.06it/s]\n"
     ]
    },
    {
     "name": "stdout",
     "output_type": "stream",
     "text": [
      "  Validation Accuracy: 0.71\n",
      "  Validation AUROC: 0.40\n",
      "Predicting labels for 3,246 test sentences...\n"
     ]
    },
    {
     "name": "stderr",
     "output_type": "stream",
     "text": [
      "100%|██████████████████████████████████████████████████████████████████████████████████████████████| 51/51 [00:24<00:00,  2.05it/s]\n"
     ]
    },
    {
     "name": "stdout",
     "output_type": "stream",
     "text": [
      "  Test Accuracy: 0.70\n",
      "  Test AUROC: 0.41\n",
      "Saving predictions...\n",
      "Saved predictions.\n",
      "Model 9:\n",
      "Loading model from /new-stg/home/banghua/med264/models_balanced_clinicalBERT/9/...\n",
      "Predicting labels for 26,108 train sentences...\n"
     ]
    },
    {
     "name": "stderr",
     "output_type": "stream",
     "text": [
      "100%|████████████████████████████████████████████████████████████████████████████████████████████| 408/408 [03:20<00:00,  2.04it/s]\n"
     ]
    },
    {
     "name": "stdout",
     "output_type": "stream",
     "text": [
      "  Train Accuracy: 0.99\n",
      "  Train AUROC: 0.32\n",
      "Predicting labels for 3,100 validation sentences...\n"
     ]
    },
    {
     "name": "stderr",
     "output_type": "stream",
     "text": [
      "100%|██████████████████████████████████████████████████████████████████████████████████████████████| 49/49 [00:23<00:00,  2.06it/s]\n"
     ]
    },
    {
     "name": "stdout",
     "output_type": "stream",
     "text": [
      "  Validation Accuracy: 0.72\n",
      "  Validation AUROC: 0.40\n",
      "Predicting labels for 3,246 test sentences...\n"
     ]
    },
    {
     "name": "stderr",
     "output_type": "stream",
     "text": [
      "100%|██████████████████████████████████████████████████████████████████████████████████████████████| 51/51 [00:24<00:00,  2.05it/s]"
     ]
    },
    {
     "name": "stdout",
     "output_type": "stream",
     "text": [
      "  Test Accuracy: 0.71\n",
      "  Test AUROC: 0.42\n",
      "Saving predictions...\n",
      "Saved predictions.\n",
      "Saving overall results...\n",
      "Saved overall results.\n",
      "Done.\n"
     ]
    },
    {
     "name": "stderr",
     "output_type": "stream",
     "text": [
      "\n"
     ]
    }
   ],
   "source": [
    "from tqdm import tqdm\n",
    "\n",
    "acc_results = {}\n",
    "preds_results = {}\n",
    "\n",
    "for i in range(10):\n",
    "  print('Model ' + str(i) + ':')\n",
    "  model_path_i = model_path + str(i) + '/'\n",
    "  print('Loading model from ' + model_path_i + '...')\n",
    "  model = BertForSequenceClassification.from_pretrained(\n",
    "    model_path_i, num_labels = 2, output_attentions = False, output_hidden_states = False\n",
    "  )\n",
    "  model.cuda()\n",
    "  model.eval()\n",
    "\n",
    "  pred_path_i = preds_path + str(i) + '/'\n",
    "  # Check if pred_path_i exists, if not, create it\n",
    "  if not os.path.exists(pred_path_i):\n",
    "      os.makedirs(pred_path_i)\n",
    "  # Tracking variables\n",
    "  predictions_train, predictions_val, predictions_test = [], [], []\n",
    "  true_labels_train, true_labels_val, true_labels_test = [], [], []\n",
    "  # Predict\n",
    "  print('Predicting labels for {:,} train sentences...'.format(len(train_inputs)))\n",
    "  for batch in tqdm(train_dataloader):\n",
    "    # Add batch to GPU\n",
    "    batch = tuple(t.to(device) for t in batch)\n",
    "    # Unpack the inputs from our dataloader\n",
    "    b_input_ids, b_input_mask, b_labels = batch\n",
    "    # Telling the model not to compute or store gradients, saving memory and\n",
    "    # speeding up prediction\n",
    "    with torch.no_grad():\n",
    "        # Forward pass, calculate logit predictions\n",
    "        outputs = model(b_input_ids, token_type_ids=None,\n",
    "                        attention_mask=b_input_mask)\n",
    "    logits = outputs[0]\n",
    "    # Move logits and labels to CPU\n",
    "    logits = logits.detach().cpu().numpy()\n",
    "    label_ids = b_labels.to('cpu').numpy()\n",
    "    # Store predictions and true labels\n",
    "    predictions_train.append(logits)\n",
    "    true_labels_train.append(label_ids)\n",
    "  flat_predictions_train = np.concatenate(predictions_train, axis=0)\n",
    "  flat_predictions_train_argmax = np.argmax(flat_predictions_train, axis=1).flatten()\n",
    "  flat_predictions_train_scores = []\n",
    "  for i in range(len(flat_predictions_train)):\n",
    "    flat_predictions_train_scores.append(flat_predictions_train[i][flat_predictions_train_argmax[i]])\n",
    "  flat_true_labels_train = np.concatenate(true_labels_train, axis=0)\n",
    "  flat_predictions_train = flat_predictions_train_argmax\n",
    "  # Calculate the accuracy for this batch of test sentences.\n",
    "  train_accuracy = accuracy_score(flat_true_labels_train, flat_predictions_train)\n",
    "  train_auroc = roc_auc_score(flat_true_labels_train, flat_predictions_train_scores)\n",
    "  print('  Train Accuracy: {0:.2f}'.format(train_accuracy))\n",
    "  print('  Train AUROC: {0:.2f}'.format(train_auroc))\n",
    "\n",
    "  print('Predicting labels for {:,} validation sentences...'.format(len(validation_inputs)))\n",
    "  for batch in tqdm(validation_dataloader):\n",
    "    # Add batch to GPU\n",
    "    batch = tuple(t.to(device) for t in batch)\n",
    "    # Unpack the inputs from our dataloader\n",
    "    b_input_ids, b_input_mask, b_labels = batch\n",
    "    # Telling the model not to compute or store gradients, saving memory and\n",
    "    # speeding up prediction\n",
    "    with torch.no_grad():\n",
    "        # Forward pass, calculate logit predictions\n",
    "        outputs = model(b_input_ids, token_type_ids=None, attention_mask=b_input_mask)\n",
    "    logits = outputs[0]\n",
    "    # Move logits and labels to CPU\n",
    "    logits = logits.detach().cpu().numpy()\n",
    "    label_ids = b_labels.to('cpu').numpy()\n",
    "    # Store predictions and true labels\n",
    "    predictions_val.append(logits)\n",
    "    true_labels_val.append(label_ids)\n",
    "  flat_predictions_val = np.concatenate(predictions_val, axis=0)\n",
    "  flat_predictions_val_argmax = np.argmax(flat_predictions_val, axis=1).flatten()\n",
    "  flat_predictions_val_scores = []\n",
    "  for i in range(len(flat_predictions_val)):\n",
    "    flat_predictions_val_scores.append(flat_predictions_val[i][flat_predictions_val_argmax[i]])\n",
    "  flat_predictions_val = flat_predictions_val_argmax\n",
    "  flat_true_labels_val = np.concatenate(true_labels_val, axis=0)\n",
    "  # Calculate the accuracy for this batch of test sentences.\n",
    "  val_accuracy = accuracy_score(flat_true_labels_val, flat_predictions_val)\n",
    "  val_auroc = roc_auc_score(flat_true_labels_val, flat_predictions_val_scores)\n",
    "  print('  Validation Accuracy: {0:.2f}'.format(val_accuracy))\n",
    "  print('  Validation AUROC: {0:.2f}'.format(val_auroc))\n",
    "\n",
    "  print('Predicting labels for {:,} test sentences...'.format(len(test_inputs)))\n",
    "  for batch in tqdm(test_dataloader):\n",
    "    # Add batch to GPU\n",
    "    batch = tuple(t.to(device) for t in batch)\n",
    "    # Unpack the inputs from our dataloader\n",
    "    b_input_ids, b_input_mask, b_labels = batch\n",
    "    # Telling the model not to compute or store gradients, saving memory and\n",
    "    # speeding up prediction\n",
    "    with torch.no_grad():\n",
    "        # Forward pass, calculate logit predictions\n",
    "        outputs = model(b_input_ids, token_type_ids=None,\n",
    "                        attention_mask=b_input_mask)\n",
    "    logits = outputs[0]\n",
    "    # Move logits and labels to CPU\n",
    "    logits = logits.detach().cpu().numpy()\n",
    "    label_ids = b_labels.to('cpu').numpy()\n",
    "    # Store predictions and true labels\n",
    "    predictions_test.append(logits)\n",
    "    true_labels_test.append(label_ids)\n",
    "  flat_predictions_test = np.concatenate(predictions_test, axis=0)\n",
    "  flat_predictions_test_argmax = np.argmax(flat_predictions_test, axis=1).flatten()\n",
    "  flat_predictions_test_scores = []\n",
    "  for i in range(len(flat_predictions_test)):\n",
    "    flat_predictions_test_scores.append(flat_predictions_test[i][flat_predictions_test_argmax[i]])\n",
    "\n",
    "  flat_predictions_test = flat_predictions_test_argmax\n",
    "  flat_true_labels_test = np.concatenate(true_labels_test, axis=0)\n",
    "  # Calculate the accuracy for this batch of test sentences.\n",
    "  test_accuracy = accuracy_score(flat_true_labels_test, flat_predictions_test)\n",
    "  test_auroc = roc_auc_score(flat_true_labels_test, flat_predictions_test_scores)\n",
    "  print('  Test Accuracy: {0:.2f}'.format(test_accuracy))\n",
    "  print('  Test AUROC: {0:.2f}'.format(test_auroc))\n",
    "\n",
    "  acc_results['model_' + str(i)] = {\n",
    "    'train_accuracy': train_accuracy,\n",
    "    'train_auroc': train_auroc,\n",
    "    'val_accuracy': val_accuracy,\n",
    "    'val_auroc': val_auroc,\n",
    "    'test_accuracy': test_accuracy,\n",
    "    'test_auroc': test_auroc\n",
    "  }\n",
    "  \n",
    "  preds_results['model_' + str(i)] = {\n",
    "    'train_preds': flat_predictions_train,\n",
    "    'train_true_labels': flat_true_labels_train,\n",
    "    'val_preds': flat_predictions_val,\n",
    "    'val_true_labels': flat_true_labels_val,\n",
    "    'test_preds': flat_predictions_test,\n",
    "    'test_true_labels': flat_true_labels_test\n",
    "  }\n",
    "\n",
    "  print('Saving predictions...')\n",
    "  with open(pred_path_i + 'preds.pickle', 'wb') as f:\n",
    "    pickle.dump(preds_results['model_' + str(i)], f)\n",
    "  print('Saved predictions.')\n",
    "\n",
    "print('Saving overall results...')\n",
    "with open(preds_path + 'acc_results.pickle', 'wb') as f:\n",
    "  pickle.dump(acc_results, f)\n",
    "print('Saved overall results.')\n",
    "\n",
    "print('Done.')"
   ]
  },
  {
   "cell_type": "code",
   "execution_count": 1,
   "metadata": {},
   "outputs": [],
   "source": [
    "epochs = [1, 2, 3, 4, 5, 6, 7, 8, 9, 10]\n",
    "\n",
    "train_accs = [0.73, 0.76, 0.87, 0.91, 0.94, 0.97, 0.98, 0.99, 0.99, 0.99]\n",
    "train_aucs = [0.37, 0.68, 0.42, 0.52, 0.38, 0.36, 0.41, 0.34, 0.32, 0.32]\n",
    "\n",
    "val_accs = [0.70, 0.69, 0.72, 0.73, 0.71, 0.71, 0.71, 0.72, 0.71, 0.72]\n",
    "val_aucs = [0.40, 0.60, 0.43, 0.48, 0.42, 0.41, 0.44, 0.41, 0.40, 0.40]\n",
    "\n",
    "test_accs = [0.70, 0.70, 0.72, 0.72, 0.71, 0.71, 0.71, 0.71, 0.70, 0.71]\n",
    "test_aucs = [0.41, 0.62, 0.45, 0.49, 0.43, 0.42, 0.45, 0.42, 0.41, 0.42]"
   ]
  },
  {
   "cell_type": "code",
   "execution_count": 2,
   "metadata": {},
   "outputs": [
    {
     "data": {
      "image/png": "[encoded data removed]",
      "text/plain": [
       "<Figure size 1600x700 with 2 Axes>"
      ]
     },
     "metadata": {},
     "output_type": "display_data"
    }
   ],
   "source": [
    "import matplotlib.pyplot as plt\n",
    "\n",
    "# Plot size\n",
    "plt.rcParams[\"figure.figsize\"] = (16, 7)\n",
    "\n",
    "# Plot for accuracies\n",
    "plt.subplot(1, 2, 1)\n",
    "plt.plot(epochs, train_accs, label='Train Accuracy', marker='o', color='#75E6DA')\n",
    "plt.plot(epochs, val_accs, label='Validation Accuracy', marker='o', color='#FF5B61')\n",
    "plt.title('Training and Validation Accuracy')\n",
    "plt.xlabel('Epochs')\n",
    "plt.xticks(epochs)\n",
    "plt.ylabel('Accuracy')\n",
    "plt.ylim(0, 1)\n",
    "plt.legend()\n",
    "plt.grid(True)\n",
    "\n",
    "# Plot for AUCs\n",
    "plt.subplot(1, 2, 2)\n",
    "plt.plot(epochs, train_aucs, label='Train AUROC', marker='o', color='#75E6DA')\n",
    "plt.plot(epochs, val_aucs, label='Validation AUROC', marker='o', color='#FF5B61')\n",
    "plt.title('Training and Validation AUC')\n",
    "plt.xticks(epochs)\n",
    "plt.ylim(0, 1)\n",
    "plt.xlabel('Epochs')\n",
    "plt.ylabel('AUROC')\n",
    "plt.legend()\n",
    "plt.grid(True)\n",
    "\n",
    "plt.tight_layout()\n",
    "# Save the figure\n",
    "plt.savefig('./acc_auroc.png', dpi=300)\n",
    "plt.show()"
   ]
  },
  {
   "cell_type": "code",
   "execution_count": 25,
   "metadata": {},
   "outputs": [],
   "source": [
    "import pickle\n",
    "with open(preds_path+\"/4/preds.pickle\", \"rb\") as f:\n",
    "    preds_results = pickle.load(f)"
   ]
  },
  {
   "cell_type": "code",
   "execution_count": 26,
   "metadata": {},
   "outputs": [
    {
     "data": {
      "text/plain": [
       "{'train_preds': array([0, 0, 0, ..., 0, 1, 1]),\n",
       " 'train_true_labels': array([0, 0, 0, ..., 0, 0, 1]),\n",
       " 'val_preds': array([1, 0, 1, ..., 0, 0, 0]),\n",
       " 'val_true_labels': array([1, 1, 1, ..., 0, 0, 0]),\n",
       " 'test_preds': array([1, 1, 1, ..., 1, 1, 1]),\n",
       " 'test_true_labels': array([1, 1, 1, ..., 0, 0, 0])}"
      ]
     },
     "execution_count": 26,
     "metadata": {},
     "output_type": "execute_result"
    }
   ],
   "source": [
    "preds_results"
   ]
  },
  {
   "cell_type": "code",
   "execution_count": 28,
   "metadata": {},
   "outputs": [
    {
     "name": "stdout",
     "output_type": "stream",
     "text": [
      "0.7187307455329637\n",
      "0.7489689304371735\n",
      "0.7187307455329637\n"
     ]
    }
   ],
   "source": [
    "test_preds = preds_results[\"test_preds\"]\n",
    "test_true = preds_results[\"test_true_labels\"]\n",
    "\n",
    "# Get the AUROC score\n",
    "from sklearn.metrics import roc_auc_score, accuracy_score, f1_score\n",
    "print(roc_auc_score(test_true, test_preds))\n",
    "print(f1_score(test_true, test_preds))\n",
    "print(accuracy_score(test_true, test_preds))"
   ]
  }
 ],
 "metadata": {
  "kernelspec": {
   "display_name": "CNN-CR",
   "language": "python",
   "name": "python3"
  },
  "language_info": {
   "codemirror_mode": {
    "name": "ipython",
    "version": 3
   },
   "file_extension": ".py",
   "mimetype": "text/x-python",
   "name": "python",
   "nbconvert_exporter": "python",
   "pygments_lexer": "ipython3",
   "version": "3.11.5"
  }
 },
 "nbformat": 4,
 "nbformat_minor": 2
}
