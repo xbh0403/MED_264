{
  "cells": [
    {
      "cell_type": "markdown",
      "metadata": {
        "id": "EKOTlwcmxmej"
      },
      "source": [
        "# BERT Fine-Tuning Tutorial with PyTorch\n",
        "\n",
        "By Chris McCormick and Nick Ryan"
      ]
    },
    {
      "cell_type": "markdown",
      "metadata": {
        "id": "MPgpITmdwvX0"
      },
      "source": [
        "*Revised on 12/13/19 to use the new [transformers](https://github.com/huggingface/transformers) interface.*\n",
        "\n",
        "\n"
      ]
    },
    {
      "cell_type": "markdown",
      "metadata": {
        "id": "nSU7yERLP_66"
      },
      "source": [
        "## 1.1. Using Colab GPU for Training\n"
      ]
    },
    {
      "cell_type": "code",
      "execution_count": 1,
      "metadata": {
        "colab": {
          "base_uri": "https://localhost:8080/"
        },
        "id": "oYsV4H8fCpZ-",
        "outputId": "bac79307-973d-449b-c229-80a22ee613c0"
      },
      "outputs": [
        {
          "name": "stderr",
          "output_type": "stream",
          "text": [
            "/new-stg/home/banghua/anaconda3/envs/LLM/lib/python3.10/site-packages/tqdm/auto.py:21: TqdmWarning: IProgress not found. Please update jupyter and ipywidgets. See https://ipywidgets.readthedocs.io/en/stable/user_install.html\n",
            "  from .autonotebook import tqdm as notebook_tqdm\n"
          ]
        },
        {
          "name": "stdout",
          "output_type": "stream",
          "text": [
            "There are 1 GPU(s) available.\n",
            "We will use the GPU: NVIDIA RTX A6000\n"
          ]
        }
      ],
      "source": [
        "import torch\n",
        "\n",
        "# If there's a GPU available...\n",
        "if torch.cuda.is_available():\n",
        "    # Tell PyTorch to use the GPU.\n",
        "    device = torch.device(\"cuda\")\n",
        "    print('There are %d GPU(s) available.' % torch.cuda.device_count())\n",
        "    print('We will use the GPU:', torch.cuda.get_device_name(0))\n",
        "else:\n",
        "    print('No GPU available, using the CPU instead.')\n",
        "    device = torch.device(\"cpu\")"
      ]
    },
    {
      "cell_type": "markdown",
      "metadata": {
        "id": "oQUy9Tat2EF_"
      },
      "source": [
        "## 2.2. Parse"
      ]
    },
    {
      "cell_type": "markdown",
      "metadata": {
        "id": "xeyVCXT31EZQ"
      },
      "source": [
        "We can see from the file names that both `tokenized` and `raw` versions of the data are available.\n",
        "\n",
        "We can't use the pre-tokenized version because, in order to apply the pre-trained BERT, we *must* use the tokenizer provided by the model. This is because (1) the model has a specific, fixed vocabulary and (2) the BERT tokenizer has a particular way of handling out-of-vocabulary words."
      ]
    },
    {
      "cell_type": "markdown",
      "metadata": {
        "id": "MYWzeGSY2xh3"
      },
      "source": [
        "We'll use pandas to parse the \"in-domain\" training set and look at a few of its properties and data points."
      ]
    },
    {
      "cell_type": "code",
      "execution_count": 2,
      "metadata": {
        "colab": {
          "base_uri": "https://localhost:8080/",
          "height": 398
        },
        "id": "_UkeC7SG2krJ",
        "outputId": "83fcecd4-b718-4bc8-9026-e6d1151d83a0"
      },
      "outputs": [
        {
          "name": "stdout",
          "output_type": "stream",
          "text": [
            "Number of training sentences: 26,108\n",
            "\n",
            "Number of validation sentences: 3,100\n",
            "\n",
            "Number of testing sentences: 3,246\n",
            "\n"
          ]
        }
      ],
      "source": [
        "import pandas as pd\n",
        "\n",
        "# Load the dataset into a pandas dataframe.\n",
        "df_train = pd.read_csv(\"~/med264/Dataset1/day1_30mortality_train.csv\", index_col=0)\n",
        "num_train_pos = df_train[df_train['Label'] == 1].shape[0]\n",
        "num_train_neg = df_train[df_train['Label'] == 0].shape[0]\n",
        "num_balanced = min(num_train_pos, num_train_neg)\n",
        "df_train_pos = df_train[df_train['Label'] == 1].sample(n=num_balanced, random_state=42)\n",
        "df_train_neg = df_train[df_train['Label'] == 0].sample(n=num_balanced, random_state=42)\n",
        "df_train = pd.concat([df_train_pos, df_train_neg])\n",
        "\n",
        "df_val = pd.read_csv(\"~/med264/Dataset1/day1_30mortality_val.csv\", index_col=0)\n",
        "num_val_pos = df_val[df_val['Label'] == 1].shape[0]\n",
        "num_val_neg = df_val[df_val['Label'] == 0].shape[0]\n",
        "num_balanced = min(num_val_pos, num_val_neg)\n",
        "df_val_pos = df_val[df_val['Label'] == 1].sample(n=num_balanced, random_state=42)\n",
        "df_val_neg = df_val[df_val['Label'] == 0].sample(n=num_balanced, random_state=42)\n",
        "df_val = pd.concat([df_val_pos, df_val_neg])\n",
        "\n",
        "df_test = pd.read_csv(\"~/med264/Dataset1/day1_30mortality_test.csv\", index_col=0)\n",
        "num_test_pos = df_test[df_test['Label'] == 1].shape[0]\n",
        "num_test_neg = df_test[df_test['Label'] == 0].shape[0]\n",
        "num_balanced = min(num_test_pos, num_test_neg)\n",
        "df_test_pos = df_test[df_test['Label'] == 1].sample(n=num_balanced, random_state=42)\n",
        "df_test_neg = df_test[df_test['Label'] == 0].sample(n=num_balanced, random_state=42)\n",
        "df_test = pd.concat([df_test_pos, df_test_neg])\n",
        "\n",
        "# Report the number of sentences.\n",
        "print('Number of training sentences: {:,}\\n'.format(df_train.shape[0]))\n",
        "print('Number of validation sentences: {:,}\\n'.format(df_val.shape[0]))\n",
        "print('Number of testing sentences: {:,}\\n'.format(df_test.shape[0]))"
      ]
    },
    {
      "cell_type": "code",
      "execution_count": 3,
      "metadata": {
        "id": "GuE5BqICAne2"
      },
      "outputs": [],
      "source": [
        "# Get the lists of sentences and their labels.\n",
        "sentences_train = df_train.TEXT.values\n",
        "labels_train = df_train.Label.values\n",
        "sentences_val = df_val.TEXT.values\n",
        "labels_val = df_val.Label.values\n",
        "sentences_test = df_test.TEXT.values\n",
        "labels_test = df_test.Label.values"
      ]
    },
    {
      "cell_type": "markdown",
      "metadata": {
        "id": "ex5O1eV-Pfct"
      },
      "source": [
        "# 3. Tokenization & Input Formatting\n",
        "\n",
        "In this section, we'll transform our dataset into the format that BERT can be trained on."
      ]
    },
    {
      "cell_type": "markdown",
      "metadata": {
        "id": "-8kEDRvShcU5"
      },
      "source": [
        "## 3.1. BERT Tokenizer"
      ]
    },
    {
      "cell_type": "markdown",
      "metadata": {
        "id": "bWOPOyWghJp2"
      },
      "source": [
        "\n",
        "To feed our text to BERT, it must be split into tokens, and then these tokens must be mapped to their index in the tokenizer vocabulary.\n",
        "\n",
        "The tokenization must be performed by the tokenizer included with BERT--the below cell will download this for us. We'll be using the \"uncased\" version here.\n"
      ]
    },
    {
      "cell_type": "code",
      "execution_count": 4,
      "metadata": {
        "colab": {
          "base_uri": "https://localhost:8080/",
          "height": 162,
          "referenced_widgets": [
            "3259bbb9cfbf4652944d6a63779c8536",
            "03eb5cad0dd745feb519ae16bc13afd5",
            "ab7f43db105a4c059816b83b8e3050ec",
            "02c860af048a48039571df1ac10703a0",
            "3276e0075f924285aaa17252d34217ba",
            "82b16898863445b485e301b75b1c918c",
            "7fada7d50b514b38ad70fa3baf613c6f",
            "b4e9766eb48c4db09d5e9ec558802d25",
            "3496eb8998e64a38bf2ea922eec5f093",
            "e1f85d855dc54d93b07370119c3fb96b",
            "6ce09be5acce441494710b3c0cbc6169",
            "9b263a3168674657b14223e58611f294",
            "e02c53a9b05047b0a3bfc9e47735ee43",
            "b15d78f0355e4c55b9ce4480d42bd67c",
            "4bb4b4d8abb34ffbafa2194402d755f8",
            "eb60945d776d4b5a92870fa3371471f6",
            "ff7286cb5f4e4afdb9b8403265e51f0c",
            "fefd62e5e0064bb6a8ed1f750309b8a1",
            "4171dca739984eb68291b7e8f337f372",
            "9ed6e953f4d74267a34be03f6b19283a",
            "94d9470c01bd419dbf9f55fa69487ac9",
            "4ae1954f09a04e0cb50a01a0154f64ec",
            "261c73d7337e4fd89c5512fd7cc801b9",
            "99320230aa154969ac7efcb4bd08e93a",
            "1b80d80718874a95b805bca384538f9f",
            "f1fb5bd99db34449aaa0775649c33ade",
            "faa00d6df14a4229b40388dbf79b911f",
            "52b73c5ed8354070bbc22b6b74bde680",
            "a747919a41ac43ae9baaf22c5654ca02",
            "318e7d7d83c447a793316c7dda14a06d",
            "cf4b37cd06c34b6c995b02e30003ff38",
            "942cfc1c25e54f088288dd44c9c708e9",
            "900a26c928b74d668a77dc97cc22995e",
            "338a08d6c85e48e0b8ef1c0a083043fb",
            "55d9d13ce82b4950a54b33bb6733ea58",
            "8ae18003614946a4b0cb39b81f5a6063",
            "427bed3eb7e743f387a0dd6c23f031e9",
            "632c81708e674a61b848d1fccab30084",
            "ec7c4858c9be4d359b77d390c432dbbb",
            "599f7a8f19874431bd445deda4c7b273",
            "571e6cb89b8d40cbaa812a53f895acdc",
            "6a2a3be6805048539e68be9c9db64cc5",
            "9348b3637d2a4d2088281c8e34d98f3e",
            "41ba494ceeba44de99f69891d4fcfed7"
          ]
        },
        "id": "Z474sSC6oe7A",
        "outputId": "98043c48-fe54-4d6f-ff35-ac3d33ee28d6"
      },
      "outputs": [
        {
          "name": "stdout",
          "output_type": "stream",
          "text": [
            "Loading BertTokenizer tokenizer...\n"
          ]
        }
      ],
      "source": [
        "from transformers import BertTokenizer\n",
        "import os\n",
        "model_path = os.path.expanduser('~/med264/clinicalBERTs/pretraining_checkpoint/')\n",
        "# Load the BERT tokenizer.\n",
        "print('Loading BertTokenizer tokenizer...')\n",
        "tokenizer = BertTokenizer.from_pretrained(model_path)"
      ]
    },
    {
      "cell_type": "markdown",
      "metadata": {
        "id": "dFzmtleW6KmJ"
      },
      "source": [
        "Let's apply the tokenizer to one sentence just to see the output.\n"
      ]
    },
    {
      "cell_type": "code",
      "execution_count": 5,
      "metadata": {},
      "outputs": [
        {
          "name": "stdout",
          "output_type": "stream",
          "text": [
            " Original:  throughout the aorta. there is no hilar, mediastinal, or axillary lymphadenopathy. ct of the abdomen with iv contrast: ng tube is noted within the stomach. the adrenal glands, pancreas, gallbladder, and liver are within normal limits. there is a small splenic cyst near the splenic hilum. the kidneys are shrunken and atrophic bilaterally. multiple cysts are noted with the largest in the right kidney measuring up to 6 cm. there is no retroperitoneal or mesenteric lymphadenopathy. there is no free air or free fluid. (over) 1:44 pm cta chest w&w/o c&recons, non-coronary; ct abdomen w/contrast clip # ct pelvis w/contrast reason: r/o pe final report (cont) ct of the pelvis with iv contrast: the rectum and sigmoid colon are abnormal with wall thickening, adjacent fat stranding, and relative of the wall. the remainder of the bowel wall appears within normal limits. there is no evidence of obstruction. the abdominal and pelvic arterial vasculature is heavily calcified. however, there is no evidence of filling defect within the arterial vasculature. a foley catheter is within a nearly decompressed bladder. the prostate is markedly enlarged with a prostatic stent. the stent remains in the prostate. the foley catheter is inflated within the prostate proximal to the stent. the tip of the foley catheter is external to the lumen of the stent, ending along the outer, posterior edge there are small bilateral fat-containing inguinal hernias. there is no pelvic or inguinal lymphadenopathy. bone windows: no concerning osseous lesions are identified. impression: no evidence of pulmonary embolism or dissection. aneurysm of the ascending aorta. trace pericardial fluid. dilated, ahaustral, and hypoenhancing segments of the sigmoid colon with bowel wall thickening and adjacent fat stranding, concerning for infectious process, less likely ischemia. enlarged prostate with prostatic stent. foley catheter ends proximal to stent with balloon inflated within the prostate. small atrophic bilateral kidneys. findings were discussed with doctor shortly after review on . revised\n",
            "Tokenized:  ['throughout', 'the', 'ao', '##rta', '.', 'there', 'is', 'no', 'hi', '##lar', ',', 'media', '##sti', '##nal', ',', 'or', 'ax', '##illa', '##ry', 'l', '##ym', '##pha', '##den', '##opa', '##thy', '.', 'ct', 'of', 'the', 'abdomen', 'with', 'iv', 'contrast', ':', 'ng', 'tube', 'is', 'noted', 'within', 'the', 'stomach', '.', 'the', 'ad', '##ren', '##al', 'glands', ',', 'pan', '##cre', '##as', ',', 'gall', '##bla', '##dder', ',', 'and', 'liver', 'are', 'within', 'normal', 'limits', '.', 'there', 'is', 'a', 'small', 'sp', '##len', '##ic', 'cy', '##st', 'near', 'the', 'sp', '##len', '##ic', 'hi', '##lum', '.', 'the', 'kidney', '##s', 'are', 'sh', '##run', '##ken', 'and', 'at', '##rop', '##hic', 'bilateral', '##ly', '.', 'multiple', 'cy', '##sts', 'are', 'noted', 'with', 'the', 'largest', 'in', 'the', 'right', 'kidney', 'measuring', 'up', 'to', '6', 'cm', '.', 'there', 'is', 'no', 'retro', '##per', '##ito', '##nea', '##l', 'or', 'me', '##sen', '##ter', '##ic', 'l', '##ym', '##pha', '##den', '##opa', '##thy', '.', 'there', 'is', 'no', 'free', 'air', 'or', 'free', 'fluid', '.', '(', 'over', ')', '1', ':', '44', 'pm', 'ct', '##a', 'chest', 'w', '&', 'w', '/', 'o', 'c', '&', 'rec', '##ons', ',', 'non', '-', 'corona', '##ry', ';', 'ct', 'abdomen', 'w', '/', 'contrast', 'clip', '#', 'ct', 'pe', '##lvis', 'w', '/', 'contrast', 'reason', ':', 'r', '/', 'o', 'pe', 'final', 'report', '(', 'con', '##t', ')', 'ct', 'of', 'the', 'pe', '##lvis', 'with', 'iv', 'contrast', ':', 'the', 'rec', '##tum', 'and', 'si', '##gm', '##oid', 'colon', 'are', 'abnormal', 'with', 'wall', 'thick', '##ening', ',', 'adjacent', 'fat', 'strand', '##ing', ',', 'and', 'relative', 'of', 'the', 'wall', '.', 'the', 'remainder', 'of', 'the', 'bow', '##el', 'wall', 'appears', 'within', 'normal', 'limits', '.', 'there', 'is', 'no', 'evidence', 'of', 'obstruction', '.', 'the', 'abdominal', 'and', 'pe', '##l', '##vic', 'arterial', 'va', '##scu', '##lat', '##ure', 'is', 'heavily', 'cal', '##ci', '##fied', '.', 'however', ',', 'there', 'is', 'no', 'evidence', 'of', 'filling', 'defect', 'within', 'the', 'arterial', 'va', '##scu', '##lat', '##ure', '.', 'a', 'foley', 'cat', '##het', '##er', 'is', 'within', 'a', 'nearly', 'deco', '##mp', '##ressed', 'bladder', '.', 'the', 'prostate', 'is', 'markedly', 'enlarged', 'with', 'a', 'pro', '##static', 'ste', '##nt', '.', 'the', 'ste', '##nt', 'remains', 'in', 'the', 'prostate', '.', 'the', 'foley', 'cat', '##het', '##er', 'is', 'inflated', 'within', 'the', 'prostate', 'pro', '##xi', '##mal', 'to', 'the', 'ste', '##nt', '.', 'the', 'tip', 'of', 'the', 'foley', 'cat', '##het', '##er', 'is', 'external', 'to', 'the', 'lu', '##men', 'of', 'the', 'ste', '##nt', ',', 'ending', 'along', 'the', 'outer', ',', 'posterior', 'edge', 'there', 'are', 'small', 'bilateral', 'fat', '-', 'containing', 'ing', '##uin', '##al', 'her', '##nia', '##s', '.', 'there', 'is', 'no', 'pe', '##l', '##vic', 'or', 'ing', '##uin', '##al', 'l', '##ym', '##pha', '##den', '##opa', '##thy', '.', 'bone', 'windows', ':', 'no', 'concerning', 'os', '##se', '##ous', 'lesions', 'are', 'identified', '.', 'impression', ':', 'no', 'evidence', 'of', 'pulmonary', 'em', '##bol', '##ism', 'or', 'di', '##sse', '##ction', '.', 'an', '##eur', '##ys', '##m', 'of', 'the', 'ascending', 'ao', '##rta', '.', 'trace', 'per', '##ica', '##rdial', 'fluid', '.', 'dil', '##ated', ',', 'ah', '##aus', '##tral', ',', 'and', 'h', '##yp', '##oe', '##nh', '##an', '##cing', 'segments', 'of', 'the', 'si', '##gm', '##oid', 'colon', 'with', 'bow', '##el', 'wall', 'thick', '##ening', 'and', 'adjacent', 'fat', 'strand', '##ing', ',', 'concerning', 'for', 'infectious', 'process', ',', 'less', 'likely', 'is', '##che', '##mia', '.', 'enlarged', 'prostate', 'with', 'pro', '##static', 'ste', '##nt', '.', 'foley', 'cat', '##het', '##er', 'ends', 'pro', '##xi', '##mal', 'to', 'ste', '##nt', 'with', 'balloon', 'inflated', 'within', 'the', 'prostate', '.', 'small', 'at', '##rop', '##hic', 'bilateral', 'kidney', '##s', '.', 'findings', 'were', 'discussed', 'with', 'doctor', 'shortly', 'after', 'review', 'on', '.', 'revised']\n",
            "Token IDs:  [2802, 1996, 20118, 13320, 1012, 2045, 2003, 2053, 7632, 8017, 1010, 2865, 16643, 12032, 1010, 2030, 22260, 9386, 2854, 1048, 24335, 21890, 4181, 29477, 16921, 1012, 14931, 1997, 1996, 13878, 2007, 4921, 5688, 1024, 12835, 7270, 2003, 3264, 2306, 1996, 4308, 1012, 1996, 4748, 7389, 2389, 23340, 1010, 6090, 16748, 3022, 1010, 26033, 28522, 20791, 1010, 1998, 11290, 2024, 2306, 3671, 6537, 1012, 2045, 2003, 1037, 2235, 11867, 7770, 2594, 22330, 3367, 2379, 1996, 11867, 7770, 2594, 7632, 12942, 1012, 1996, 14234, 2015, 2024, 14021, 15532, 7520, 1998, 2012, 18981, 16066, 17758, 2135, 1012, 3674, 22330, 12837, 2024, 3264, 2007, 1996, 2922, 1999, 1996, 2157, 14234, 9854, 2039, 2000, 1020, 4642, 1012, 2045, 2003, 2053, 22307, 4842, 9956, 22084, 2140, 2030, 2033, 5054, 3334, 2594, 1048, 24335, 21890, 4181, 29477, 16921, 1012, 2045, 2003, 2053, 2489, 2250, 2030, 2489, 8331, 1012, 1006, 2058, 1007, 1015, 1024, 4008, 7610, 14931, 2050, 3108, 1059, 1004, 1059, 1013, 1051, 1039, 1004, 28667, 5644, 1010, 2512, 1011, 21887, 2854, 1025, 14931, 13878, 1059, 1013, 5688, 12528, 1001, 14931, 21877, 28530, 1059, 1013, 5688, 3114, 1024, 1054, 1013, 1051, 21877, 2345, 3189, 1006, 9530, 2102, 1007, 14931, 1997, 1996, 21877, 28530, 2007, 4921, 5688, 1024, 1996, 28667, 11667, 1998, 9033, 21693, 9314, 16844, 2024, 19470, 2007, 2813, 4317, 7406, 1010, 5516, 6638, 11226, 2075, 1010, 1998, 5816, 1997, 1996, 2813, 1012, 1996, 6893, 1997, 1996, 6812, 2884, 2813, 3544, 2306, 3671, 6537, 1012, 2045, 2003, 2053, 3350, 1997, 27208, 1012, 1996, 21419, 1998, 21877, 2140, 7903, 25543, 12436, 28817, 20051, 5397, 2003, 4600, 10250, 6895, 10451, 1012, 2174, 1010, 2045, 2003, 2053, 3350, 1997, 8110, 21262, 2306, 1996, 25543, 12436, 28817, 20051, 5397, 1012, 1037, 17106, 4937, 27065, 2121, 2003, 2306, 1037, 3053, 21933, 8737, 16119, 24176, 1012, 1996, 25086, 2003, 29295, 11792, 2007, 1037, 4013, 16677, 26261, 3372, 1012, 1996, 26261, 3372, 3464, 1999, 1996, 25086, 1012, 1996, 17106, 4937, 27065, 2121, 2003, 29561, 2306, 1996, 25086, 4013, 9048, 9067, 2000, 1996, 26261, 3372, 1012, 1996, 5955, 1997, 1996, 17106, 4937, 27065, 2121, 2003, 6327, 2000, 1996, 11320, 3549, 1997, 1996, 26261, 3372, 1010, 4566, 2247, 1996, 6058, 1010, 15219, 3341, 2045, 2024, 2235, 17758, 6638, 1011, 4820, 13749, 20023, 2389, 2014, 6200, 2015, 1012, 2045, 2003, 2053, 21877, 2140, 7903, 2030, 13749, 20023, 2389, 1048, 24335, 21890, 4181, 29477, 16921, 1012, 5923, 3645, 1024, 2053, 7175, 9808, 3366, 3560, 22520, 2024, 4453, 1012, 8605, 1024, 2053, 3350, 1997, 21908, 7861, 14956, 2964, 2030, 4487, 11393, 7542, 1012, 2019, 11236, 7274, 2213, 1997, 1996, 22316, 20118, 13320, 1012, 7637, 2566, 5555, 25070, 8331, 1012, 29454, 4383, 1010, 6289, 20559, 21493, 1010, 1998, 1044, 22571, 8913, 25311, 2319, 6129, 9214, 1997, 1996, 9033, 21693, 9314, 16844, 2007, 6812, 2884, 2813, 4317, 7406, 1998, 5516, 6638, 11226, 2075, 1010, 7175, 2005, 16514, 2832, 1010, 2625, 3497, 2003, 5403, 10092, 1012, 11792, 25086, 2007, 4013, 16677, 26261, 3372, 1012, 17106, 4937, 27065, 2121, 4515, 4013, 9048, 9067, 2000, 26261, 3372, 2007, 13212, 29561, 2306, 1996, 25086, 1012, 2235, 2012, 18981, 16066, 17758, 14234, 2015, 1012, 9556, 2020, 6936, 2007, 3460, 3859, 2044, 3319, 2006, 1012, 8001]\n"
          ]
        }
      ],
      "source": [
        "# Print the original sentence.\n",
        "print(' Original: ', sentences_train[0])\n",
        "# Print the sentence split into tokens.\n",
        "print('Tokenized: ', tokenizer.tokenize(sentences_train[0]))\n",
        "# Print the sentence mapped to token ids.\n",
        "print('Token IDs: ', tokenizer.convert_tokens_to_ids(tokenizer.tokenize(sentences_train[0])))"
      ]
    },
    {
      "cell_type": "markdown",
      "metadata": {
        "id": "l6w8elb-58GJ"
      },
      "source": [
        "## 3.2. Sentences to IDs"
      ]
    },
    {
      "cell_type": "code",
      "execution_count": 6,
      "metadata": {
        "colab": {
          "base_uri": "https://localhost:8080/"
        },
        "id": "2bBdb3pt8LuQ",
        "outputId": "11ab1ae6-cc86-489b-b697-1606b4d990f4"
      },
      "outputs": [
        {
          "name": "stderr",
          "output_type": "stream",
          "text": [
            "100%|███████████████████████████████████████████████████████████████████████████████████████| 26108/26108 [01:40<00:00, 259.59it/s]\n"
          ]
        },
        {
          "name": "stdout",
          "output_type": "stream",
          "text": [
            "Saved input_ids_train.\n"
          ]
        },
        {
          "name": "stderr",
          "output_type": "stream",
          "text": [
            "100%|█████████████████████████████████████████████████████████████████████████████████████████| 3100/3100 [00:11<00:00, 269.47it/s]\n"
          ]
        },
        {
          "name": "stdout",
          "output_type": "stream",
          "text": [
            "Saved input_ids_valid.\n"
          ]
        },
        {
          "name": "stderr",
          "output_type": "stream",
          "text": [
            "100%|█████████████████████████████████████████████████████████████████████████████████████████| 3246/3246 [00:12<00:00, 267.98it/s]\n"
          ]
        },
        {
          "name": "stdout",
          "output_type": "stream",
          "text": [
            "Saved input_ids_test.\n",
            "Original:  throughout the aorta. there is no hilar, mediastinal, or axillary lymphadenopathy. ct of the abdomen with iv contrast: ng tube is noted within the stomach. the adrenal glands, pancreas, gallbladder, and liver are within normal limits. there is a small splenic cyst near the splenic hilum. the kidneys are shrunken and atrophic bilaterally. multiple cysts are noted with the largest in the right kidney measuring up to 6 cm. there is no retroperitoneal or mesenteric lymphadenopathy. there is no free air or free fluid. (over) 1:44 pm cta chest w&w/o c&recons, non-coronary; ct abdomen w/contrast clip # ct pelvis w/contrast reason: r/o pe final report (cont) ct of the pelvis with iv contrast: the rectum and sigmoid colon are abnormal with wall thickening, adjacent fat stranding, and relative of the wall. the remainder of the bowel wall appears within normal limits. there is no evidence of obstruction. the abdominal and pelvic arterial vasculature is heavily calcified. however, there is no evidence of filling defect within the arterial vasculature. a foley catheter is within a nearly decompressed bladder. the prostate is markedly enlarged with a prostatic stent. the stent remains in the prostate. the foley catheter is inflated within the prostate proximal to the stent. the tip of the foley catheter is external to the lumen of the stent, ending along the outer, posterior edge there are small bilateral fat-containing inguinal hernias. there is no pelvic or inguinal lymphadenopathy. bone windows: no concerning osseous lesions are identified. impression: no evidence of pulmonary embolism or dissection. aneurysm of the ascending aorta. trace pericardial fluid. dilated, ahaustral, and hypoenhancing segments of the sigmoid colon with bowel wall thickening and adjacent fat stranding, concerning for infectious process, less likely ischemia. enlarged prostate with prostatic stent. foley catheter ends proximal to stent with balloon inflated within the prostate. small atrophic bilateral kidneys. findings were discussed with doctor shortly after review on . revised\n",
            "Token IDs: [101, 2802, 1996, 20118, 13320, 1012, 2045, 2003, 2053, 7632, 8017, 1010, 2865, 16643, 12032, 1010, 2030, 22260, 9386, 2854, 1048, 24335, 21890, 4181, 29477, 16921, 1012, 14931, 1997, 1996, 13878, 2007, 4921, 5688, 1024, 12835, 7270, 2003, 3264, 2306, 1996, 4308, 1012, 1996, 4748, 7389, 2389, 23340, 1010, 6090, 16748, 3022, 1010, 26033, 28522, 20791, 1010, 1998, 11290, 2024, 2306, 3671, 6537, 1012, 2045, 2003, 1037, 2235, 11867, 7770, 2594, 22330, 3367, 2379, 1996, 11867, 7770, 2594, 7632, 12942, 1012, 1996, 14234, 2015, 2024, 14021, 15532, 7520, 1998, 2012, 18981, 16066, 17758, 2135, 1012, 3674, 22330, 12837, 2024, 3264, 2007, 1996, 2922, 1999, 1996, 2157, 14234, 9854, 2039, 2000, 1020, 4642, 1012, 2045, 2003, 2053, 22307, 4842, 9956, 22084, 2140, 2030, 2033, 5054, 3334, 2594, 1048, 24335, 21890, 4181, 29477, 16921, 1012, 2045, 2003, 2053, 2489, 2250, 2030, 2489, 8331, 1012, 1006, 2058, 1007, 1015, 1024, 4008, 7610, 14931, 2050, 3108, 1059, 1004, 1059, 1013, 1051, 1039, 1004, 28667, 5644, 1010, 2512, 1011, 21887, 2854, 1025, 14931, 13878, 1059, 1013, 5688, 12528, 1001, 14931, 21877, 28530, 1059, 1013, 5688, 3114, 1024, 1054, 1013, 1051, 21877, 2345, 3189, 1006, 9530, 2102, 1007, 14931, 1997, 1996, 21877, 28530, 2007, 4921, 5688, 1024, 1996, 28667, 11667, 1998, 9033, 21693, 9314, 16844, 2024, 19470, 2007, 2813, 4317, 7406, 1010, 5516, 6638, 11226, 2075, 1010, 1998, 5816, 1997, 1996, 2813, 1012, 1996, 6893, 1997, 1996, 6812, 2884, 2813, 3544, 2306, 3671, 6537, 1012, 2045, 2003, 2053, 3350, 1997, 27208, 1012, 1996, 21419, 1998, 21877, 2140, 7903, 25543, 12436, 28817, 20051, 5397, 2003, 4600, 10250, 6895, 10451, 1012, 2174, 1010, 2045, 2003, 2053, 3350, 1997, 8110, 21262, 2306, 1996, 25543, 12436, 28817, 20051, 5397, 1012, 1037, 17106, 4937, 27065, 2121, 2003, 2306, 1037, 3053, 21933, 8737, 16119, 24176, 1012, 1996, 25086, 2003, 29295, 11792, 2007, 1037, 4013, 16677, 26261, 3372, 1012, 1996, 26261, 3372, 3464, 1999, 1996, 25086, 1012, 1996, 17106, 4937, 27065, 2121, 2003, 29561, 2306, 1996, 25086, 4013, 9048, 9067, 2000, 1996, 26261, 3372, 1012, 1996, 5955, 1997, 1996, 17106, 4937, 27065, 2121, 2003, 6327, 2000, 1996, 11320, 3549, 1997, 1996, 26261, 3372, 1010, 4566, 2247, 1996, 6058, 1010, 15219, 3341, 2045, 2024, 2235, 17758, 6638, 1011, 4820, 13749, 20023, 2389, 2014, 6200, 2015, 1012, 2045, 2003, 2053, 21877, 2140, 7903, 2030, 13749, 20023, 2389, 1048, 24335, 21890, 4181, 29477, 16921, 1012, 5923, 3645, 1024, 2053, 7175, 9808, 3366, 3560, 22520, 2024, 4453, 1012, 8605, 1024, 2053, 3350, 1997, 21908, 7861, 14956, 2964, 2030, 4487, 11393, 7542, 1012, 2019, 11236, 7274, 2213, 1997, 1996, 22316, 20118, 13320, 1012, 7637, 2566, 5555, 25070, 8331, 1012, 29454, 4383, 1010, 6289, 20559, 21493, 1010, 1998, 1044, 22571, 8913, 25311, 2319, 6129, 9214, 1997, 1996, 9033, 21693, 9314, 16844, 2007, 6812, 2884, 2813, 4317, 7406, 1998, 5516, 6638, 11226, 2075, 1010, 7175, 2005, 16514, 2832, 1010, 2625, 3497, 2003, 5403, 10092, 1012, 11792, 25086, 2007, 4013, 16677, 26261, 3372, 1012, 17106, 4937, 27065, 2121, 4515, 4013, 9048, 9067, 2000, 26261, 3372, 2007, 13212, 29561, 2306, 1996, 25086, 1012, 2235, 2012, 18981, 16066, 17758, 14234, 2015, 1012, 9556, 2020, 6936, 2007, 3460, 3859, 2044, 3319, 2006, 1012, 8001, 102]\n"
          ]
        }
      ],
      "source": [
        "from tqdm import tqdm\n",
        "import os\n",
        "import pickle\n",
        "\n",
        "# Correct the path by expanding the tilde to the user's home directory\n",
        "file_path_train = os.path.expanduser('~/med264/Dataset3/input_ids_train.pickle')\n",
        "file_path_valid = os.path.expanduser('~/med264/Dataset3/input_ids_valid.pickle')\n",
        "file_path_test = os.path.expanduser('~/med264/Dataset3/input_ids_test.pickle')\n",
        "\n",
        "\n",
        "input_ids_train, input_ids_valid, input_ids_test = [], [], []\n",
        "\n",
        "if os.path.exists(file_path_train):\n",
        "    with open(file_path_train, 'rb') as f:\n",
        "        input_ids_train = pickle.load(f)\n",
        "    print('Loaded input_ids_train.')\n",
        "else:\n",
        "    for sent in tqdm(sentences_train):\n",
        "        encoded_sent = tokenizer.encode(sent, add_special_tokens = True)\n",
        "        input_ids_train.append(encoded_sent)\n",
        "    with open(file_path_train, 'wb') as f:\n",
        "        pickle.dump(input_ids_train, f)\n",
        "    print('Saved input_ids_train.')\n",
        "\n",
        "\n",
        "if os.path.exists(file_path_valid):\n",
        "    with open(file_path_valid, 'rb') as f:\n",
        "        input_ids_valid = pickle.load(f)\n",
        "    print('Loaded input_ids_valid.')\n",
        "else:\n",
        "    for sent in tqdm(sentences_val):\n",
        "        encoded_sent = tokenizer.encode(sent, add_special_tokens = True)\n",
        "        input_ids_valid.append(encoded_sent)\n",
        "    with open(file_path_valid, 'wb') as f:\n",
        "        pickle.dump(input_ids_valid, f)\n",
        "    print('Saved input_ids_valid.')\n",
        "\n",
        "if os.path.exists(file_path_test):\n",
        "    with open(file_path_test, 'rb') as f:\n",
        "        input_ids_test = pickle.load(f)\n",
        "    print('Loaded input_ids_test.')\n",
        "else:\n",
        "    for sent in tqdm(sentences_test):\n",
        "        encoded_sent = tokenizer.encode(sent, add_special_tokens = True)\n",
        "        input_ids_test.append(encoded_sent)\n",
        "    with open(file_path_test, 'wb') as f:\n",
        "            pickle.dump(input_ids_test, f)\n",
        "    print('Saved input_ids_test.')\n",
        "    \n",
        "\n",
        "# Print sentence 0, now as a list of IDs.\n",
        "print('Original: ', sentences_train[0])\n",
        "print('Token IDs:', input_ids_train[0])"
      ]
    },
    {
      "cell_type": "code",
      "execution_count": 7,
      "metadata": {
        "colab": {
          "base_uri": "https://localhost:8080/"
        },
        "id": "JhUZO9vc_l6T",
        "outputId": "3962e62a-f572-43ff-ac22-6ae8fa01ad0f"
      },
      "outputs": [
        {
          "name": "stdout",
          "output_type": "stream",
          "text": [
            "Max train sentence length:  881\n",
            "Max valid sentence length:  1066\n",
            "Max test sentence length:  818\n"
          ]
        }
      ],
      "source": [
        "print('Max train sentence length: ', max([len(sen) for sen in input_ids_train]))\n",
        "print('Max valid sentence length: ', max([len(sen) for sen in input_ids_valid]))\n",
        "print('Max test sentence length: ', max([len(sen) for sen in input_ids_test]))"
      ]
    },
    {
      "cell_type": "markdown",
      "metadata": {
        "id": "hp-54FcQ_p3h"
      },
      "source": [
        "Given that, let's choose MAX_LEN = 64 and apply the padding."
      ]
    },
    {
      "cell_type": "code",
      "execution_count": 8,
      "metadata": {
        "colab": {
          "base_uri": "https://localhost:8080/"
        },
        "id": "Cp9BPRd1tMIo",
        "outputId": "7530cd63-5916-4bee-dad5-f5533faf5aa5"
      },
      "outputs": [
        {
          "name": "stderr",
          "output_type": "stream",
          "text": [
            "2023-11-30 11:41:26.271183: I tensorflow/core/util/port.cc:113] oneDNN custom operations are on. You may see slightly different numerical results due to floating-point round-off errors from different computation orders. To turn them off, set the environment variable `TF_ENABLE_ONEDNN_OPTS=0`.\n",
            "2023-11-30 11:41:30.945440: E external/local_xla/xla/stream_executor/cuda/cuda_dnn.cc:9261] Unable to register cuDNN factory: Attempting to register factory for plugin cuDNN when one has already been registered\n",
            "2023-11-30 11:41:30.945494: E external/local_xla/xla/stream_executor/cuda/cuda_fft.cc:607] Unable to register cuFFT factory: Attempting to register factory for plugin cuFFT when one has already been registered\n",
            "2023-11-30 11:41:31.760995: E external/local_xla/xla/stream_executor/cuda/cuda_blas.cc:1515] Unable to register cuBLAS factory: Attempting to register factory for plugin cuBLAS when one has already been registered\n",
            "2023-11-30 11:41:32.598965: I tensorflow/core/platform/cpu_feature_guard.cc:182] This TensorFlow binary is optimized to use available CPU instructions in performance-critical operations.\n",
            "To enable the following instructions: AVX2 AVX512F AVX512_VNNI FMA, in other operations, rebuild TensorFlow with the appropriate compiler flags.\n",
            "2023-11-30 11:41:39.212142: W tensorflow/compiler/tf2tensorrt/utils/py_utils.cc:38] TF-TRT Warning: Could not find TensorRT\n"
          ]
        },
        {
          "name": "stdout",
          "output_type": "stream",
          "text": [
            "\n",
            "Padding/truncating all sentences to 512 values...\n",
            "\n",
            "Padding token: \"[PAD]\", ID: 0\n",
            "\n",
            "Done.\n"
          ]
        }
      ],
      "source": [
        "# We'll borrow the `pad_sequences` utility function to do this.\n",
        "from keras.preprocessing.sequence import pad_sequences\n",
        "\n",
        "MAX_LEN = 512\n",
        "print('\\nPadding/truncating all sentences to %d values...' % MAX_LEN)\n",
        "print('\\nPadding token: \"{:}\", ID: {:}'.format(tokenizer.pad_token, tokenizer.pad_token_id))\n",
        "\n",
        "input_ids_train = pad_sequences(input_ids_train, maxlen=MAX_LEN, dtype=\"long\", value=0, truncating=\"post\", padding=\"post\")\n",
        "input_ids_valid = pad_sequences(input_ids_valid, maxlen=MAX_LEN, dtype=\"long\", value=0, truncating=\"post\", padding=\"post\")\n",
        "input_ids_test = pad_sequences(input_ids_test, maxlen=MAX_LEN, dtype=\"long\", value=0, truncating=\"post\", padding=\"post\")\n",
        "\n",
        "print('\\nDone.')"
      ]
    },
    {
      "cell_type": "markdown",
      "metadata": {
        "id": "kDs-MYtYH8sL"
      },
      "source": [
        "## 3.4. Attention Masks"
      ]
    },
    {
      "cell_type": "code",
      "execution_count": 9,
      "metadata": {
        "id": "cDoC24LeEv3N"
      },
      "outputs": [],
      "source": [
        "# Create attention masks\n",
        "attention_masks_train, attention_masks_valid, attention_masks_test = [], [], []\n",
        "\n",
        "# For each sentence...\n",
        "for sent in input_ids_train:\n",
        "    att_mask = [int(token_id > 0) for token_id in sent]\n",
        "    attention_masks_train.append(att_mask)\n",
        "\n",
        "for sent in input_ids_valid:\n",
        "    att_mask = [int(token_id > 0) for token_id in sent]\n",
        "    attention_masks_valid.append(att_mask)\n",
        "\n",
        "for sent in input_ids_test:\n",
        "    att_mask = [int(token_id > 0) for token_id in sent]\n",
        "    attention_masks_test.append(att_mask)"
      ]
    },
    {
      "cell_type": "markdown",
      "metadata": {
        "id": "aRp4O7D295d_"
      },
      "source": [
        "## 3.5. Training & Validation Split\n"
      ]
    },
    {
      "cell_type": "markdown",
      "metadata": {
        "id": "qu0ao7p8rb06"
      },
      "source": [
        "Divide up our training set to use 90% for training and 10% for validation."
      ]
    },
    {
      "cell_type": "code",
      "execution_count": 10,
      "metadata": {
        "id": "aFbE-UHvsb7-"
      },
      "outputs": [],
      "source": [
        "train_inputs, validation_inputs, test_inpputs, train_labels, validation_labels, test_labels =\\\n",
        "input_ids_train, input_ids_valid, input_ids_test, labels_train, labels_val, labels_test\n",
        "\n",
        "train_masks, validation_masks, test_masks = attention_masks_train, attention_masks_valid, attention_masks_test"
      ]
    },
    {
      "cell_type": "markdown",
      "metadata": {
        "id": "7LzSbTqW9_BR"
      },
      "source": [
        "## 3.6. Converting to PyTorch Data Types"
      ]
    },
    {
      "cell_type": "markdown",
      "metadata": {
        "id": "6p1uXczp-Je4"
      },
      "source": [
        "Our model expects PyTorch tensors rather than numpy.ndarrays, so convert all of our dataset variables."
      ]
    },
    {
      "cell_type": "code",
      "execution_count": 11,
      "metadata": {
        "id": "jw5K2A5Ko1RF"
      },
      "outputs": [],
      "source": [
        "# Convert all inputs and labels into torch tensors, the required datatype\n",
        "# for our model.\n",
        "train_inputs = torch.tensor(train_inputs)\n",
        "validation_inputs = torch.tensor(validation_inputs)\n",
        "\n",
        "train_labels = torch.tensor(train_labels)\n",
        "validation_labels = torch.tensor(validation_labels)\n",
        "\n",
        "train_masks = torch.tensor(train_masks)\n",
        "validation_masks = torch.tensor(validation_masks)"
      ]
    },
    {
      "cell_type": "markdown",
      "metadata": {
        "id": "dD9i6Z2pG-sN"
      },
      "source": [
        "We'll also create an iterator for our dataset using the torch DataLoader class. This helps save on memory during training because, unlike a for loop, with an iterator the entire dataset does not need to be loaded into memory."
      ]
    },
    {
      "cell_type": "code",
      "execution_count": 12,
      "metadata": {
        "id": "GEgLpFVlo1Z-"
      },
      "outputs": [],
      "source": [
        "from torch.utils.data import TensorDataset, DataLoader, RandomSampler, SequentialSampler\n",
        "\n",
        "batch_size = 64\n",
        "\n",
        "# Create the DataLoader for our training set.\n",
        "train_data = TensorDataset(train_inputs, train_masks, train_labels)\n",
        "train_sampler = RandomSampler(train_data)\n",
        "train_dataloader = DataLoader(train_data, sampler=train_sampler, batch_size=batch_size)\n",
        "\n",
        "# Create the DataLoader for our validation set.\n",
        "validation_data = TensorDataset(validation_inputs, validation_masks, validation_labels)\n",
        "validation_sampler = SequentialSampler(validation_data)\n",
        "validation_dataloader = DataLoader(validation_data, sampler=validation_sampler, batch_size=batch_size)"
      ]
    },
    {
      "cell_type": "markdown",
      "metadata": {
        "id": "8bwa6Rts-02-"
      },
      "source": [
        "# 4. Train Our Classification Model"
      ]
    },
    {
      "cell_type": "code",
      "execution_count": 13,
      "metadata": {
        "colab": {
          "base_uri": "https://localhost:8080/",
          "height": 885,
          "referenced_widgets": [
            "baa55ed847294bb3a7c954a53c238d32",
            "c32c896bfdc34392a7ad9e19705063ce",
            "bf865e8dbc534bbd8369dd0f7922d889",
            "3387a402721d49db963b4e008e53fddb",
            "dd3ddfe03dcb41969725890fb0683062",
            "7e89d82b8c9748138d79c28506876171",
            "96e88ebf979042b881d31e5bf447c956",
            "f0e51be70d014af6b935ad0adda4ee37",
            "dee07e9f2f6244f599a7df2e5334caea",
            "3e41eb9e407642e2839dbea2c1d863f3",
            "9f40f478367749d6ba370f73e016891b"
          ]
        },
        "id": "gFsCTp_mporB",
        "outputId": "79205a5a-2961-4215-9682-6e5e179e3670"
      },
      "outputs": [],
      "source": [
        "from transformers import BertForSequenceClassification, AdamW, get_linear_schedule_with_warmup\n",
        "\n",
        "model = BertForSequenceClassification.from_pretrained(model_path, num_labels = 2, output_attentions = False, output_hidden_states = False).cuda()"
      ]
    },
    {
      "cell_type": "code",
      "execution_count": 14,
      "metadata": {
        "colab": {
          "base_uri": "https://localhost:8080/"
        },
        "id": "8PIiVlDYCtSq",
        "outputId": "2a465b47-e01c-42c2-8ac0-3ef139dfa44e"
      },
      "outputs": [
        {
          "name": "stdout",
          "output_type": "stream",
          "text": [
            "The BERT model has 201 different named parameters.\n",
            "\n",
            "==== Embedding Layer ====\n",
            "\n",
            "bert.embeddings.word_embeddings.weight                  (30522, 768)\n",
            "bert.embeddings.position_embeddings.weight                (512, 768)\n",
            "bert.embeddings.token_type_embeddings.weight                (2, 768)\n",
            "bert.embeddings.LayerNorm.weight                              (768,)\n",
            "bert.embeddings.LayerNorm.bias                                (768,)\n",
            "\n",
            "==== First Transformer ====\n",
            "\n",
            "bert.encoder.layer.0.attention.self.query.weight          (768, 768)\n",
            "bert.encoder.layer.0.attention.self.query.bias                (768,)\n",
            "bert.encoder.layer.0.attention.self.key.weight            (768, 768)\n",
            "bert.encoder.layer.0.attention.self.key.bias                  (768,)\n",
            "bert.encoder.layer.0.attention.self.value.weight          (768, 768)\n",
            "bert.encoder.layer.0.attention.self.value.bias                (768,)\n",
            "bert.encoder.layer.0.attention.output.dense.weight        (768, 768)\n",
            "bert.encoder.layer.0.attention.output.dense.bias              (768,)\n",
            "bert.encoder.layer.0.attention.output.LayerNorm.weight        (768,)\n",
            "bert.encoder.layer.0.attention.output.LayerNorm.bias          (768,)\n",
            "bert.encoder.layer.0.intermediate.dense.weight           (3072, 768)\n",
            "bert.encoder.layer.0.intermediate.dense.bias                 (3072,)\n",
            "bert.encoder.layer.0.output.dense.weight                 (768, 3072)\n",
            "bert.encoder.layer.0.output.dense.bias                        (768,)\n",
            "bert.encoder.layer.0.output.LayerNorm.weight                  (768,)\n",
            "bert.encoder.layer.0.output.LayerNorm.bias                    (768,)\n",
            "\n",
            "==== Output Layer ====\n",
            "\n",
            "bert.pooler.dense.weight                                  (768, 768)\n",
            "bert.pooler.dense.bias                                        (768,)\n",
            "classifier.weight                                           (2, 768)\n",
            "classifier.bias                                                 (2,)\n"
          ]
        }
      ],
      "source": [
        "# Get all of the model's parameters as a list of tuples.\n",
        "params = list(model.named_parameters())\n",
        "print('The BERT model has {:} different named parameters.\\n'.format(len(params)))\n",
        "print('==== Embedding Layer ====\\n')\n",
        "for p in params[0:5]:\n",
        "    print(\"{:<55} {:>12}\".format(p[0], str(tuple(p[1].size()))))\n",
        "print('\\n==== First Transformer ====\\n')\n",
        "for p in params[5:21]:\n",
        "    print(\"{:<55} {:>12}\".format(p[0], str(tuple(p[1].size()))))\n",
        "print('\\n==== Output Layer ====\\n')\n",
        "for p in params[-4:]:\n",
        "    print(\"{:<55} {:>12}\".format(p[0], str(tuple(p[1].size()))))"
      ]
    },
    {
      "cell_type": "markdown",
      "metadata": {
        "id": "qRWT-D4U_Pvx"
      },
      "source": [
        "## 4.2. Optimizer & Learning Rate Scheduler"
      ]
    },
    {
      "cell_type": "code",
      "execution_count": 17,
      "metadata": {
        "colab": {
          "base_uri": "https://localhost:8080/"
        },
        "id": "GLs72DuMODJO",
        "outputId": "e50bdebb-10bc-409b-f8de-185628579865"
      },
      "outputs": [
        {
          "name": "stderr",
          "output_type": "stream",
          "text": [
            "/new-stg/home/banghua/anaconda3/envs/LLM/lib/python3.10/site-packages/transformers/optimization.py:411: FutureWarning: This implementation of AdamW is deprecated and will be removed in a future version. Use the PyTorch implementation torch.optim.AdamW instead, or set `no_deprecation_warning=True` to disable this warning\n",
            "  warnings.warn(\n"
          ]
        }
      ],
      "source": [
        "# Note: AdamW is a class from the huggingface library (as opposed to pytorch)\n",
        "# I believe the 'W' stands for 'Weight Decay fix\"\n",
        "optimizer = AdamW(model.parameters(), lr = 2e-5, eps = 1e-8)\n",
        "\n",
        "epochs = 10\n",
        "total_steps = len(train_dataloader) * epochs\n",
        "scheduler = get_linear_schedule_with_warmup(optimizer, num_warmup_steps = 0, num_training_steps = total_steps)"
      ]
    },
    {
      "cell_type": "markdown",
      "metadata": {
        "id": "RqfmWwUR_Sox"
      },
      "source": [
        "## 4.3. Training Loop"
      ]
    },
    {
      "cell_type": "markdown",
      "metadata": {
        "id": "_QXZhFb4LnV5"
      },
      "source": [
        "Below is our training loop. There's a lot going on, but fundamentally for each pass in our loop we have a trianing phase and a validation phase. At each pass we need to:\n",
        "\n",
        "Training loop:\n",
        "- Unpack our data inputs and labels\n",
        "- Load data onto the GPU for acceleration\n",
        "- Clear out the gradients calculated in the previous pass.\n",
        "    - In pytorch the gradients accumulate by default (useful for things like RNNs) unless you explicitly clear them out.\n",
        "- Forward pass (feed input data through the network)\n",
        "- Backward pass (backpropagation)\n",
        "- Tell the network to update parameters with optimizer.step()\n",
        "- Track variables for monitoring progress\n",
        "\n",
        "Evalution loop:\n",
        "- Unpack our data inputs and labels\n",
        "- Load data onto the GPU for acceleration\n",
        "- Forward pass (feed input data through the network)\n",
        "- Compute loss on our validation data and track variables for monitoring progress\n",
        "\n",
        "So please read carefully through the comments to get an understanding of what's happening. If you're unfamiliar with pytorch a quick look at some of their [beginner tutorials](https://pytorch.org/tutorials/beginner/blitz/cifar10_tutorial.html#sphx-glr-beginner-blitz-cifar10-tutorial-py) will help show you that training loops really involve only a few simple steps; the rest is usually just decoration and logging.  "
      ]
    },
    {
      "cell_type": "markdown",
      "metadata": {
        "id": "pE5B99H5H2-W"
      },
      "source": [
        "Define a helper function for calculating accuracy."
      ]
    },
    {
      "cell_type": "code",
      "execution_count": 20,
      "metadata": {
        "id": "9cQNvaZ9bnyy"
      },
      "outputs": [],
      "source": [
        "import numpy as np\n",
        "\n",
        "# Function to calculate the accuracy of our predictions vs labels\n",
        "def flat_accuracy(preds, labels):\n",
        "    pred_flat = np.argmax(preds, axis=1).flatten()\n",
        "    labels_flat = labels.flatten()\n",
        "    return np.sum(pred_flat == labels_flat) / len(labels_flat)"
      ]
    },
    {
      "cell_type": "markdown",
      "metadata": {
        "id": "KNhRtWPXH9C3"
      },
      "source": [
        "Helper function for formatting elapsed times.\n"
      ]
    },
    {
      "cell_type": "code",
      "execution_count": 21,
      "metadata": {
        "id": "gpt6tR83keZD"
      },
      "outputs": [],
      "source": [
        "import time\n",
        "import datetime\n",
        "\n",
        "def format_time(elapsed):\n",
        "    elapsed_rounded = int(round((elapsed)))\n",
        "    return str(datetime.timedelta(seconds=elapsed_rounded))"
      ]
    },
    {
      "cell_type": "markdown",
      "metadata": {
        "id": "cfNIhN19te3N"
      },
      "source": [
        "We're ready to kick off the training!"
      ]
    },
    {
      "cell_type": "code",
      "execution_count": 22,
      "metadata": {
        "colab": {
          "base_uri": "https://localhost:8080/"
        },
        "id": "6J-FYdx6nFE_",
        "outputId": "37eeaf71-a4bc-49ed-d908-8a7ff1c1a990"
      },
      "outputs": [
        {
          "name": "stdout",
          "output_type": "stream",
          "text": [
            "\n",
            "======== Epoch 1 / 10 ========\n",
            "Training...\n",
            "  Batch    40  of    408.    Elapsed: 0:01:05.\n",
            "  Batch    80  of    408.    Elapsed: 0:02:03.\n",
            "  Batch   120  of    408.    Elapsed: 0:03:00.\n",
            "  Batch   160  of    408.    Elapsed: 0:03:59.\n",
            "  Batch   200  of    408.    Elapsed: 0:04:57.\n",
            "  Batch   240  of    408.    Elapsed: 0:05:55.\n",
            "  Batch   280  of    408.    Elapsed: 0:06:53.\n",
            "  Batch   320  of    408.    Elapsed: 0:07:51.\n",
            "  Batch   360  of    408.    Elapsed: 0:08:50.\n",
            "  Batch   400  of    408.    Elapsed: 0:09:48.\n",
            "\n",
            "  Average training loss: 0.60\n",
            "  Training epcoh took: 0:10:04\n",
            "\n",
            "Running Validation...\n",
            "  Accuracy: 0.70\n",
            "  Validation took: 0:00:24\n",
            "\n",
            "======== Epoch 2 / 10 ========\n",
            "Training...\n",
            "  Batch    40  of    408.    Elapsed: 0:00:58.\n",
            "  Batch    80  of    408.    Elapsed: 0:01:56.\n",
            "  Batch   120  of    408.    Elapsed: 0:02:55.\n",
            "  Batch   160  of    408.    Elapsed: 0:03:53.\n",
            "  Batch   200  of    408.    Elapsed: 0:04:51.\n",
            "  Batch   240  of    408.    Elapsed: 0:05:49.\n",
            "  Batch   280  of    408.    Elapsed: 0:06:48.\n",
            "  Batch   320  of    408.    Elapsed: 0:07:46.\n",
            "  Batch   360  of    408.    Elapsed: 0:08:44.\n",
            "  Batch   400  of    408.    Elapsed: 0:09:42.\n",
            "\n",
            "  Average training loss: 0.51\n",
            "  Training epcoh took: 0:10:01\n",
            "\n",
            "Running Validation...\n",
            "  Accuracy: 0.69\n",
            "  Validation took: 0:00:24\n",
            "\n",
            "======== Epoch 3 / 10 ========\n",
            "Training...\n",
            "  Batch    40  of    408.    Elapsed: 0:00:58.\n",
            "  Batch    80  of    408.    Elapsed: 0:01:57.\n",
            "  Batch   120  of    408.    Elapsed: 0:02:55.\n",
            "  Batch   160  of    408.    Elapsed: 0:03:53.\n",
            "  Batch   200  of    408.    Elapsed: 0:04:51.\n",
            "  Batch   240  of    408.    Elapsed: 0:05:50.\n",
            "  Batch   280  of    408.    Elapsed: 0:06:48.\n",
            "  Batch   320  of    408.    Elapsed: 0:07:46.\n",
            "  Batch   360  of    408.    Elapsed: 0:08:44.\n",
            "  Batch   400  of    408.    Elapsed: 0:09:43.\n",
            "\n",
            "  Average training loss: 0.44\n",
            "  Training epcoh took: 0:09:59\n",
            "\n",
            "Running Validation...\n",
            "  Accuracy: 0.72\n",
            "  Validation took: 0:00:24\n",
            "\n",
            "======== Epoch 4 / 10 ========\n",
            "Training...\n",
            "  Batch    40  of    408.    Elapsed: 0:00:58.\n",
            "  Batch    80  of    408.    Elapsed: 0:01:56.\n",
            "  Batch   120  of    408.    Elapsed: 0:02:55.\n",
            "  Batch   160  of    408.    Elapsed: 0:03:53.\n",
            "  Batch   200  of    408.    Elapsed: 0:04:51.\n",
            "  Batch   240  of    408.    Elapsed: 0:05:49.\n",
            "  Batch   280  of    408.    Elapsed: 0:06:48.\n",
            "  Batch   320  of    408.    Elapsed: 0:07:46.\n",
            "  Batch   360  of    408.    Elapsed: 0:08:44.\n",
            "  Batch   400  of    408.    Elapsed: 0:09:42.\n",
            "\n",
            "  Average training loss: 0.36\n",
            "  Training epcoh took: 0:09:58\n",
            "\n",
            "Running Validation...\n",
            "  Accuracy: 0.73\n",
            "  Validation took: 0:00:24\n",
            "\n",
            "======== Epoch 5 / 10 ========\n",
            "Training...\n",
            "  Batch    40  of    408.    Elapsed: 0:00:58.\n",
            "  Batch    80  of    408.    Elapsed: 0:01:56.\n",
            "  Batch   120  of    408.    Elapsed: 0:02:55.\n",
            "  Batch   160  of    408.    Elapsed: 0:03:53.\n",
            "  Batch   200  of    408.    Elapsed: 0:04:51.\n",
            "  Batch   240  of    408.    Elapsed: 0:05:49.\n",
            "  Batch   280  of    408.    Elapsed: 0:06:47.\n",
            "  Batch   320  of    408.    Elapsed: 0:07:46.\n",
            "  Batch   360  of    408.    Elapsed: 0:08:44.\n",
            "  Batch   400  of    408.    Elapsed: 0:09:42.\n",
            "\n",
            "  Average training loss: 0.28\n",
            "  Training epcoh took: 0:09:58\n",
            "\n",
            "Running Validation...\n",
            "  Accuracy: 0.72\n",
            "  Validation took: 0:00:24\n",
            "\n",
            "======== Epoch 6 / 10 ========\n",
            "Training...\n",
            "  Batch    40  of    408.    Elapsed: 0:00:58.\n",
            "  Batch    80  of    408.    Elapsed: 0:01:56.\n",
            "  Batch   120  of    408.    Elapsed: 0:02:55.\n",
            "  Batch   160  of    408.    Elapsed: 0:03:54.\n",
            "  Batch   200  of    408.    Elapsed: 0:04:52.\n",
            "  Batch   240  of    408.    Elapsed: 0:05:50.\n",
            "  Batch   280  of    408.    Elapsed: 0:06:48.\n",
            "  Batch   320  of    408.    Elapsed: 0:07:47.\n",
            "  Batch   360  of    408.    Elapsed: 0:08:45.\n",
            "  Batch   400  of    408.    Elapsed: 0:09:43.\n",
            "\n",
            "  Average training loss: 0.22\n",
            "  Training epcoh took: 0:09:59\n",
            "\n",
            "Running Validation...\n",
            "  Accuracy: 0.71\n",
            "  Validation took: 0:00:24\n",
            "\n",
            "======== Epoch 7 / 10 ========\n",
            "Training...\n",
            "  Batch    40  of    408.    Elapsed: 0:00:58.\n",
            "  Batch    80  of    408.    Elapsed: 0:01:57.\n",
            "  Batch   120  of    408.    Elapsed: 0:02:55.\n",
            "  Batch   160  of    408.    Elapsed: 0:03:53.\n",
            "  Batch   200  of    408.    Elapsed: 0:04:51.\n",
            "  Batch   240  of    408.    Elapsed: 0:05:50.\n",
            "  Batch   280  of    408.    Elapsed: 0:06:48.\n",
            "  Batch   320  of    408.    Elapsed: 0:07:46.\n",
            "  Batch   360  of    408.    Elapsed: 0:08:44.\n",
            "  Batch   400  of    408.    Elapsed: 0:09:42.\n",
            "\n",
            "  Average training loss: 0.17\n",
            "  Training epcoh took: 0:09:58\n",
            "\n",
            "Running Validation...\n",
            "  Accuracy: 0.71\n",
            "  Validation took: 0:00:24\n",
            "\n",
            "======== Epoch 8 / 10 ========\n",
            "Training...\n",
            "  Batch    40  of    408.    Elapsed: 0:00:58.\n",
            "  Batch    80  of    408.    Elapsed: 0:01:56.\n",
            "  Batch   120  of    408.    Elapsed: 0:02:54.\n",
            "  Batch   160  of    408.    Elapsed: 0:03:53.\n",
            "  Batch   200  of    408.    Elapsed: 0:04:51.\n",
            "  Batch   240  of    408.    Elapsed: 0:05:49.\n",
            "  Batch   280  of    408.    Elapsed: 0:06:47.\n",
            "  Batch   320  of    408.    Elapsed: 0:07:46.\n",
            "  Batch   360  of    408.    Elapsed: 0:08:44.\n",
            "  Batch   400  of    408.    Elapsed: 0:09:42.\n",
            "\n",
            "  Average training loss: 0.14\n",
            "  Training epcoh took: 0:09:58\n",
            "\n",
            "Running Validation...\n",
            "  Accuracy: 0.72\n",
            "  Validation took: 0:00:24\n",
            "\n",
            "======== Epoch 9 / 10 ========\n",
            "Training...\n",
            "  Batch    40  of    408.    Elapsed: 0:00:58.\n",
            "  Batch    80  of    408.    Elapsed: 0:01:56.\n",
            "  Batch   120  of    408.    Elapsed: 0:02:55.\n",
            "  Batch   160  of    408.    Elapsed: 0:03:53.\n",
            "  Batch   200  of    408.    Elapsed: 0:04:51.\n",
            "  Batch   240  of    408.    Elapsed: 0:05:49.\n",
            "  Batch   280  of    408.    Elapsed: 0:06:47.\n",
            "  Batch   320  of    408.    Elapsed: 0:07:46.\n",
            "  Batch   360  of    408.    Elapsed: 0:08:44.\n",
            "  Batch   400  of    408.    Elapsed: 0:09:42.\n",
            "\n",
            "  Average training loss: 0.11\n",
            "  Training epcoh took: 0:10:03\n",
            "\n",
            "Running Validation...\n",
            "  Accuracy: 0.71\n",
            "  Validation took: 0:00:24\n",
            "\n",
            "======== Epoch 10 / 10 ========\n",
            "Training...\n",
            "  Batch    40  of    408.    Elapsed: 0:00:58.\n",
            "  Batch    80  of    408.    Elapsed: 0:01:56.\n",
            "  Batch   120  of    408.    Elapsed: 0:02:54.\n",
            "  Batch   160  of    408.    Elapsed: 0:03:53.\n",
            "  Batch   200  of    408.    Elapsed: 0:04:51.\n",
            "  Batch   240  of    408.    Elapsed: 0:05:49.\n",
            "  Batch   280  of    408.    Elapsed: 0:06:47.\n",
            "  Batch   320  of    408.    Elapsed: 0:07:45.\n",
            "  Batch   360  of    408.    Elapsed: 0:08:43.\n",
            "  Batch   400  of    408.    Elapsed: 0:09:42.\n",
            "\n",
            "  Average training loss: 0.09\n",
            "  Training epcoh took: 0:09:58\n",
            "\n",
            "Running Validation...\n",
            "  Accuracy: 0.72\n",
            "  Validation took: 0:00:24\n",
            "\n",
            "Training complete!\n"
          ]
        }
      ],
      "source": [
        "import random\n",
        "\n",
        "seed_val = 42\n",
        "\n",
        "model_path = os.path.expanduser('~/med264/models_balanced_clinicalBERT/')\n",
        "if not os.path.exists(model_path):\n",
        "    os.makedirs(model_path)\n",
        "\n",
        "random.seed(seed_val)\n",
        "np.random.seed(seed_val)\n",
        "torch.manual_seed(seed_val)\n",
        "torch.cuda.manual_seed_all(seed_val)\n",
        "\n",
        "# Store the average loss after each epoch so we can plot them.\n",
        "loss_values = []\n",
        "\n",
        "# For each epoch...\n",
        "for epoch_i in range(0, epochs):\n",
        "    print(\"\")\n",
        "    print('======== Epoch {:} / {:} ========'.format(epoch_i + 1, epochs))\n",
        "    print('Training...')\n",
        "\n",
        "    t0 = time.time()\n",
        "\n",
        "    total_loss = 0\n",
        "    model.train()\n",
        "    for step, batch in enumerate(train_dataloader):\n",
        "\n",
        "        if step % 40 == 0 and not step == 0:\n",
        "            elapsed = format_time(time.time() - t0)\n",
        "            print('  Batch {:>5,}  of  {:>5,}.    Elapsed: {:}.'.format(step, len(train_dataloader), elapsed))\n",
        "\n",
        "        b_input_ids = batch[0].to(device)\n",
        "        b_input_mask = batch[1].to(device)\n",
        "        b_labels = batch[2].to(device)\n",
        "\n",
        "        model.zero_grad()\n",
        "\n",
        "        outputs = model(b_input_ids, token_type_ids=None, attention_mask=b_input_mask, labels=b_labels)\n",
        "\n",
        "        loss = outputs[0]\n",
        "        total_loss += loss.item()\n",
        "        loss.backward()\n",
        "\n",
        "        torch.nn.utils.clip_grad_norm_(model.parameters(), 1.0)\n",
        "        optimizer.step()\n",
        "        scheduler.step()\n",
        "    avg_train_loss = total_loss / len(train_dataloader)\n",
        "    loss_values.append(avg_train_loss)\n",
        "    model.save_pretrained(model_path + str(epoch_i))\n",
        "\n",
        "    print(\"\")\n",
        "    print(\"  Average training loss: {0:.2f}\".format(avg_train_loss))\n",
        "    print(\"  Training epcoh took: {:}\".format(format_time(time.time() - t0)))\n",
        "\n",
        "    print(\"\")\n",
        "    print(\"Running Validation...\")\n",
        "\n",
        "    t0 = time.time()\n",
        "    model.eval()\n",
        "    eval_loss, eval_accuracy = 0, 0\n",
        "    nb_eval_steps, nb_eval_examples = 0, 0\n",
        "\n",
        "    for batch in validation_dataloader:\n",
        "        batch = tuple(t.to(device) for t in batch)\n",
        "        b_input_ids, b_input_mask, b_labels = batch\n",
        "\n",
        "        with torch.no_grad():\n",
        "            outputs = model(b_input_ids, token_type_ids=None, attention_mask=b_input_mask)\n",
        "        logits = outputs[0]\n",
        "        \n",
        "        logits = logits.detach().cpu().numpy()\n",
        "        label_ids = b_labels.to('cpu').numpy()\n",
        "        tmp_eval_accuracy = flat_accuracy(logits, label_ids)\n",
        "        eval_accuracy += tmp_eval_accuracy\n",
        "        nb_eval_steps += 1\n",
        "\n",
        "    print(\"  Accuracy: {0:.2f}\".format(eval_accuracy/nb_eval_steps))\n",
        "    print(\"  Validation took: {:}\".format(format_time(time.time() - t0)))\n",
        "\n",
        "print(\"\")\n",
        "print(\"Training complete!\")"
      ]
    },
    {
      "cell_type": "code",
      "execution_count": 23,
      "metadata": {},
      "outputs": [],
      "source": [
        "# Save loss_values\n",
        "with open(model_path + 'loss_values.pickle', 'wb') as f:\n",
        "    pickle.dump(loss_values, f)"
      ]
    },
    {
      "cell_type": "markdown",
      "metadata": {
        "id": "1-G03mmwH3aI"
      },
      "source": [
        "Let's take a look at our training loss over all batches:"
      ]
    },
    {
      "cell_type": "code",
      "execution_count": 24,
      "metadata": {
        "colab": {
          "base_uri": "https://localhost:8080/",
          "height": 427
        },
        "id": "68xreA9JAmG5",
        "outputId": "7e4cc7cc-1327-47da-dae3-6095fce65551"
      },
      "outputs": [
        {
          "data": {
            "image/png": "[encoded data removed]",
            "text/plain": [
              "<Figure size 1200x600 with 1 Axes>"
            ]
          },
          "metadata": {},
          "output_type": "display_data"
        }
      ],
      "source": [
        "import matplotlib.pyplot as plt\n",
        "%matplotlib inline\n",
        "\n",
        "import seaborn as sns\n",
        "\n",
        "# Use plot styling from seaborn.\n",
        "sns.set(style='darkgrid')\n",
        "\n",
        "# Increase the plot size and font size.\n",
        "sns.set(font_scale=1.5)\n",
        "plt.rcParams[\"figure.figsize\"] = (12,6)\n",
        "\n",
        "# Plot the learning curve.\n",
        "plt.plot(loss_values, 'b-o')\n",
        "\n",
        "# Label the plot.\n",
        "plt.title(\"Training loss\")\n",
        "plt.xlabel(\"Epoch\")\n",
        "plt.ylabel(\"Loss\")\n",
        "\n",
        "# Save the plot to file.\n",
        "plt.savefig(\"clinicalBERT_Fine_Tuning_balanced_loss.png\", dpi = 300)\n",
        "\n",
        "plt.show()"
      ]
    },
    {
      "cell_type": "code",
      "execution_count": 26,
      "metadata": {},
      "outputs": [],
      "source": [
        "# Save ipynb session\n",
        "import dill\n",
        "dill.dump_session('BERT_Fine_Tuning_Sentence_Classification_v2.db')"
      ]
    }
  ],
  "metadata": {
    "accelerator": "GPU",
    "colab": {
      "provenance": []
    },
    "kernelspec": {
      "display_name": "Python [conda env:LLM]",
      "language": "python",
      "name": "conda-env-LLM-py"
    },
    "widgets": {
      "application/vnd.jupyter.widget-state+json": {
        "02c860af048a48039571df1ac10703a0": {
          "model_module": "@jupyter-widgets/controls",
          "model_module_version": "1.5.0",
          "model_name": "HTMLModel",
          "state": {
            "_dom_classes": [],
            "_model_module": "@jupyter-widgets/controls",
            "_model_module_version": "1.5.0",
            "_model_name": "HTMLModel",
            "_view_count": null,
            "_view_module": "@jupyter-widgets/controls",
            "_view_module_version": "1.5.0",
            "_view_name": "HTMLView",
            "description": "",
            "description_tooltip": null,
            "layout": "IPY_MODEL_e1f85d855dc54d93b07370119c3fb96b",
            "placeholder": "​",
            "style": "IPY_MODEL_6ce09be5acce441494710b3c0cbc6169",
            "value": " 28.0/28.0 [00:00&lt;00:00, 1.78kB/s]"
          }
        },
        "03eb5cad0dd745feb519ae16bc13afd5": {
          "model_module": "@jupyter-widgets/controls",
          "model_module_version": "1.5.0",
          "model_name": "HTMLModel",
          "state": {
            "_dom_classes": [],
            "_model_module": "@jupyter-widgets/controls",
            "_model_module_version": "1.5.0",
            "_model_name": "HTMLModel",
            "_view_count": null,
            "_view_module": "@jupyter-widgets/controls",
            "_view_module_version": "1.5.0",
            "_view_name": "HTMLView",
            "description": "",
            "description_tooltip": null,
            "layout": "IPY_MODEL_82b16898863445b485e301b75b1c918c",
            "placeholder": "​",
            "style": "IPY_MODEL_7fada7d50b514b38ad70fa3baf613c6f",
            "value": "tokenizer_config.json: 100%"
          }
        },
        "1b80d80718874a95b805bca384538f9f": {
          "model_module": "@jupyter-widgets/controls",
          "model_module_version": "1.5.0",
          "model_name": "FloatProgressModel",
          "state": {
            "_dom_classes": [],
            "_model_module": "@jupyter-widgets/controls",
            "_model_module_version": "1.5.0",
            "_model_name": "FloatProgressModel",
            "_view_count": null,
            "_view_module": "@jupyter-widgets/controls",
            "_view_module_version": "1.5.0",
            "_view_name": "ProgressView",
            "bar_style": "success",
            "description": "",
            "description_tooltip": null,
            "layout": "IPY_MODEL_318e7d7d83c447a793316c7dda14a06d",
            "max": 466062,
            "min": 0,
            "orientation": "horizontal",
            "style": "IPY_MODEL_cf4b37cd06c34b6c995b02e30003ff38",
            "value": 466062
          }
        },
        "261c73d7337e4fd89c5512fd7cc801b9": {
          "model_module": "@jupyter-widgets/controls",
          "model_module_version": "1.5.0",
          "model_name": "HBoxModel",
          "state": {
            "_dom_classes": [],
            "_model_module": "@jupyter-widgets/controls",
            "_model_module_version": "1.5.0",
            "_model_name": "HBoxModel",
            "_view_count": null,
            "_view_module": "@jupyter-widgets/controls",
            "_view_module_version": "1.5.0",
            "_view_name": "HBoxView",
            "box_style": "",
            "children": [
              "IPY_MODEL_99320230aa154969ac7efcb4bd08e93a",
              "IPY_MODEL_1b80d80718874a95b805bca384538f9f",
              "IPY_MODEL_f1fb5bd99db34449aaa0775649c33ade"
            ],
            "layout": "IPY_MODEL_faa00d6df14a4229b40388dbf79b911f"
          }
        },
        "318e7d7d83c447a793316c7dda14a06d": {
          "model_module": "@jupyter-widgets/base",
          "model_module_version": "1.2.0",
          "model_name": "LayoutModel",
          "state": {
            "_model_module": "@jupyter-widgets/base",
            "_model_module_version": "1.2.0",
            "_model_name": "LayoutModel",
            "_view_count": null,
            "_view_module": "@jupyter-widgets/base",
            "_view_module_version": "1.2.0",
            "_view_name": "LayoutView",
            "align_content": null,
            "align_items": null,
            "align_self": null,
            "border": null,
            "bottom": null,
            "display": null,
            "flex": null,
            "flex_flow": null,
            "grid_area": null,
            "grid_auto_columns": null,
            "grid_auto_flow": null,
            "grid_auto_rows": null,
            "grid_column": null,
            "grid_gap": null,
            "grid_row": null,
            "grid_template_areas": null,
            "grid_template_columns": null,
            "grid_template_rows": null,
            "height": null,
            "justify_content": null,
            "justify_items": null,
            "left": null,
            "margin": null,
            "max_height": null,
            "max_width": null,
            "min_height": null,
            "min_width": null,
            "object_fit": null,
            "object_position": null,
            "order": null,
            "overflow": null,
            "overflow_x": null,
            "overflow_y": null,
            "padding": null,
            "right": null,
            "top": null,
            "visibility": null,
            "width": null
          }
        },
        "3259bbb9cfbf4652944d6a63779c8536": {
          "model_module": "@jupyter-widgets/controls",
          "model_module_version": "1.5.0",
          "model_name": "HBoxModel",
          "state": {
            "_dom_classes": [],
            "_model_module": "@jupyter-widgets/controls",
            "_model_module_version": "1.5.0",
            "_model_name": "HBoxModel",
            "_view_count": null,
            "_view_module": "@jupyter-widgets/controls",
            "_view_module_version": "1.5.0",
            "_view_name": "HBoxView",
            "box_style": "",
            "children": [
              "IPY_MODEL_03eb5cad0dd745feb519ae16bc13afd5",
              "IPY_MODEL_ab7f43db105a4c059816b83b8e3050ec",
              "IPY_MODEL_02c860af048a48039571df1ac10703a0"
            ],
            "layout": "IPY_MODEL_3276e0075f924285aaa17252d34217ba"
          }
        },
        "3276e0075f924285aaa17252d34217ba": {
          "model_module": "@jupyter-widgets/base",
          "model_module_version": "1.2.0",
          "model_name": "LayoutModel",
          "state": {
            "_model_module": "@jupyter-widgets/base",
            "_model_module_version": "1.2.0",
            "_model_name": "LayoutModel",
            "_view_count": null,
            "_view_module": "@jupyter-widgets/base",
            "_view_module_version": "1.2.0",
            "_view_name": "LayoutView",
            "align_content": null,
            "align_items": null,
            "align_self": null,
            "border": null,
            "bottom": null,
            "display": null,
            "flex": null,
            "flex_flow": null,
            "grid_area": null,
            "grid_auto_columns": null,
            "grid_auto_flow": null,
            "grid_auto_rows": null,
            "grid_column": null,
            "grid_gap": null,
            "grid_row": null,
            "grid_template_areas": null,
            "grid_template_columns": null,
            "grid_template_rows": null,
            "height": null,
            "justify_content": null,
            "justify_items": null,
            "left": null,
            "margin": null,
            "max_height": null,
            "max_width": null,
            "min_height": null,
            "min_width": null,
            "object_fit": null,
            "object_position": null,
            "order": null,
            "overflow": null,
            "overflow_x": null,
            "overflow_y": null,
            "padding": null,
            "right": null,
            "top": null,
            "visibility": null,
            "width": null
          }
        },
        "3387a402721d49db963b4e008e53fddb": {
          "model_module": "@jupyter-widgets/controls",
          "model_module_version": "1.5.0",
          "model_name": "HTMLModel",
          "state": {
            "_dom_classes": [],
            "_model_module": "@jupyter-widgets/controls",
            "_model_module_version": "1.5.0",
            "_model_name": "HTMLModel",
            "_view_count": null,
            "_view_module": "@jupyter-widgets/controls",
            "_view_module_version": "1.5.0",
            "_view_name": "HTMLView",
            "description": "",
            "description_tooltip": null,
            "layout": "IPY_MODEL_3e41eb9e407642e2839dbea2c1d863f3",
            "placeholder": "​",
            "style": "IPY_MODEL_9f40f478367749d6ba370f73e016891b",
            "value": " 440M/440M [00:05&lt;00:00, 41.9MB/s]"
          }
        },
        "338a08d6c85e48e0b8ef1c0a083043fb": {
          "model_module": "@jupyter-widgets/controls",
          "model_module_version": "1.5.0",
          "model_name": "HBoxModel",
          "state": {
            "_dom_classes": [],
            "_model_module": "@jupyter-widgets/controls",
            "_model_module_version": "1.5.0",
            "_model_name": "HBoxModel",
            "_view_count": null,
            "_view_module": "@jupyter-widgets/controls",
            "_view_module_version": "1.5.0",
            "_view_name": "HBoxView",
            "box_style": "",
            "children": [
              "IPY_MODEL_55d9d13ce82b4950a54b33bb6733ea58",
              "IPY_MODEL_8ae18003614946a4b0cb39b81f5a6063",
              "IPY_MODEL_427bed3eb7e743f387a0dd6c23f031e9"
            ],
            "layout": "IPY_MODEL_632c81708e674a61b848d1fccab30084"
          }
        },
        "3496eb8998e64a38bf2ea922eec5f093": {
          "model_module": "@jupyter-widgets/controls",
          "model_module_version": "1.5.0",
          "model_name": "ProgressStyleModel",
          "state": {
            "_model_module": "@jupyter-widgets/controls",
            "_model_module_version": "1.5.0",
            "_model_name": "ProgressStyleModel",
            "_view_count": null,
            "_view_module": "@jupyter-widgets/base",
            "_view_module_version": "1.2.0",
            "_view_name": "StyleView",
            "bar_color": null,
            "description_width": ""
          }
        },
        "3e41eb9e407642e2839dbea2c1d863f3": {
          "model_module": "@jupyter-widgets/base",
          "model_module_version": "1.2.0",
          "model_name": "LayoutModel",
          "state": {
            "_model_module": "@jupyter-widgets/base",
            "_model_module_version": "1.2.0",
            "_model_name": "LayoutModel",
            "_view_count": null,
            "_view_module": "@jupyter-widgets/base",
            "_view_module_version": "1.2.0",
            "_view_name": "LayoutView",
            "align_content": null,
            "align_items": null,
            "align_self": null,
            "border": null,
            "bottom": null,
            "display": null,
            "flex": null,
            "flex_flow": null,
            "grid_area": null,
            "grid_auto_columns": null,
            "grid_auto_flow": null,
            "grid_auto_rows": null,
            "grid_column": null,
            "grid_gap": null,
            "grid_row": null,
            "grid_template_areas": null,
            "grid_template_columns": null,
            "grid_template_rows": null,
            "height": null,
            "justify_content": null,
            "justify_items": null,
            "left": null,
            "margin": null,
            "max_height": null,
            "max_width": null,
            "min_height": null,
            "min_width": null,
            "object_fit": null,
            "object_position": null,
            "order": null,
            "overflow": null,
            "overflow_x": null,
            "overflow_y": null,
            "padding": null,
            "right": null,
            "top": null,
            "visibility": null,
            "width": null
          }
        },
        "4171dca739984eb68291b7e8f337f372": {
          "model_module": "@jupyter-widgets/base",
          "model_module_version": "1.2.0",
          "model_name": "LayoutModel",
          "state": {
            "_model_module": "@jupyter-widgets/base",
            "_model_module_version": "1.2.0",
            "_model_name": "LayoutModel",
            "_view_count": null,
            "_view_module": "@jupyter-widgets/base",
            "_view_module_version": "1.2.0",
            "_view_name": "LayoutView",
            "align_content": null,
            "align_items": null,
            "align_self": null,
            "border": null,
            "bottom": null,
            "display": null,
            "flex": null,
            "flex_flow": null,
            "grid_area": null,
            "grid_auto_columns": null,
            "grid_auto_flow": null,
            "grid_auto_rows": null,
            "grid_column": null,
            "grid_gap": null,
            "grid_row": null,
            "grid_template_areas": null,
            "grid_template_columns": null,
            "grid_template_rows": null,
            "height": null,
            "justify_content": null,
            "justify_items": null,
            "left": null,
            "margin": null,
            "max_height": null,
            "max_width": null,
            "min_height": null,
            "min_width": null,
            "object_fit": null,
            "object_position": null,
            "order": null,
            "overflow": null,
            "overflow_x": null,
            "overflow_y": null,
            "padding": null,
            "right": null,
            "top": null,
            "visibility": null,
            "width": null
          }
        },
        "41ba494ceeba44de99f69891d4fcfed7": {
          "model_module": "@jupyter-widgets/controls",
          "model_module_version": "1.5.0",
          "model_name": "DescriptionStyleModel",
          "state": {
            "_model_module": "@jupyter-widgets/controls",
            "_model_module_version": "1.5.0",
            "_model_name": "DescriptionStyleModel",
            "_view_count": null,
            "_view_module": "@jupyter-widgets/base",
            "_view_module_version": "1.2.0",
            "_view_name": "StyleView",
            "description_width": ""
          }
        },
        "427bed3eb7e743f387a0dd6c23f031e9": {
          "model_module": "@jupyter-widgets/controls",
          "model_module_version": "1.5.0",
          "model_name": "HTMLModel",
          "state": {
            "_dom_classes": [],
            "_model_module": "@jupyter-widgets/controls",
            "_model_module_version": "1.5.0",
            "_model_name": "HTMLModel",
            "_view_count": null,
            "_view_module": "@jupyter-widgets/controls",
            "_view_module_version": "1.5.0",
            "_view_name": "HTMLView",
            "description": "",
            "description_tooltip": null,
            "layout": "IPY_MODEL_9348b3637d2a4d2088281c8e34d98f3e",
            "placeholder": "​",
            "style": "IPY_MODEL_41ba494ceeba44de99f69891d4fcfed7",
            "value": " 570/570 [00:00&lt;00:00, 38.0kB/s]"
          }
        },
        "4ae1954f09a04e0cb50a01a0154f64ec": {
          "model_module": "@jupyter-widgets/controls",
          "model_module_version": "1.5.0",
          "model_name": "DescriptionStyleModel",
          "state": {
            "_model_module": "@jupyter-widgets/controls",
            "_model_module_version": "1.5.0",
            "_model_name": "DescriptionStyleModel",
            "_view_count": null,
            "_view_module": "@jupyter-widgets/base",
            "_view_module_version": "1.2.0",
            "_view_name": "StyleView",
            "description_width": ""
          }
        },
        "4bb4b4d8abb34ffbafa2194402d755f8": {
          "model_module": "@jupyter-widgets/controls",
          "model_module_version": "1.5.0",
          "model_name": "HTMLModel",
          "state": {
            "_dom_classes": [],
            "_model_module": "@jupyter-widgets/controls",
            "_model_module_version": "1.5.0",
            "_model_name": "HTMLModel",
            "_view_count": null,
            "_view_module": "@jupyter-widgets/controls",
            "_view_module_version": "1.5.0",
            "_view_name": "HTMLView",
            "description": "",
            "description_tooltip": null,
            "layout": "IPY_MODEL_94d9470c01bd419dbf9f55fa69487ac9",
            "placeholder": "​",
            "style": "IPY_MODEL_4ae1954f09a04e0cb50a01a0154f64ec",
            "value": " 232k/232k [00:00&lt;00:00, 4.74MB/s]"
          }
        },
        "52b73c5ed8354070bbc22b6b74bde680": {
          "model_module": "@jupyter-widgets/base",
          "model_module_version": "1.2.0",
          "model_name": "LayoutModel",
          "state": {
            "_model_module": "@jupyter-widgets/base",
            "_model_module_version": "1.2.0",
            "_model_name": "LayoutModel",
            "_view_count": null,
            "_view_module": "@jupyter-widgets/base",
            "_view_module_version": "1.2.0",
            "_view_name": "LayoutView",
            "align_content": null,
            "align_items": null,
            "align_self": null,
            "border": null,
            "bottom": null,
            "display": null,
            "flex": null,
            "flex_flow": null,
            "grid_area": null,
            "grid_auto_columns": null,
            "grid_auto_flow": null,
            "grid_auto_rows": null,
            "grid_column": null,
            "grid_gap": null,
            "grid_row": null,
            "grid_template_areas": null,
            "grid_template_columns": null,
            "grid_template_rows": null,
            "height": null,
            "justify_content": null,
            "justify_items": null,
            "left": null,
            "margin": null,
            "max_height": null,
            "max_width": null,
            "min_height": null,
            "min_width": null,
            "object_fit": null,
            "object_position": null,
            "order": null,
            "overflow": null,
            "overflow_x": null,
            "overflow_y": null,
            "padding": null,
            "right": null,
            "top": null,
            "visibility": null,
            "width": null
          }
        },
        "55d9d13ce82b4950a54b33bb6733ea58": {
          "model_module": "@jupyter-widgets/controls",
          "model_module_version": "1.5.0",
          "model_name": "HTMLModel",
          "state": {
            "_dom_classes": [],
            "_model_module": "@jupyter-widgets/controls",
            "_model_module_version": "1.5.0",
            "_model_name": "HTMLModel",
            "_view_count": null,
            "_view_module": "@jupyter-widgets/controls",
            "_view_module_version": "1.5.0",
            "_view_name": "HTMLView",
            "description": "",
            "description_tooltip": null,
            "layout": "IPY_MODEL_ec7c4858c9be4d359b77d390c432dbbb",
            "placeholder": "​",
            "style": "IPY_MODEL_599f7a8f19874431bd445deda4c7b273",
            "value": "config.json: 100%"
          }
        },
        "571e6cb89b8d40cbaa812a53f895acdc": {
          "model_module": "@jupyter-widgets/base",
          "model_module_version": "1.2.0",
          "model_name": "LayoutModel",
          "state": {
            "_model_module": "@jupyter-widgets/base",
            "_model_module_version": "1.2.0",
            "_model_name": "LayoutModel",
            "_view_count": null,
            "_view_module": "@jupyter-widgets/base",
            "_view_module_version": "1.2.0",
            "_view_name": "LayoutView",
            "align_content": null,
            "align_items": null,
            "align_self": null,
            "border": null,
            "bottom": null,
            "display": null,
            "flex": null,
            "flex_flow": null,
            "grid_area": null,
            "grid_auto_columns": null,
            "grid_auto_flow": null,
            "grid_auto_rows": null,
            "grid_column": null,
            "grid_gap": null,
            "grid_row": null,
            "grid_template_areas": null,
            "grid_template_columns": null,
            "grid_template_rows": null,
            "height": null,
            "justify_content": null,
            "justify_items": null,
            "left": null,
            "margin": null,
            "max_height": null,
            "max_width": null,
            "min_height": null,
            "min_width": null,
            "object_fit": null,
            "object_position": null,
            "order": null,
            "overflow": null,
            "overflow_x": null,
            "overflow_y": null,
            "padding": null,
            "right": null,
            "top": null,
            "visibility": null,
            "width": null
          }
        },
        "599f7a8f19874431bd445deda4c7b273": {
          "model_module": "@jupyter-widgets/controls",
          "model_module_version": "1.5.0",
          "model_name": "DescriptionStyleModel",
          "state": {
            "_model_module": "@jupyter-widgets/controls",
            "_model_module_version": "1.5.0",
            "_model_name": "DescriptionStyleModel",
            "_view_count": null,
            "_view_module": "@jupyter-widgets/base",
            "_view_module_version": "1.2.0",
            "_view_name": "StyleView",
            "description_width": ""
          }
        },
        "632c81708e674a61b848d1fccab30084": {
          "model_module": "@jupyter-widgets/base",
          "model_module_version": "1.2.0",
          "model_name": "LayoutModel",
          "state": {
            "_model_module": "@jupyter-widgets/base",
            "_model_module_version": "1.2.0",
            "_model_name": "LayoutModel",
            "_view_count": null,
            "_view_module": "@jupyter-widgets/base",
            "_view_module_version": "1.2.0",
            "_view_name": "LayoutView",
            "align_content": null,
            "align_items": null,
            "align_self": null,
            "border": null,
            "bottom": null,
            "display": null,
            "flex": null,
            "flex_flow": null,
            "grid_area": null,
            "grid_auto_columns": null,
            "grid_auto_flow": null,
            "grid_auto_rows": null,
            "grid_column": null,
            "grid_gap": null,
            "grid_row": null,
            "grid_template_areas": null,
            "grid_template_columns": null,
            "grid_template_rows": null,
            "height": null,
            "justify_content": null,
            "justify_items": null,
            "left": null,
            "margin": null,
            "max_height": null,
            "max_width": null,
            "min_height": null,
            "min_width": null,
            "object_fit": null,
            "object_position": null,
            "order": null,
            "overflow": null,
            "overflow_x": null,
            "overflow_y": null,
            "padding": null,
            "right": null,
            "top": null,
            "visibility": null,
            "width": null
          }
        },
        "6a2a3be6805048539e68be9c9db64cc5": {
          "model_module": "@jupyter-widgets/controls",
          "model_module_version": "1.5.0",
          "model_name": "ProgressStyleModel",
          "state": {
            "_model_module": "@jupyter-widgets/controls",
            "_model_module_version": "1.5.0",
            "_model_name": "ProgressStyleModel",
            "_view_count": null,
            "_view_module": "@jupyter-widgets/base",
            "_view_module_version": "1.2.0",
            "_view_name": "StyleView",
            "bar_color": null,
            "description_width": ""
          }
        },
        "6ce09be5acce441494710b3c0cbc6169": {
          "model_module": "@jupyter-widgets/controls",
          "model_module_version": "1.5.0",
          "model_name": "DescriptionStyleModel",
          "state": {
            "_model_module": "@jupyter-widgets/controls",
            "_model_module_version": "1.5.0",
            "_model_name": "DescriptionStyleModel",
            "_view_count": null,
            "_view_module": "@jupyter-widgets/base",
            "_view_module_version": "1.2.0",
            "_view_name": "StyleView",
            "description_width": ""
          }
        },
        "7e89d82b8c9748138d79c28506876171": {
          "model_module": "@jupyter-widgets/base",
          "model_module_version": "1.2.0",
          "model_name": "LayoutModel",
          "state": {
            "_model_module": "@jupyter-widgets/base",
            "_model_module_version": "1.2.0",
            "_model_name": "LayoutModel",
            "_view_count": null,
            "_view_module": "@jupyter-widgets/base",
            "_view_module_version": "1.2.0",
            "_view_name": "LayoutView",
            "align_content": null,
            "align_items": null,
            "align_self": null,
            "border": null,
            "bottom": null,
            "display": null,
            "flex": null,
            "flex_flow": null,
            "grid_area": null,
            "grid_auto_columns": null,
            "grid_auto_flow": null,
            "grid_auto_rows": null,
            "grid_column": null,
            "grid_gap": null,
            "grid_row": null,
            "grid_template_areas": null,
            "grid_template_columns": null,
            "grid_template_rows": null,
            "height": null,
            "justify_content": null,
            "justify_items": null,
            "left": null,
            "margin": null,
            "max_height": null,
            "max_width": null,
            "min_height": null,
            "min_width": null,
            "object_fit": null,
            "object_position": null,
            "order": null,
            "overflow": null,
            "overflow_x": null,
            "overflow_y": null,
            "padding": null,
            "right": null,
            "top": null,
            "visibility": null,
            "width": null
          }
        },
        "7fada7d50b514b38ad70fa3baf613c6f": {
          "model_module": "@jupyter-widgets/controls",
          "model_module_version": "1.5.0",
          "model_name": "DescriptionStyleModel",
          "state": {
            "_model_module": "@jupyter-widgets/controls",
            "_model_module_version": "1.5.0",
            "_model_name": "DescriptionStyleModel",
            "_view_count": null,
            "_view_module": "@jupyter-widgets/base",
            "_view_module_version": "1.2.0",
            "_view_name": "StyleView",
            "description_width": ""
          }
        },
        "82b16898863445b485e301b75b1c918c": {
          "model_module": "@jupyter-widgets/base",
          "model_module_version": "1.2.0",
          "model_name": "LayoutModel",
          "state": {
            "_model_module": "@jupyter-widgets/base",
            "_model_module_version": "1.2.0",
            "_model_name": "LayoutModel",
            "_view_count": null,
            "_view_module": "@jupyter-widgets/base",
            "_view_module_version": "1.2.0",
            "_view_name": "LayoutView",
            "align_content": null,
            "align_items": null,
            "align_self": null,
            "border": null,
            "bottom": null,
            "display": null,
            "flex": null,
            "flex_flow": null,
            "grid_area": null,
            "grid_auto_columns": null,
            "grid_auto_flow": null,
            "grid_auto_rows": null,
            "grid_column": null,
            "grid_gap": null,
            "grid_row": null,
            "grid_template_areas": null,
            "grid_template_columns": null,
            "grid_template_rows": null,
            "height": null,
            "justify_content": null,
            "justify_items": null,
            "left": null,
            "margin": null,
            "max_height": null,
            "max_width": null,
            "min_height": null,
            "min_width": null,
            "object_fit": null,
            "object_position": null,
            "order": null,
            "overflow": null,
            "overflow_x": null,
            "overflow_y": null,
            "padding": null,
            "right": null,
            "top": null,
            "visibility": null,
            "width": null
          }
        },
        "8ae18003614946a4b0cb39b81f5a6063": {
          "model_module": "@jupyter-widgets/controls",
          "model_module_version": "1.5.0",
          "model_name": "FloatProgressModel",
          "state": {
            "_dom_classes": [],
            "_model_module": "@jupyter-widgets/controls",
            "_model_module_version": "1.5.0",
            "_model_name": "FloatProgressModel",
            "_view_count": null,
            "_view_module": "@jupyter-widgets/controls",
            "_view_module_version": "1.5.0",
            "_view_name": "ProgressView",
            "bar_style": "success",
            "description": "",
            "description_tooltip": null,
            "layout": "IPY_MODEL_571e6cb89b8d40cbaa812a53f895acdc",
            "max": 570,
            "min": 0,
            "orientation": "horizontal",
            "style": "IPY_MODEL_6a2a3be6805048539e68be9c9db64cc5",
            "value": 570
          }
        },
        "900a26c928b74d668a77dc97cc22995e": {
          "model_module": "@jupyter-widgets/controls",
          "model_module_version": "1.5.0",
          "model_name": "DescriptionStyleModel",
          "state": {
            "_model_module": "@jupyter-widgets/controls",
            "_model_module_version": "1.5.0",
            "_model_name": "DescriptionStyleModel",
            "_view_count": null,
            "_view_module": "@jupyter-widgets/base",
            "_view_module_version": "1.2.0",
            "_view_name": "StyleView",
            "description_width": ""
          }
        },
        "9348b3637d2a4d2088281c8e34d98f3e": {
          "model_module": "@jupyter-widgets/base",
          "model_module_version": "1.2.0",
          "model_name": "LayoutModel",
          "state": {
            "_model_module": "@jupyter-widgets/base",
            "_model_module_version": "1.2.0",
            "_model_name": "LayoutModel",
            "_view_count": null,
            "_view_module": "@jupyter-widgets/base",
            "_view_module_version": "1.2.0",
            "_view_name": "LayoutView",
            "align_content": null,
            "align_items": null,
            "align_self": null,
            "border": null,
            "bottom": null,
            "display": null,
            "flex": null,
            "flex_flow": null,
            "grid_area": null,
            "grid_auto_columns": null,
            "grid_auto_flow": null,
            "grid_auto_rows": null,
            "grid_column": null,
            "grid_gap": null,
            "grid_row": null,
            "grid_template_areas": null,
            "grid_template_columns": null,
            "grid_template_rows": null,
            "height": null,
            "justify_content": null,
            "justify_items": null,
            "left": null,
            "margin": null,
            "max_height": null,
            "max_width": null,
            "min_height": null,
            "min_width": null,
            "object_fit": null,
            "object_position": null,
            "order": null,
            "overflow": null,
            "overflow_x": null,
            "overflow_y": null,
            "padding": null,
            "right": null,
            "top": null,
            "visibility": null,
            "width": null
          }
        },
        "942cfc1c25e54f088288dd44c9c708e9": {
          "model_module": "@jupyter-widgets/base",
          "model_module_version": "1.2.0",
          "model_name": "LayoutModel",
          "state": {
            "_model_module": "@jupyter-widgets/base",
            "_model_module_version": "1.2.0",
            "_model_name": "LayoutModel",
            "_view_count": null,
            "_view_module": "@jupyter-widgets/base",
            "_view_module_version": "1.2.0",
            "_view_name": "LayoutView",
            "align_content": null,
            "align_items": null,
            "align_self": null,
            "border": null,
            "bottom": null,
            "display": null,
            "flex": null,
            "flex_flow": null,
            "grid_area": null,
            "grid_auto_columns": null,
            "grid_auto_flow": null,
            "grid_auto_rows": null,
            "grid_column": null,
            "grid_gap": null,
            "grid_row": null,
            "grid_template_areas": null,
            "grid_template_columns": null,
            "grid_template_rows": null,
            "height": null,
            "justify_content": null,
            "justify_items": null,
            "left": null,
            "margin": null,
            "max_height": null,
            "max_width": null,
            "min_height": null,
            "min_width": null,
            "object_fit": null,
            "object_position": null,
            "order": null,
            "overflow": null,
            "overflow_x": null,
            "overflow_y": null,
            "padding": null,
            "right": null,
            "top": null,
            "visibility": null,
            "width": null
          }
        },
        "94d9470c01bd419dbf9f55fa69487ac9": {
          "model_module": "@jupyter-widgets/base",
          "model_module_version": "1.2.0",
          "model_name": "LayoutModel",
          "state": {
            "_model_module": "@jupyter-widgets/base",
            "_model_module_version": "1.2.0",
            "_model_name": "LayoutModel",
            "_view_count": null,
            "_view_module": "@jupyter-widgets/base",
            "_view_module_version": "1.2.0",
            "_view_name": "LayoutView",
            "align_content": null,
            "align_items": null,
            "align_self": null,
            "border": null,
            "bottom": null,
            "display": null,
            "flex": null,
            "flex_flow": null,
            "grid_area": null,
            "grid_auto_columns": null,
            "grid_auto_flow": null,
            "grid_auto_rows": null,
            "grid_column": null,
            "grid_gap": null,
            "grid_row": null,
            "grid_template_areas": null,
            "grid_template_columns": null,
            "grid_template_rows": null,
            "height": null,
            "justify_content": null,
            "justify_items": null,
            "left": null,
            "margin": null,
            "max_height": null,
            "max_width": null,
            "min_height": null,
            "min_width": null,
            "object_fit": null,
            "object_position": null,
            "order": null,
            "overflow": null,
            "overflow_x": null,
            "overflow_y": null,
            "padding": null,
            "right": null,
            "top": null,
            "visibility": null,
            "width": null
          }
        },
        "96e88ebf979042b881d31e5bf447c956": {
          "model_module": "@jupyter-widgets/controls",
          "model_module_version": "1.5.0",
          "model_name": "DescriptionStyleModel",
          "state": {
            "_model_module": "@jupyter-widgets/controls",
            "_model_module_version": "1.5.0",
            "_model_name": "DescriptionStyleModel",
            "_view_count": null,
            "_view_module": "@jupyter-widgets/base",
            "_view_module_version": "1.2.0",
            "_view_name": "StyleView",
            "description_width": ""
          }
        },
        "99320230aa154969ac7efcb4bd08e93a": {
          "model_module": "@jupyter-widgets/controls",
          "model_module_version": "1.5.0",
          "model_name": "HTMLModel",
          "state": {
            "_dom_classes": [],
            "_model_module": "@jupyter-widgets/controls",
            "_model_module_version": "1.5.0",
            "_model_name": "HTMLModel",
            "_view_count": null,
            "_view_module": "@jupyter-widgets/controls",
            "_view_module_version": "1.5.0",
            "_view_name": "HTMLView",
            "description": "",
            "description_tooltip": null,
            "layout": "IPY_MODEL_52b73c5ed8354070bbc22b6b74bde680",
            "placeholder": "​",
            "style": "IPY_MODEL_a747919a41ac43ae9baaf22c5654ca02",
            "value": "tokenizer.json: 100%"
          }
        },
        "9b263a3168674657b14223e58611f294": {
          "model_module": "@jupyter-widgets/controls",
          "model_module_version": "1.5.0",
          "model_name": "HBoxModel",
          "state": {
            "_dom_classes": [],
            "_model_module": "@jupyter-widgets/controls",
            "_model_module_version": "1.5.0",
            "_model_name": "HBoxModel",
            "_view_count": null,
            "_view_module": "@jupyter-widgets/controls",
            "_view_module_version": "1.5.0",
            "_view_name": "HBoxView",
            "box_style": "",
            "children": [
              "IPY_MODEL_e02c53a9b05047b0a3bfc9e47735ee43",
              "IPY_MODEL_b15d78f0355e4c55b9ce4480d42bd67c",
              "IPY_MODEL_4bb4b4d8abb34ffbafa2194402d755f8"
            ],
            "layout": "IPY_MODEL_eb60945d776d4b5a92870fa3371471f6"
          }
        },
        "9ed6e953f4d74267a34be03f6b19283a": {
          "model_module": "@jupyter-widgets/controls",
          "model_module_version": "1.5.0",
          "model_name": "ProgressStyleModel",
          "state": {
            "_model_module": "@jupyter-widgets/controls",
            "_model_module_version": "1.5.0",
            "_model_name": "ProgressStyleModel",
            "_view_count": null,
            "_view_module": "@jupyter-widgets/base",
            "_view_module_version": "1.2.0",
            "_view_name": "StyleView",
            "bar_color": null,
            "description_width": ""
          }
        },
        "9f40f478367749d6ba370f73e016891b": {
          "model_module": "@jupyter-widgets/controls",
          "model_module_version": "1.5.0",
          "model_name": "DescriptionStyleModel",
          "state": {
            "_model_module": "@jupyter-widgets/controls",
            "_model_module_version": "1.5.0",
            "_model_name": "DescriptionStyleModel",
            "_view_count": null,
            "_view_module": "@jupyter-widgets/base",
            "_view_module_version": "1.2.0",
            "_view_name": "StyleView",
            "description_width": ""
          }
        },
        "a747919a41ac43ae9baaf22c5654ca02": {
          "model_module": "@jupyter-widgets/controls",
          "model_module_version": "1.5.0",
          "model_name": "DescriptionStyleModel",
          "state": {
            "_model_module": "@jupyter-widgets/controls",
            "_model_module_version": "1.5.0",
            "_model_name": "DescriptionStyleModel",
            "_view_count": null,
            "_view_module": "@jupyter-widgets/base",
            "_view_module_version": "1.2.0",
            "_view_name": "StyleView",
            "description_width": ""
          }
        },
        "ab7f43db105a4c059816b83b8e3050ec": {
          "model_module": "@jupyter-widgets/controls",
          "model_module_version": "1.5.0",
          "model_name": "FloatProgressModel",
          "state": {
            "_dom_classes": [],
            "_model_module": "@jupyter-widgets/controls",
            "_model_module_version": "1.5.0",
            "_model_name": "FloatProgressModel",
            "_view_count": null,
            "_view_module": "@jupyter-widgets/controls",
            "_view_module_version": "1.5.0",
            "_view_name": "ProgressView",
            "bar_style": "success",
            "description": "",
            "description_tooltip": null,
            "layout": "IPY_MODEL_b4e9766eb48c4db09d5e9ec558802d25",
            "max": 28,
            "min": 0,
            "orientation": "horizontal",
            "style": "IPY_MODEL_3496eb8998e64a38bf2ea922eec5f093",
            "value": 28
          }
        },
        "b15d78f0355e4c55b9ce4480d42bd67c": {
          "model_module": "@jupyter-widgets/controls",
          "model_module_version": "1.5.0",
          "model_name": "FloatProgressModel",
          "state": {
            "_dom_classes": [],
            "_model_module": "@jupyter-widgets/controls",
            "_model_module_version": "1.5.0",
            "_model_name": "FloatProgressModel",
            "_view_count": null,
            "_view_module": "@jupyter-widgets/controls",
            "_view_module_version": "1.5.0",
            "_view_name": "ProgressView",
            "bar_style": "success",
            "description": "",
            "description_tooltip": null,
            "layout": "IPY_MODEL_4171dca739984eb68291b7e8f337f372",
            "max": 231508,
            "min": 0,
            "orientation": "horizontal",
            "style": "IPY_MODEL_9ed6e953f4d74267a34be03f6b19283a",
            "value": 231508
          }
        },
        "b4e9766eb48c4db09d5e9ec558802d25": {
          "model_module": "@jupyter-widgets/base",
          "model_module_version": "1.2.0",
          "model_name": "LayoutModel",
          "state": {
            "_model_module": "@jupyter-widgets/base",
            "_model_module_version": "1.2.0",
            "_model_name": "LayoutModel",
            "_view_count": null,
            "_view_module": "@jupyter-widgets/base",
            "_view_module_version": "1.2.0",
            "_view_name": "LayoutView",
            "align_content": null,
            "align_items": null,
            "align_self": null,
            "border": null,
            "bottom": null,
            "display": null,
            "flex": null,
            "flex_flow": null,
            "grid_area": null,
            "grid_auto_columns": null,
            "grid_auto_flow": null,
            "grid_auto_rows": null,
            "grid_column": null,
            "grid_gap": null,
            "grid_row": null,
            "grid_template_areas": null,
            "grid_template_columns": null,
            "grid_template_rows": null,
            "height": null,
            "justify_content": null,
            "justify_items": null,
            "left": null,
            "margin": null,
            "max_height": null,
            "max_width": null,
            "min_height": null,
            "min_width": null,
            "object_fit": null,
            "object_position": null,
            "order": null,
            "overflow": null,
            "overflow_x": null,
            "overflow_y": null,
            "padding": null,
            "right": null,
            "top": null,
            "visibility": null,
            "width": null
          }
        },
        "baa55ed847294bb3a7c954a53c238d32": {
          "model_module": "@jupyter-widgets/controls",
          "model_module_version": "1.5.0",
          "model_name": "HBoxModel",
          "state": {
            "_dom_classes": [],
            "_model_module": "@jupyter-widgets/controls",
            "_model_module_version": "1.5.0",
            "_model_name": "HBoxModel",
            "_view_count": null,
            "_view_module": "@jupyter-widgets/controls",
            "_view_module_version": "1.5.0",
            "_view_name": "HBoxView",
            "box_style": "",
            "children": [
              "IPY_MODEL_c32c896bfdc34392a7ad9e19705063ce",
              "IPY_MODEL_bf865e8dbc534bbd8369dd0f7922d889",
              "IPY_MODEL_3387a402721d49db963b4e008e53fddb"
            ],
            "layout": "IPY_MODEL_dd3ddfe03dcb41969725890fb0683062"
          }
        },
        "bf865e8dbc534bbd8369dd0f7922d889": {
          "model_module": "@jupyter-widgets/controls",
          "model_module_version": "1.5.0",
          "model_name": "FloatProgressModel",
          "state": {
            "_dom_classes": [],
            "_model_module": "@jupyter-widgets/controls",
            "_model_module_version": "1.5.0",
            "_model_name": "FloatProgressModel",
            "_view_count": null,
            "_view_module": "@jupyter-widgets/controls",
            "_view_module_version": "1.5.0",
            "_view_name": "ProgressView",
            "bar_style": "success",
            "description": "",
            "description_tooltip": null,
            "layout": "IPY_MODEL_f0e51be70d014af6b935ad0adda4ee37",
            "max": 440449768,
            "min": 0,
            "orientation": "horizontal",
            "style": "IPY_MODEL_dee07e9f2f6244f599a7df2e5334caea",
            "value": 440449768
          }
        },
        "c32c896bfdc34392a7ad9e19705063ce": {
          "model_module": "@jupyter-widgets/controls",
          "model_module_version": "1.5.0",
          "model_name": "HTMLModel",
          "state": {
            "_dom_classes": [],
            "_model_module": "@jupyter-widgets/controls",
            "_model_module_version": "1.5.0",
            "_model_name": "HTMLModel",
            "_view_count": null,
            "_view_module": "@jupyter-widgets/controls",
            "_view_module_version": "1.5.0",
            "_view_name": "HTMLView",
            "description": "",
            "description_tooltip": null,
            "layout": "IPY_MODEL_7e89d82b8c9748138d79c28506876171",
            "placeholder": "​",
            "style": "IPY_MODEL_96e88ebf979042b881d31e5bf447c956",
            "value": "model.safetensors: 100%"
          }
        },
        "cf4b37cd06c34b6c995b02e30003ff38": {
          "model_module": "@jupyter-widgets/controls",
          "model_module_version": "1.5.0",
          "model_name": "ProgressStyleModel",
          "state": {
            "_model_module": "@jupyter-widgets/controls",
            "_model_module_version": "1.5.0",
            "_model_name": "ProgressStyleModel",
            "_view_count": null,
            "_view_module": "@jupyter-widgets/base",
            "_view_module_version": "1.2.0",
            "_view_name": "StyleView",
            "bar_color": null,
            "description_width": ""
          }
        },
        "dd3ddfe03dcb41969725890fb0683062": {
          "model_module": "@jupyter-widgets/base",
          "model_module_version": "1.2.0",
          "model_name": "LayoutModel",
          "state": {
            "_model_module": "@jupyter-widgets/base",
            "_model_module_version": "1.2.0",
            "_model_name": "LayoutModel",
            "_view_count": null,
            "_view_module": "@jupyter-widgets/base",
            "_view_module_version": "1.2.0",
            "_view_name": "LayoutView",
            "align_content": null,
            "align_items": null,
            "align_self": null,
            "border": null,
            "bottom": null,
            "display": null,
            "flex": null,
            "flex_flow": null,
            "grid_area": null,
            "grid_auto_columns": null,
            "grid_auto_flow": null,
            "grid_auto_rows": null,
            "grid_column": null,
            "grid_gap": null,
            "grid_row": null,
            "grid_template_areas": null,
            "grid_template_columns": null,
            "grid_template_rows": null,
            "height": null,
            "justify_content": null,
            "justify_items": null,
            "left": null,
            "margin": null,
            "max_height": null,
            "max_width": null,
            "min_height": null,
            "min_width": null,
            "object_fit": null,
            "object_position": null,
            "order": null,
            "overflow": null,
            "overflow_x": null,
            "overflow_y": null,
            "padding": null,
            "right": null,
            "top": null,
            "visibility": null,
            "width": null
          }
        },
        "dee07e9f2f6244f599a7df2e5334caea": {
          "model_module": "@jupyter-widgets/controls",
          "model_module_version": "1.5.0",
          "model_name": "ProgressStyleModel",
          "state": {
            "_model_module": "@jupyter-widgets/controls",
            "_model_module_version": "1.5.0",
            "_model_name": "ProgressStyleModel",
            "_view_count": null,
            "_view_module": "@jupyter-widgets/base",
            "_view_module_version": "1.2.0",
            "_view_name": "StyleView",
            "bar_color": null,
            "description_width": ""
          }
        },
        "e02c53a9b05047b0a3bfc9e47735ee43": {
          "model_module": "@jupyter-widgets/controls",
          "model_module_version": "1.5.0",
          "model_name": "HTMLModel",
          "state": {
            "_dom_classes": [],
            "_model_module": "@jupyter-widgets/controls",
            "_model_module_version": "1.5.0",
            "_model_name": "HTMLModel",
            "_view_count": null,
            "_view_module": "@jupyter-widgets/controls",
            "_view_module_version": "1.5.0",
            "_view_name": "HTMLView",
            "description": "",
            "description_tooltip": null,
            "layout": "IPY_MODEL_ff7286cb5f4e4afdb9b8403265e51f0c",
            "placeholder": "​",
            "style": "IPY_MODEL_fefd62e5e0064bb6a8ed1f750309b8a1",
            "value": "vocab.txt: 100%"
          }
        },
        "e1f85d855dc54d93b07370119c3fb96b": {
          "model_module": "@jupyter-widgets/base",
          "model_module_version": "1.2.0",
          "model_name": "LayoutModel",
          "state": {
            "_model_module": "@jupyter-widgets/base",
            "_model_module_version": "1.2.0",
            "_model_name": "LayoutModel",
            "_view_count": null,
            "_view_module": "@jupyter-widgets/base",
            "_view_module_version": "1.2.0",
            "_view_name": "LayoutView",
            "align_content": null,
            "align_items": null,
            "align_self": null,
            "border": null,
            "bottom": null,
            "display": null,
            "flex": null,
            "flex_flow": null,
            "grid_area": null,
            "grid_auto_columns": null,
            "grid_auto_flow": null,
            "grid_auto_rows": null,
            "grid_column": null,
            "grid_gap": null,
            "grid_row": null,
            "grid_template_areas": null,
            "grid_template_columns": null,
            "grid_template_rows": null,
            "height": null,
            "justify_content": null,
            "justify_items": null,
            "left": null,
            "margin": null,
            "max_height": null,
            "max_width": null,
            "min_height": null,
            "min_width": null,
            "object_fit": null,
            "object_position": null,
            "order": null,
            "overflow": null,
            "overflow_x": null,
            "overflow_y": null,
            "padding": null,
            "right": null,
            "top": null,
            "visibility": null,
            "width": null
          }
        },
        "eb60945d776d4b5a92870fa3371471f6": {
          "model_module": "@jupyter-widgets/base",
          "model_module_version": "1.2.0",
          "model_name": "LayoutModel",
          "state": {
            "_model_module": "@jupyter-widgets/base",
            "_model_module_version": "1.2.0",
            "_model_name": "LayoutModel",
            "_view_count": null,
            "_view_module": "@jupyter-widgets/base",
            "_view_module_version": "1.2.0",
            "_view_name": "LayoutView",
            "align_content": null,
            "align_items": null,
            "align_self": null,
            "border": null,
            "bottom": null,
            "display": null,
            "flex": null,
            "flex_flow": null,
            "grid_area": null,
            "grid_auto_columns": null,
            "grid_auto_flow": null,
            "grid_auto_rows": null,
            "grid_column": null,
            "grid_gap": null,
            "grid_row": null,
            "grid_template_areas": null,
            "grid_template_columns": null,
            "grid_template_rows": null,
            "height": null,
            "justify_content": null,
            "justify_items": null,
            "left": null,
            "margin": null,
            "max_height": null,
            "max_width": null,
            "min_height": null,
            "min_width": null,
            "object_fit": null,
            "object_position": null,
            "order": null,
            "overflow": null,
            "overflow_x": null,
            "overflow_y": null,
            "padding": null,
            "right": null,
            "top": null,
            "visibility": null,
            "width": null
          }
        },
        "ec7c4858c9be4d359b77d390c432dbbb": {
          "model_module": "@jupyter-widgets/base",
          "model_module_version": "1.2.0",
          "model_name": "LayoutModel",
          "state": {
            "_model_module": "@jupyter-widgets/base",
            "_model_module_version": "1.2.0",
            "_model_name": "LayoutModel",
            "_view_count": null,
            "_view_module": "@jupyter-widgets/base",
            "_view_module_version": "1.2.0",
            "_view_name": "LayoutView",
            "align_content": null,
            "align_items": null,
            "align_self": null,
            "border": null,
            "bottom": null,
            "display": null,
            "flex": null,
            "flex_flow": null,
            "grid_area": null,
            "grid_auto_columns": null,
            "grid_auto_flow": null,
            "grid_auto_rows": null,
            "grid_column": null,
            "grid_gap": null,
            "grid_row": null,
            "grid_template_areas": null,
            "grid_template_columns": null,
            "grid_template_rows": null,
            "height": null,
            "justify_content": null,
            "justify_items": null,
            "left": null,
            "margin": null,
            "max_height": null,
            "max_width": null,
            "min_height": null,
            "min_width": null,
            "object_fit": null,
            "object_position": null,
            "order": null,
            "overflow": null,
            "overflow_x": null,
            "overflow_y": null,
            "padding": null,
            "right": null,
            "top": null,
            "visibility": null,
            "width": null
          }
        },
        "f0e51be70d014af6b935ad0adda4ee37": {
          "model_module": "@jupyter-widgets/base",
          "model_module_version": "1.2.0",
          "model_name": "LayoutModel",
          "state": {
            "_model_module": "@jupyter-widgets/base",
            "_model_module_version": "1.2.0",
            "_model_name": "LayoutModel",
            "_view_count": null,
            "_view_module": "@jupyter-widgets/base",
            "_view_module_version": "1.2.0",
            "_view_name": "LayoutView",
            "align_content": null,
            "align_items": null,
            "align_self": null,
            "border": null,
            "bottom": null,
            "display": null,
            "flex": null,
            "flex_flow": null,
            "grid_area": null,
            "grid_auto_columns": null,
            "grid_auto_flow": null,
            "grid_auto_rows": null,
            "grid_column": null,
            "grid_gap": null,
            "grid_row": null,
            "grid_template_areas": null,
            "grid_template_columns": null,
            "grid_template_rows": null,
            "height": null,
            "justify_content": null,
            "justify_items": null,
            "left": null,
            "margin": null,
            "max_height": null,
            "max_width": null,
            "min_height": null,
            "min_width": null,
            "object_fit": null,
            "object_position": null,
            "order": null,
            "overflow": null,
            "overflow_x": null,
            "overflow_y": null,
            "padding": null,
            "right": null,
            "top": null,
            "visibility": null,
            "width": null
          }
        },
        "f1fb5bd99db34449aaa0775649c33ade": {
          "model_module": "@jupyter-widgets/controls",
          "model_module_version": "1.5.0",
          "model_name": "HTMLModel",
          "state": {
            "_dom_classes": [],
            "_model_module": "@jupyter-widgets/controls",
            "_model_module_version": "1.5.0",
            "_model_name": "HTMLModel",
            "_view_count": null,
            "_view_module": "@jupyter-widgets/controls",
            "_view_module_version": "1.5.0",
            "_view_name": "HTMLView",
            "description": "",
            "description_tooltip": null,
            "layout": "IPY_MODEL_942cfc1c25e54f088288dd44c9c708e9",
            "placeholder": "​",
            "style": "IPY_MODEL_900a26c928b74d668a77dc97cc22995e",
            "value": " 466k/466k [00:00&lt;00:00, 22.6MB/s]"
          }
        },
        "faa00d6df14a4229b40388dbf79b911f": {
          "model_module": "@jupyter-widgets/base",
          "model_module_version": "1.2.0",
          "model_name": "LayoutModel",
          "state": {
            "_model_module": "@jupyter-widgets/base",
            "_model_module_version": "1.2.0",
            "_model_name": "LayoutModel",
            "_view_count": null,
            "_view_module": "@jupyter-widgets/base",
            "_view_module_version": "1.2.0",
            "_view_name": "LayoutView",
            "align_content": null,
            "align_items": null,
            "align_self": null,
            "border": null,
            "bottom": null,
            "display": null,
            "flex": null,
            "flex_flow": null,
            "grid_area": null,
            "grid_auto_columns": null,
            "grid_auto_flow": null,
            "grid_auto_rows": null,
            "grid_column": null,
            "grid_gap": null,
            "grid_row": null,
            "grid_template_areas": null,
            "grid_template_columns": null,
            "grid_template_rows": null,
            "height": null,
            "justify_content": null,
            "justify_items": null,
            "left": null,
            "margin": null,
            "max_height": null,
            "max_width": null,
            "min_height": null,
            "min_width": null,
            "object_fit": null,
            "object_position": null,
            "order": null,
            "overflow": null,
            "overflow_x": null,
            "overflow_y": null,
            "padding": null,
            "right": null,
            "top": null,
            "visibility": null,
            "width": null
          }
        },
        "fefd62e5e0064bb6a8ed1f750309b8a1": {
          "model_module": "@jupyter-widgets/controls",
          "model_module_version": "1.5.0",
          "model_name": "DescriptionStyleModel",
          "state": {
            "_model_module": "@jupyter-widgets/controls",
            "_model_module_version": "1.5.0",
            "_model_name": "DescriptionStyleModel",
            "_view_count": null,
            "_view_module": "@jupyter-widgets/base",
            "_view_module_version": "1.2.0",
            "_view_name": "StyleView",
            "description_width": ""
          }
        },
        "ff7286cb5f4e4afdb9b8403265e51f0c": {
          "model_module": "@jupyter-widgets/base",
          "model_module_version": "1.2.0",
          "model_name": "LayoutModel",
          "state": {
            "_model_module": "@jupyter-widgets/base",
            "_model_module_version": "1.2.0",
            "_model_name": "LayoutModel",
            "_view_count": null,
            "_view_module": "@jupyter-widgets/base",
            "_view_module_version": "1.2.0",
            "_view_name": "LayoutView",
            "align_content": null,
            "align_items": null,
            "align_self": null,
            "border": null,
            "bottom": null,
            "display": null,
            "flex": null,
            "flex_flow": null,
            "grid_area": null,
            "grid_auto_columns": null,
            "grid_auto_flow": null,
            "grid_auto_rows": null,
            "grid_column": null,
            "grid_gap": null,
            "grid_row": null,
            "grid_template_areas": null,
            "grid_template_columns": null,
            "grid_template_rows": null,
            "height": null,
            "justify_content": null,
            "justify_items": null,
            "left": null,
            "margin": null,
            "max_height": null,
            "max_width": null,
            "min_height": null,
            "min_width": null,
            "object_fit": null,
            "object_position": null,
            "order": null,
            "overflow": null,
            "overflow_x": null,
            "overflow_y": null,
            "padding": null,
            "right": null,
            "top": null,
            "visibility": null,
            "width": null
          }
        }
      }
    }
  },
  "nbformat": 4,
  "nbformat_minor": 0
}
